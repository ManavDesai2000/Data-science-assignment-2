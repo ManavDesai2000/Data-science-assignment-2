{
  "cells": [
    {
      "cell_type": "markdown",
      "metadata": {
        "id": "V1jINc0tGt0H"
      },
      "source": [
        "# Assignment 2\n",
        "## Assignment submission header\n",
        "### Submission preparation instructions\n",
        "Please provide the names and Drexel email addresses of all group members. If applicable, provide notes on any tutoring support received toward the completion of this submission.\n",
        "\n",
        "### Assignment submission group\n",
        "- Group member 1: Manav (md3834@drexel.edu)\n"
      ]
    },
    {
      "cell_type": "code",
      "execution_count": 7,
      "metadata": {
        "colab": {
          "base_uri": "https://localhost:8080/"
        },
        "id": "6Au5qfFhiUF1",
        "outputId": "f3f77aab-2667-46da-d6d4-43b4e51679e3"
      },
      "outputs": [
        {
          "output_type": "stream",
          "name": "stderr",
          "text": [
            "[nltk_data] Downloading package punkt to /root/nltk_data...\n",
            "[nltk_data]   Unzipping tokenizers/punkt.zip.\n"
          ]
        },
        {
          "output_type": "execute_result",
          "data": {
            "text/plain": [
              "True"
            ]
          },
          "metadata": {},
          "execution_count": 7
        }
      ],
      "source": [
        "import nltk\n",
        "nltk.download('punkt')"
      ]
    },
    {
      "cell_type": "markdown",
      "metadata": {
        "id": "PKaSiFu_Gt0J"
      },
      "source": [
        "# Part 1 (25 points)\n",
        "\n",
        "In this section, convert the comma-delimiated format provided for schedules (as shown [here](http://www3.septa.org/ccstations/me/sched_data.csv)) into a functioning schedule (as shown [here](http://www3.septa.org/ccstations/me/)). Note: Additional documentation may be found [here](http://www3.septa.org/)."
      ]
    },
    {
      "cell_type": "markdown",
      "metadata": {
        "id": "bzuxmEfFO9SV"
      },
      "source": [
        "__1a.__ (3 points) Update the station code to get the schedule for Suburban Station using SEPTA's API (as shown in the example in __Section 3.1.3__ of the lecture notes). Print the time at which the request was made. Print and examine the second item in `schedule`."
      ]
    },
    {
      "cell_type": "code",
      "execution_count": 40,
      "metadata": {
        "colab": {
          "base_uri": "https://localhost:8080/"
        },
        "id": "x1tuoWoQGt0J",
        "outputId": "086ec9e6-8162-45db-9b7b-a5e88d9fbe28"
      },
      "outputs": [
        {
          "output_type": "stream",
          "name": "stdout",
          "text": [
            "Access time: 2024-05-15 00:48:04.984975\n",
            "['R4S=08:59',\n",
            " 'Airport',\n",
            " '6',\n",
            " ' 3 LATE',\n",
            " 'LOCAL                    ',\n",
            " '8467  ',\n",
            " '<_NEXT_MSG>09:29',\n",
            " 'Airport',\n",
            " '6',\n",
            " 'ON TIME',\n",
            " 'LOCAL                    ',\n",
            " '469   ',\n",
            " '<_NEXT_MSG>09:59',\n",
            " 'Airport',\n",
            " '6',\n",
            " 'ON TIME',\n",
            " 'LOCAL                    ',\n",
            " '8471  ',\n",
            " '<_NEXT_MSG>10:29',\n",
            " 'Airport',\n",
            " '6',\n",
            " 'ON TIME',\n",
            " 'LOCAL                    ',\n",
            " '473   ',\n",
            " '']\n"
          ]
        }
      ],
      "source": [
        "import re, requests, csv\n",
        "from pprint import pprint\n",
        "from datetime import datetime as dt\n",
        "\n",
        "#---Your code starts here---\n",
        "station_code = '30th'\n",
        "#---Your code stops here---\n",
        "schedule_url = \"\".join([\"http://www3.septa.org/ccstations/\", station_code, \"/sched_data.csv\"])\n",
        "response = requests.get(schedule_url)\n",
        "schedule = list(csv.reader(response.text.strip().split(\"\\n\")))\n",
        "\n",
        "print(\"Access time:\", dt.now())\n",
        "#---Your code starts here---\n",
        "pprint(schedule[1])\n",
        "#---Your code stops here---"
      ]
    },
    {
      "cell_type": "markdown",
      "metadata": {
        "id": "ry0RrNWcGt0N"
      },
      "source": [
        "__1b.__ (8 points) Create a list called `trains` that extracts three pieces of information from `schedule` for each train: (1) scheduled arrival time, (2) destination, and (3) status. Store this information as a list of lists. Print the first five lists in `trains`. (Note: There may be a variable number of trains for each item in `schedule`, but each train has a fixed number of attributes.)"
      ]
    },
    {
      "cell_type": "code",
      "execution_count": 41,
      "metadata": {
        "colab": {
          "base_uri": "https://localhost:8080/"
        },
        "id": "8Bg9cpwYGt0O",
        "outputId": "79b7444c-e259-48d5-aee2-ea371647478e"
      },
      "outputs": [
        {
          "output_type": "execute_result",
          "data": {
            "text/plain": [
              "[['08:59', 'Airport', ' 3 LATE'],\n",
              " ['09:00', 'Warminster', 'ON TIME'],\n",
              " ['10:39', 'Wilmington', 'ON TIME'],\n",
              " ['09:15', 'West Trenton', 'ON TIME'],\n",
              " ['09:03', 'Wawa', 'ON TIME']]"
            ]
          },
          "metadata": {},
          "execution_count": 41
        }
      ],
      "source": [
        "trains = []\n",
        "\n",
        "#---Your code starts here---\n",
        "for train_info in schedule:\n",
        "    # Check if the train_info list has at least four elements\n",
        "    if len(train_info) >= 4:\n",
        "        # Extract scheduled arrival time, destination, and status\n",
        "        arrival_time = train_info[0].split('=')[1]  # Split and take the second part\n",
        "        destination = train_info[1]\n",
        "        status = train_info[3]\n",
        "\n",
        "        # Store the extracted information as a list\n",
        "        train = [arrival_time, destination, status]\n",
        "\n",
        "        # Append the list to the 'trains' list\n",
        "        trains.append(train)\n",
        "#---Your code stops here---\n",
        "\n",
        "trains[:5]"
      ]
    },
    {
      "cell_type": "markdown",
      "metadata": {
        "id": "1INRIOOuGt0R"
      },
      "source": [
        "__1c.__ (5 points) The arrival times are listed in 12-hour time, but they lack AM/PM information. Update `trains` by using the current system time and the fact that the schedule information contains only trains arriving in the next few hours to fix the problem (the updated arrival times should have the following format: mm/dd/yyyy hh:mm[AM/PM]). Print the first five items in the updated list. (Note: Make sure your method can handle trains schedule to arrive after midnight.)"
      ]
    },
    {
      "cell_type": "code",
      "execution_count": 42,
      "metadata": {
        "colab": {
          "base_uri": "https://localhost:8080/"
        },
        "id": "fFQGZ3h_Gt0R",
        "outputId": "f15f8343-0069-45bd-a123-e32ccd3a4bb3"
      },
      "outputs": [
        {
          "output_type": "execute_result",
          "data": {
            "text/plain": [
              "[['05/14/2024 08:59PM', 'Airport', ' 3 LATE'],\n",
              " ['05/14/2024 09:00PM', 'Warminster', 'ON TIME'],\n",
              " ['05/14/2024 10:39PM', 'Wilmington', 'ON TIME'],\n",
              " ['05/14/2024 09:15PM', 'West Trenton', 'ON TIME'],\n",
              " ['05/14/2024 09:03PM', 'Wawa', 'ON TIME']]"
            ]
          },
          "metadata": {},
          "execution_count": 42
        }
      ],
      "source": [
        "from pytz import timezone\n",
        "\n",
        "access_time = dt.now(timezone('US/Eastern'))\n",
        "access_hour = access_time.hour if access_time.hour else 12\n",
        "access_date = access_time.strftime(\"%m/%d/%Y\")\n",
        "\n",
        "if access_hour >= 12:\n",
        "  access_hour -= 12\n",
        "  current_am_or_pm = [\"PM\", \"AM\"]\n",
        "else:\n",
        "  current_am_or_pm = [\"AM\", \"PM\"]\n",
        "\n",
        "for train in trains:\n",
        "    arrival_time_str = train[0]\n",
        "    arrival_hour, arrival_minute = map(int, arrival_time_str.split(\":\"))\n",
        "\n",
        "    # Determine AM/PM for the arrival time\n",
        "    if access_hour <= arrival_hour < access_hour + 12:\n",
        "        am_pm = current_am_or_pm[0]\n",
        "    else:\n",
        "        am_pm = current_am_or_pm[1]\n",
        "\n",
        "    formatted_arrival_time = f\"{access_date} {arrival_hour:02}:{arrival_minute:02}{am_pm}\"\n",
        "    train[0] = formatted_arrival_time  # Update the arrival time in the train list\n",
        "\n",
        "  #---Your code stops here---\n",
        "\n",
        "\n",
        "trains[:5]"
      ]
    },
    {
      "cell_type": "markdown",
      "metadata": {
        "id": "NVUcJhbrGt0Q"
      },
      "source": [
        "__1d.__ (4 points) Complete the `parse_time` function below, which takes a schedule such as that stored in `trains` as input and parses the arrival time data using `dateutil.parser`. The function should return a list that includes three pieces of information: (1) parsed arrival time, (2) destination, and (3) status. Prior to returning, sort the data in ascending order of arrival time. Print the first five items in the parsed data."
      ]
    },
    {
      "cell_type": "code",
      "execution_count": 43,
      "metadata": {
        "id": "g86BVBIjGt0R"
      },
      "outputs": [],
      "source": [
        "from dateutil import parser as dateparser\n",
        "\n",
        "def parse_times(trains):\n",
        "\n",
        "    datetime_parsed_trains = []\n",
        "\n",
        "    #---Your code starts here---\n",
        "    for train in trains:\n",
        "        arrival_time_str = train[0]\n",
        "        destination = train[1]\n",
        "        status = train[2]\n",
        "\n",
        "        # Parse the arrival time using dateutil.parser\n",
        "        parsed_arrival_time = dateparser.parse(arrival_time_str)\n",
        "\n",
        "        # Append the parsed information as a tuple to the list\n",
        "        datetime_parsed_trains.append((parsed_arrival_time, destination, status))\n",
        "    #---Your code stops here---\n",
        "\n",
        "    return sorted(datetime_parsed_trains, key = lambda x: x[0])"
      ]
    },
    {
      "cell_type": "code",
      "execution_count": 44,
      "metadata": {
        "colab": {
          "base_uri": "https://localhost:8080/"
        },
        "id": "RlF8lIo4Gt0R",
        "outputId": "39f0d5b6-d9d2-41c3-a233-d6cd10d6ce4b"
      },
      "outputs": [
        {
          "output_type": "execute_result",
          "data": {
            "text/plain": [
              "[(datetime.datetime(2024, 5, 14, 20, 44), 'Trenton', ' 5 LATE'),\n",
              " (datetime.datetime(2024, 5, 14, 20, 44), 'Trenton', ' 5 LATE'),\n",
              " (datetime.datetime(2024, 5, 14, 20, 52), 'Norristown', ' 1 LATE'),\n",
              " (datetime.datetime(2024, 5, 14, 20, 52), 'Chestnut H West', 'ON TIME'),\n",
              " (datetime.datetime(2024, 5, 14, 20, 52), 'Norristown', ' 1 LATE')]"
            ]
          },
          "metadata": {},
          "execution_count": 44
        }
      ],
      "source": [
        "parsed_trains = parse_times(trains)\n",
        "parsed_trains[:5]"
      ]
    },
    {
      "cell_type": "markdown",
      "metadata": {
        "id": "JUsfMMJwGt0S"
      },
      "source": [
        "__1e.__ (5 points) Complete the `save_schedule` function to create hourly log files with train information. File names should be formatted as `\"data/trains/%Y-%m%-d%-H%.txt\"`. Files should contain the updated arrival time, destination, and status of each train scheduled to arrive within the hour, with one train per line. Apply `save_schedule` to the parsed version of the train schedule, and print the contents of the `\"data/trains/\"` directory."
      ]
    },
    {
      "cell_type": "code",
      "execution_count": 45,
      "metadata": {
        "colab": {
          "base_uri": "https://localhost:8080/"
        },
        "id": "Yr4qobQhGt0S",
        "outputId": "872b9953-c507-4d60-97a2-8c6af954af7a"
      },
      "outputs": [
        {
          "output_type": "stream",
          "name": "stdout",
          "text": [
            "['2024-05-14-20.txt', '2024-05-14-21.txt', '2024-05-14-22.txt']\n"
          ]
        }
      ],
      "source": [
        "import os\n",
        "\n",
        "def save_schedule(datetime_parsed_trains_24_hour):\n",
        "    os.system(\"mkdir -p data/trains/\")\n",
        "\n",
        "    #---Your code starts here---\n",
        "    # Create a dictionary to hold the trains for each hour\n",
        "    hourly_trains = {}\n",
        "\n",
        "    for train in datetime_parsed_trains_24_hour:\n",
        "        arrival_time, destination, status = train\n",
        "        hour_str = arrival_time.strftime(\"%Y-%m-%d-%H\")\n",
        "\n",
        "        if hour_str not in hourly_trains:\n",
        "            hourly_trains[hour_str] = []\n",
        "\n",
        "        # Format the train information\n",
        "        train_info = \"{} {} {}\".format(arrival_time.strftime('%m/%d/%Y %I:%M%p'), destination, status)\n",
        "        hourly_trains[hour_str].append(train_info)\n",
        "\n",
        "    # Write the train information to the respective files\n",
        "    for hour, trains in hourly_trains.items():\n",
        "        file_path = \"data/trains/{}.txt\".format(hour)\n",
        "        with open(file_path, 'w') as f:\n",
        "            for train in trains:\n",
        "                f.write(train + \"\\n\")\n",
        "    #---Your code stops here---\n",
        "\n",
        "# Apply save_schedule to the parsed version of the train schedule\n",
        "save_schedule(parsed_trains)\n",
        "\n",
        "# Print the contents of the \"data/trains/\" directory\n",
        "print([x for x in os.listdir(\"data/trains/\") if re.search(parsed_trains[0][0].strftime(\"%Y-%m-%d-\\d\\d.txt\"), x)])\n"
      ]
    },
    {
      "cell_type": "markdown",
      "metadata": {
        "id": "I-1cdxy5ODPv"
      },
      "source": [
        "# Part 2 (25 points)\n",
        "For this section, you will use the Sportradar Soccer v4 API to download and process the results of matches in the 2020-2021 season of the English Premier League. API documentation can be found [here.](https://api.sportradar.com/soccer/trial/v4/openapi/swagger/index.html#/seasons/getSeasons)"
      ]
    },
    {
      "cell_type": "markdown",
      "metadata": {
        "id": "hoWd7lADOPp4"
      },
      "source": [
        "__2a.__ (4 points) Sign up for a Sportradar developer account and obtain an API key for the \"Soccer v4\" endpoints. Once you've registered an app, create a key, and update `soccer_key`. After making the API request below to request summary information from the 2022&ndash;2023 season, print the first item under \"summaries\" in `season_summary` and explore the data.  "
      ]
    },
    {
      "cell_type": "code",
      "execution_count": 33,
      "metadata": {
        "colab": {
          "base_uri": "https://localhost:8080/"
        },
        "id": "S0knjEPQOIYR",
        "outputId": "8f22fe5b-845d-4b01-a286-115542cd5f2f"
      },
      "outputs": [
        {
          "output_type": "execute_result",
          "data": {
            "text/plain": [
              "{'sport_event': {'id': 'sr:sport_event:34246413',\n",
              "  'start_time': '2022-07-15T17:00:00+00:00',\n",
              "  'start_time_confirmed': True,\n",
              "  'sport_event_context': {'sport': {'id': 'sr:sport:1', 'name': 'Soccer'},\n",
              "   'category': {'id': 'sr:category:21',\n",
              "    'name': 'Russia',\n",
              "    'country_code': 'RUS'},\n",
              "   'competition': {'id': 'sr:competition:203',\n",
              "    'name': 'Premier League',\n",
              "    'gender': 'men'},\n",
              "   'season': {'id': 'sr:season:94193',\n",
              "    'name': 'Premier League 22/23',\n",
              "    'start_date': '2022-07-15',\n",
              "    'end_date': '2023-06-10',\n",
              "    'year': '22/23',\n",
              "    'competition_id': 'sr:competition:203'},\n",
              "   'stage': {'order': 1,\n",
              "    'type': 'league',\n",
              "    'phase': 'regular season',\n",
              "    'start_date': '2022-07-15',\n",
              "    'end_date': '2023-06-03',\n",
              "    'year': '22/23'},\n",
              "   'round': {'number': 1},\n",
              "   'groups': [{'id': 'sr:league:66085', 'name': 'Premier League 22/23'}]},\n",
              "  'coverage': {'type': 'sport_event',\n",
              "   'sport_event_properties': {'lineups': True,\n",
              "    'venue': True,\n",
              "    'extended_player_stats': False,\n",
              "    'extended_team_stats': False,\n",
              "    'basic_play_by_play': True,\n",
              "    'basic_player_stats': True,\n",
              "    'basic_team_stats': True}},\n",
              "  'competitors': [{'id': 'sr:competitor:2338',\n",
              "    'name': 'FK Khimki',\n",
              "    'country': 'Russia',\n",
              "    'country_code': 'RUS',\n",
              "    'abbreviation': 'KHI',\n",
              "    'qualifier': 'home',\n",
              "    'gender': 'male'},\n",
              "   {'id': 'sr:competitor:2321',\n",
              "    'name': 'FK Zenit Saint Petersburg',\n",
              "    'country': 'Russia',\n",
              "    'country_code': 'RUS',\n",
              "    'abbreviation': 'ZEN',\n",
              "    'qualifier': 'away',\n",
              "    'gender': 'male'}],\n",
              "  'venue': {'id': 'sr:venue:1288',\n",
              "   'name': 'Arena Khimki',\n",
              "   'capacity': 18636,\n",
              "   'city_name': 'Khimki',\n",
              "   'country_name': 'Russia',\n",
              "   'map_coordinates': '55.885300,37.454200',\n",
              "   'country_code': 'RUS',\n",
              "   'timezone': 'Europe/Moscow'},\n",
              "  'sport_event_conditions': {'ground': {'neutral': False}}},\n",
              " 'sport_event_status': {'status': 'closed',\n",
              "  'match_status': 'ended',\n",
              "  'home_score': 1,\n",
              "  'away_score': 1,\n",
              "  'period_scores': [{'home_score': 0,\n",
              "    'away_score': 1,\n",
              "    'type': 'regular_period',\n",
              "    'number': 1},\n",
              "   {'home_score': 1, 'away_score': 0, 'type': 'regular_period', 'number': 2}],\n",
              "  'match_tie': True},\n",
              " 'statistics': {'totals': {'competitors': [{'id': 'sr:competitor:2338',\n",
              "     'name': 'FK Khimki',\n",
              "     'abbreviation': 'KHI',\n",
              "     'qualifier': 'home',\n",
              "     'statistics': {'cards_given': 1,\n",
              "      'red_cards': 0,\n",
              "      'substitutions': 5,\n",
              "      'yellow_cards': 1,\n",
              "      'yellow_red_cards': 0},\n",
              "     'players': [{'statistics': {'assists': 0,\n",
              "        'goals_scored': 0,\n",
              "        'own_goals': 0,\n",
              "        'red_cards': 0,\n",
              "        'substituted_in': 0,\n",
              "        'substituted_out': 1,\n",
              "        'yellow_cards': 0,\n",
              "        'yellow_red_cards': 0},\n",
              "       'id': 'sr:player:43055',\n",
              "       'name': 'Glushakov, Denis',\n",
              "       'starter': True},\n",
              "      {'statistics': {'assists': 0,\n",
              "        'goals_scored': 0,\n",
              "        'own_goals': 0,\n",
              "        'red_cards': 0,\n",
              "        'substituted_in': 0,\n",
              "        'substituted_out': 0,\n",
              "        'yellow_cards': 0,\n",
              "        'yellow_red_cards': 0},\n",
              "       'id': 'sr:player:62370',\n",
              "       'name': 'Nikitin, Aleksey',\n",
              "       'starter': True},\n",
              "      {'statistics': {'assists': 0,\n",
              "        'goals_scored': 0,\n",
              "        'own_goals': 0,\n",
              "        'red_cards': 0,\n",
              "        'substituted_in': 0,\n",
              "        'substituted_out': 0,\n",
              "        'yellow_cards': 0,\n",
              "        'yellow_red_cards': 0},\n",
              "       'id': 'sr:player:63182',\n",
              "       'name': 'Chezhiya, Irakli',\n",
              "       'starter': False},\n",
              "      {'statistics': {'assists': 0,\n",
              "        'goals_scored': 0,\n",
              "        'own_goals': 0,\n",
              "        'red_cards': 0,\n",
              "        'substituted_in': 0,\n",
              "        'substituted_out': 0,\n",
              "        'yellow_cards': 0,\n",
              "        'yellow_red_cards': 0},\n",
              "       'id': 'sr:player:149063',\n",
              "       'name': 'Idowu, Brian',\n",
              "       'starter': True},\n",
              "      {'statistics': {'assists': 0,\n",
              "        'goals_scored': 0,\n",
              "        'own_goals': 0,\n",
              "        'red_cards': 0,\n",
              "        'substituted_in': 0,\n",
              "        'substituted_out': 1,\n",
              "        'yellow_cards': 0,\n",
              "        'yellow_red_cards': 0},\n",
              "       'id': 'sr:player:149235',\n",
              "       'name': 'Rudenko, Aleksandr',\n",
              "       'starter': True},\n",
              "      {'statistics': {'assists': 0,\n",
              "        'goals_scored': 0,\n",
              "        'own_goals': 0,\n",
              "        'red_cards': 0,\n",
              "        'substituted_in': 0,\n",
              "        'substituted_out': 0,\n",
              "        'yellow_cards': 0,\n",
              "        'yellow_red_cards': 0},\n",
              "       'id': 'sr:player:150410',\n",
              "       'name': 'Tikhiy, Dmitri',\n",
              "       'starter': True},\n",
              "      {'statistics': {'assists': 0,\n",
              "        'goals_scored': 0,\n",
              "        'own_goals': 0,\n",
              "        'red_cards': 0,\n",
              "        'substituted_in': 0,\n",
              "        'substituted_out': 0,\n",
              "        'yellow_cards': 0,\n",
              "        'yellow_red_cards': 0},\n",
              "       'id': 'sr:player:156225',\n",
              "       'name': 'Gudiev, Vitali',\n",
              "       'starter': False},\n",
              "      {'statistics': {'assists': 0,\n",
              "        'goals_scored': 1,\n",
              "        'own_goals': 0,\n",
              "        'red_cards': 0,\n",
              "        'substituted_in': 1,\n",
              "        'substituted_out': 0,\n",
              "        'yellow_cards': 0,\n",
              "        'yellow_red_cards': 0},\n",
              "       'id': 'sr:player:204490',\n",
              "       'name': 'Mirzov, Reziuan',\n",
              "       'starter': False},\n",
              "      {'statistics': {'assists': 0,\n",
              "        'goals_scored': 0,\n",
              "        'own_goals': 0,\n",
              "        'red_cards': 0,\n",
              "        'substituted_in': 0,\n",
              "        'substituted_out': 0,\n",
              "        'yellow_cards': 0,\n",
              "        'yellow_red_cards': 0},\n",
              "       'id': 'sr:player:227452',\n",
              "       'name': 'Davydov, Denis',\n",
              "       'starter': False},\n",
              "      {'statistics': {'assists': 0,\n",
              "        'goals_scored': 0,\n",
              "        'own_goals': 0,\n",
              "        'red_cards': 0,\n",
              "        'substituted_in': 0,\n",
              "        'substituted_out': 0,\n",
              "        'yellow_cards': 0,\n",
              "        'yellow_red_cards': 0},\n",
              "       'id': 'sr:player:243071',\n",
              "       'name': 'Lantratov, Ilya',\n",
              "       'starter': True},\n",
              "      {'statistics': {'assists': 0,\n",
              "        'goals_scored': 0,\n",
              "        'own_goals': 0,\n",
              "        'red_cards': 0,\n",
              "        'substituted_in': 0,\n",
              "        'substituted_out': 0,\n",
              "        'yellow_cards': 0,\n",
              "        'yellow_red_cards': 0},\n",
              "       'id': 'sr:player:280641',\n",
              "       'name': 'Mitryushkin, Anton',\n",
              "       'starter': False},\n",
              "      {'statistics': {'assists': 0,\n",
              "        'goals_scored': 0,\n",
              "        'own_goals': 0,\n",
              "        'red_cards': 0,\n",
              "        'substituted_in': 1,\n",
              "        'substituted_out': 0,\n",
              "        'yellow_cards': 0,\n",
              "        'yellow_red_cards': 0},\n",
              "       'id': 'sr:player:280661',\n",
              "       'name': 'Zuev, Aleksandr',\n",
              "       'starter': False},\n",
              "      {'statistics': {'assists': 0,\n",
              "        'goals_scored': 0,\n",
              "        'own_goals': 0,\n",
              "        'red_cards': 0,\n",
              "        'substituted_in': 1,\n",
              "        'substituted_out': 0,\n",
              "        'yellow_cards': 0,\n",
              "        'yellow_red_cards': 0},\n",
              "       'id': 'sr:player:356178',\n",
              "       'name': 'Glavcic, Nemanja',\n",
              "       'starter': False},\n",
              "      {'statistics': {'assists': 0,\n",
              "        'goals_scored': 0,\n",
              "        'own_goals': 0,\n",
              "        'red_cards': 0,\n",
              "        'substituted_in': 0,\n",
              "        'substituted_out': 0,\n",
              "        'yellow_cards': 0,\n",
              "        'yellow_red_cards': 0},\n",
              "       'id': 'sr:player:366698',\n",
              "       'name': 'Filin, Aleksandr',\n",
              "       'starter': True},\n",
              "      {'statistics': {'assists': 0,\n",
              "        'goals_scored': 0,\n",
              "        'own_goals': 0,\n",
              "        'red_cards': 0,\n",
              "        'substituted_in': 0,\n",
              "        'substituted_out': 0,\n",
              "        'yellow_cards': 0,\n",
              "        'yellow_red_cards': 0},\n",
              "       'id': 'sr:player:544040',\n",
              "       'name': 'Danilkin, Egor',\n",
              "       'starter': False},\n",
              "      {'statistics': {'assists': 0,\n",
              "        'goals_scored': 0,\n",
              "        'own_goals': 0,\n",
              "        'red_cards': 0,\n",
              "        'substituted_in': 0,\n",
              "        'substituted_out': 1,\n",
              "        'yellow_cards': 0,\n",
              "        'yellow_red_cards': 0},\n",
              "       'id': 'sr:player:758554',\n",
              "       'name': 'Lomovitskiy, Alesandr',\n",
              "       'starter': True},\n",
              "      {'statistics': {'assists': 0,\n",
              "        'goals_scored': 0,\n",
              "        'own_goals': 0,\n",
              "        'red_cards': 0,\n",
              "        'substituted_in': 0,\n",
              "        'substituted_out': 0,\n",
              "        'yellow_cards': 0,\n",
              "        'yellow_red_cards': 0},\n",
              "       'id': 'sr:player:794858',\n",
              "       'name': 'Yuran, Artem',\n",
              "       'starter': False},\n",
              "      {'statistics': {'assists': 0,\n",
              "        'goals_scored': 0,\n",
              "        'own_goals': 0,\n",
              "        'red_cards': 0,\n",
              "        'substituted_in': 1,\n",
              "        'substituted_out': 0,\n",
              "        'yellow_cards': 0,\n",
              "        'yellow_red_cards': 0},\n",
              "       'id': 'sr:player:1006667',\n",
              "       'name': 'Kamyshev, Ilya',\n",
              "       'starter': False},\n",
              "      {'statistics': {'assists': 1,\n",
              "        'goals_scored': 0,\n",
              "        'own_goals': 0,\n",
              "        'red_cards': 0,\n",
              "        'substituted_in': 1,\n",
              "        'substituted_out': 0,\n",
              "        'yellow_cards': 0,\n",
              "        'yellow_red_cards': 0},\n",
              "       'id': 'sr:player:1361060',\n",
              "       'name': 'Dolgov, Aleksandr',\n",
              "       'starter': False},\n",
              "      {'statistics': {'assists': 0,\n",
              "        'goals_scored': 0,\n",
              "        'own_goals': 0,\n",
              "        'red_cards': 0,\n",
              "        'substituted_in': 0,\n",
              "        'substituted_out': 1,\n",
              "        'yellow_cards': 1,\n",
              "        'yellow_red_cards': 0},\n",
              "       'id': 'sr:player:1571510',\n",
              "       'name': 'Bozhenov, Kirill',\n",
              "       'starter': True},\n",
              "      {'statistics': {'assists': 0,\n",
              "        'goals_scored': 0,\n",
              "        'own_goals': 0,\n",
              "        'red_cards': 0,\n",
              "        'substituted_in': 0,\n",
              "        'substituted_out': 1,\n",
              "        'yellow_cards': 0,\n",
              "        'yellow_red_cards': 0},\n",
              "       'id': 'sr:player:1626840',\n",
              "       'name': 'Chernyi, Artur',\n",
              "       'starter': True},\n",
              "      {'statistics': {'assists': 0,\n",
              "        'goals_scored': 0,\n",
              "        'own_goals': 0,\n",
              "        'red_cards': 0,\n",
              "        'substituted_in': 0,\n",
              "        'substituted_out': 0,\n",
              "        'yellow_cards': 0,\n",
              "        'yellow_red_cards': 0},\n",
              "       'id': 'sr:player:1955576',\n",
              "       'name': 'Gbane, Roman Mory Diaman',\n",
              "       'starter': True},\n",
              "      {'statistics': {'assists': 0,\n",
              "        'goals_scored': 0,\n",
              "        'own_goals': 0,\n",
              "        'red_cards': 0,\n",
              "        'substituted_in': 0,\n",
              "        'substituted_out': 0,\n",
              "        'yellow_cards': 0,\n",
              "        'yellow_red_cards': 0},\n",
              "       'id': 'sr:player:2205094',\n",
              "       'name': 'Kamlashev, Daniil',\n",
              "       'starter': False}]},\n",
              "    {'id': 'sr:competitor:2321',\n",
              "     'name': 'FK Zenit Saint Petersburg',\n",
              "     'abbreviation': 'ZEN',\n",
              "     'qualifier': 'away',\n",
              "     'statistics': {'cards_given': 1,\n",
              "      'red_cards': 0,\n",
              "      'substitutions': 5,\n",
              "      'yellow_cards': 1,\n",
              "      'yellow_red_cards': 0},\n",
              "     'players': [{'statistics': {'assists': 0,\n",
              "        'goals_scored': 0,\n",
              "        'own_goals': 0,\n",
              "        'red_cards': 0,\n",
              "        'substituted_in': 0,\n",
              "        'substituted_out': 0,\n",
              "        'yellow_cards': 0,\n",
              "        'yellow_red_cards': 0},\n",
              "       'id': 'sr:player:14969',\n",
              "       'name': 'Kerzhakov, Mikhail',\n",
              "       'starter': False},\n",
              "      {'statistics': {'assists': 0,\n",
              "        'goals_scored': 0,\n",
              "        'own_goals': 0,\n",
              "        'red_cards': 0,\n",
              "        'substituted_in': 0,\n",
              "        'substituted_out': 0,\n",
              "        'yellow_cards': 0,\n",
              "        'yellow_red_cards': 0},\n",
              "       'id': 'sr:player:39480',\n",
              "       'name': 'Lovren, Dejan',\n",
              "       'starter': False},\n",
              "      {'statistics': {'assists': 0,\n",
              "        'goals_scored': 0,\n",
              "        'own_goals': 0,\n",
              "        'red_cards': 0,\n",
              "        'substituted_in': 1,\n",
              "        'substituted_out': 0,\n",
              "        'yellow_cards': 0,\n",
              "        'yellow_red_cards': 0},\n",
              "       'id': 'sr:player:55379',\n",
              "       'name': 'Yerokhin, Aleksandr',\n",
              "       'starter': False},\n",
              "      {'statistics': {'assists': 0,\n",
              "        'goals_scored': 0,\n",
              "        'own_goals': 0,\n",
              "        'red_cards': 0,\n",
              "        'substituted_in': 0,\n",
              "        'substituted_out': 0,\n",
              "        'yellow_cards': 0,\n",
              "        'yellow_red_cards': 0},\n",
              "       'id': 'sr:player:243583',\n",
              "       'name': 'Santos, Douglas',\n",
              "       'starter': True},\n",
              "      {'statistics': {'assists': 0,\n",
              "        'goals_scored': 0,\n",
              "        'own_goals': 0,\n",
              "        'red_cards': 0,\n",
              "        'substituted_in': 0,\n",
              "        'substituted_out': 0,\n",
              "        'yellow_cards': 0,\n",
              "        'yellow_red_cards': 0},\n",
              "       'id': 'sr:player:309652',\n",
              "       'name': 'Barrios, Wilmar',\n",
              "       'starter': True},\n",
              "      {'statistics': {'assists': 0,\n",
              "        'goals_scored': 0,\n",
              "        'own_goals': 0,\n",
              "        'red_cards': 0,\n",
              "        'substituted_in': 0,\n",
              "        'substituted_out': 0,\n",
              "        'yellow_cards': 0,\n",
              "        'yellow_red_cards': 0},\n",
              "       'id': 'sr:player:335865',\n",
              "       'name': 'Kuzyaev, Daler',\n",
              "       'starter': True},\n",
              "      {'statistics': {'assists': 0,\n",
              "        'goals_scored': 0,\n",
              "        'own_goals': 0,\n",
              "        'red_cards': 0,\n",
              "        'substituted_in': 0,\n",
              "        'substituted_out': 1,\n",
              "        'yellow_cards': 0,\n",
              "        'yellow_red_cards': 0},\n",
              "       'id': 'sr:player:551772',\n",
              "       'name': 'Malcom',\n",
              "       'starter': True},\n",
              "      {'statistics': {'assists': 0,\n",
              "        'goals_scored': 0,\n",
              "        'own_goals': 0,\n",
              "        'red_cards': 0,\n",
              "        'substituted_in': 1,\n",
              "        'substituted_out': 0,\n",
              "        'yellow_cards': 0,\n",
              "        'yellow_red_cards': 0},\n",
              "       'id': 'sr:player:847888',\n",
              "       'name': 'Krugovoy, Daniil',\n",
              "       'starter': False},\n",
              "      {'statistics': {'assists': 0,\n",
              "        'goals_scored': 0,\n",
              "        'own_goals': 0,\n",
              "        'red_cards': 0,\n",
              "        'substituted_in': 0,\n",
              "        'substituted_out': 0,\n",
              "        'yellow_cards': 0,\n",
              "        'yellow_red_cards': 0},\n",
              "       'id': 'sr:player:857326',\n",
              "       'name': 'Chistyakov, Dmitri',\n",
              "       'starter': True},\n",
              "      {'statistics': {'assists': 0,\n",
              "        'goals_scored': 0,\n",
              "        'own_goals': 0,\n",
              "        'red_cards': 0,\n",
              "        'substituted_in': 0,\n",
              "        'substituted_out': 1,\n",
              "        'yellow_cards': 1,\n",
              "        'yellow_red_cards': 0},\n",
              "       'id': 'sr:player:858592',\n",
              "       'name': 'Sutormin, Aleksey',\n",
              "       'starter': True},\n",
              "      {'statistics': {'assists': 0,\n",
              "        'goals_scored': 0,\n",
              "        'own_goals': 0,\n",
              "        'red_cards': 0,\n",
              "        'substituted_in': 1,\n",
              "        'substituted_out': 0,\n",
              "        'yellow_cards': 0,\n",
              "        'yellow_red_cards': 0},\n",
              "       'id': 'sr:player:862144',\n",
              "       'name': 'Bakaev, Zelimkhan',\n",
              "       'starter': False},\n",
              "      {'statistics': {'assists': 1,\n",
              "        'goals_scored': 0,\n",
              "        'own_goals': 0,\n",
              "        'red_cards': 0,\n",
              "        'substituted_in': 0,\n",
              "        'substituted_out': 1,\n",
              "        'yellow_cards': 0,\n",
              "        'yellow_red_cards': 0},\n",
              "       'id': 'sr:player:896826',\n",
              "       'name': 'Claudinho',\n",
              "       'starter': True},\n",
              "      {'statistics': {'assists': 0,\n",
              "        'goals_scored': 0,\n",
              "        'own_goals': 0,\n",
              "        'red_cards': 0,\n",
              "        'substituted_in': 1,\n",
              "        'substituted_out': 0,\n",
              "        'yellow_cards': 0,\n",
              "        'yellow_red_cards': 0},\n",
              "       'id': 'sr:player:964589',\n",
              "       'name': 'Cassierra, Mateo',\n",
              "       'starter': False},\n",
              "      {'statistics': {'assists': 0,\n",
              "        'goals_scored': 0,\n",
              "        'own_goals': 0,\n",
              "        'red_cards': 0,\n",
              "        'substituted_in': 0,\n",
              "        'substituted_out': 0,\n",
              "        'yellow_cards': 0,\n",
              "        'yellow_red_cards': 0},\n",
              "       'id': 'sr:player:989673',\n",
              "       'name': 'Adamov, Arsen',\n",
              "       'starter': False},\n",
              "      {'statistics': {'assists': 0,\n",
              "        'goals_scored': 0,\n",
              "        'own_goals': 0,\n",
              "        'red_cards': 0,\n",
              "        'substituted_in': 0,\n",
              "        'substituted_out': 1,\n",
              "        'yellow_cards': 0,\n",
              "        'yellow_red_cards': 0},\n",
              "       'id': 'sr:player:1005115',\n",
              "       'name': 'Sergeev, Ivan',\n",
              "       'starter': True},\n",
              "      {'statistics': {'assists': 0,\n",
              "        'goals_scored': 0,\n",
              "        'own_goals': 0,\n",
              "        'red_cards': 0,\n",
              "        'substituted_in': 1,\n",
              "        'substituted_out': 0,\n",
              "        'yellow_cards': 0,\n",
              "        'yellow_red_cards': 0},\n",
              "       'id': 'sr:player:1005883',\n",
              "       'name': 'Mostovoy, Andrey',\n",
              "       'starter': False},\n",
              "      {'statistics': {'assists': 0,\n",
              "        'goals_scored': 0,\n",
              "        'own_goals': 0,\n",
              "        'red_cards': 0,\n",
              "        'substituted_in': 0,\n",
              "        'substituted_out': 0,\n",
              "        'yellow_cards': 0,\n",
              "        'yellow_red_cards': 0},\n",
              "       'id': 'sr:player:1061804',\n",
              "       'name': 'Alip, Nuraly',\n",
              "       'starter': False},\n",
              "      {'statistics': {'assists': 0,\n",
              "        'goals_scored': 0,\n",
              "        'own_goals': 0,\n",
              "        'red_cards': 0,\n",
              "        'substituted_in': 0,\n",
              "        'substituted_out': 0,\n",
              "        'yellow_cards': 0,\n",
              "        'yellow_red_cards': 0},\n",
              "       'id': 'sr:player:1094226',\n",
              "       'name': 'De Souza Prado, Rodrigo',\n",
              "       'starter': True},\n",
              "      {'statistics': {'assists': 0,\n",
              "        'goals_scored': 1,\n",
              "        'own_goals': 0,\n",
              "        'red_cards': 0,\n",
              "        'substituted_in': 0,\n",
              "        'substituted_out': 1,\n",
              "        'yellow_cards': 0,\n",
              "        'yellow_red_cards': 0},\n",
              "       'id': 'sr:player:1121457',\n",
              "       'name': 'Wendel',\n",
              "       'starter': True},\n",
              "      {'statistics': {'assists': 0,\n",
              "        'goals_scored': 0,\n",
              "        'own_goals': 0,\n",
              "        'red_cards': 0,\n",
              "        'substituted_in': 0,\n",
              "        'substituted_out': 0,\n",
              "        'yellow_cards': 0,\n",
              "        'yellow_red_cards': 0},\n",
              "       'id': 'sr:player:1956496',\n",
              "       'name': 'Kravtsov, Kirill',\n",
              "       'starter': False},\n",
              "      {'statistics': {'assists': 0,\n",
              "        'goals_scored': 0,\n",
              "        'own_goals': 0,\n",
              "        'red_cards': 0,\n",
              "        'substituted_in': 0,\n",
              "        'substituted_out': 0,\n",
              "        'yellow_cards': 0,\n",
              "        'yellow_red_cards': 0},\n",
              "       'id': 'sr:player:1982663',\n",
              "       'name': 'Odoevsky, Daniel',\n",
              "       'starter': True},\n",
              "      {'statistics': {'assists': 0,\n",
              "        'goals_scored': 0,\n",
              "        'own_goals': 0,\n",
              "        'red_cards': 0,\n",
              "        'substituted_in': 0,\n",
              "        'substituted_out': 0,\n",
              "        'yellow_cards': 0,\n",
              "        'yellow_red_cards': 0},\n",
              "       'id': 'sr:player:2134866',\n",
              "       'name': 'Byazrov, David',\n",
              "       'starter': False}]}]}}}"
            ]
          },
          "metadata": {},
          "execution_count": 33
        }
      ],
      "source": [
        "import requests\n",
        "\n",
        "#---Your code starts here---\n",
        "soccer_key = \"ZMaoP9iwP398Qj6qanm8565thLWHLgBZ4Mia0FLH\"\n",
        "#---Your code stops here---\n",
        "competition_id = \"sr:season:94193\"\n",
        "\n",
        "address = \"\".join([\n",
        "    \"https://api.sportradar.com/soccer/trial/v4/en/seasons/\",\n",
        "    competition_id,\n",
        "    \"/summaries.json?api_key=\",\n",
        "    soccer_key\n",
        "])\n",
        "season_summary = requests.get(address).json()\n",
        "\n",
        "season_summary[\"summaries\"][0]"
      ]
    },
    {
      "cell_type": "markdown",
      "metadata": {
        "id": "5pBzRN3gOiXD"
      },
      "source": [
        "__2b.__ (6 points) Create a function called `get_team_results` that takes `season_summary` as input and construct a dictionary that uses abbreviated team names as keys and collects the following information for each match played by each team (`status != \"postponed\"`): (1) abbreviation of the opposing team, (2) goals scored, (3) goals conceded, and (4) points earned. (Note: In soccer leagues, winning a match earns 3 points for the winner and 0 points for the loser, while drawing results in 1 point for each team. The goal difference is the difference between goals for and goals against.) Store the results as `team_results`, and print the first five matches played by \"SOC\"."
      ]
    },
    {
      "cell_type": "code",
      "execution_count": 34,
      "metadata": {
        "id": "WdW23lO_OIfV"
      },
      "outputs": [],
      "source": [
        "from collections import defaultdict\n",
        "\n",
        "def get_team_results(season_summary):\n",
        "  team_results = defaultdict(list)\n",
        "\n",
        "  for match in season_summary[\"summaries\"]:\n",
        "    if match[\"sport_event_status\"]['status'] != 'postponed':\n",
        "\n",
        "      for team in match[\"sport_event\"][\"competitors\"]:\n",
        "          #---Your code starts here---(collect the home and away team abbreviations)\n",
        "          if team[\"qualifier\"] == \"home\":\n",
        "                    home_team = team[\"abbreviation\"]\n",
        "          elif team[\"qualifier\"] == \"away\":\n",
        "            away_team = team[\"abbreviation\"]\n",
        "\n",
        "            # Collect the home and away scores\n",
        "      home_score = match[\"sport_event_status\"][\"home_score\"]\n",
        "      away_score = match[\"sport_event_status\"][\"away_score\"]\n",
        "\n",
        "      # Calculate the home and away points\n",
        "      if home_score > away_score:\n",
        "        home_points = 3\n",
        "        away_points = 0\n",
        "      elif home_score < away_score:\n",
        "        home_points = 0\n",
        "        away_points = 3\n",
        "      else:\n",
        "        home_points = 1\n",
        "        away_points = 1\n",
        "\n",
        "\n",
        "      team_results[home_team].append({\"opponent\": away_team,\n",
        "                                      \"scored\" : home_score,\n",
        "                                      \"conceded\" : away_score,\n",
        "                                      \"points\" : home_points})\n",
        "\n",
        "      team_results[away_team].append({\"opponent\": home_team,\n",
        "                                      \"scored\" : away_score,\n",
        "                                      \"conceded\" : home_score,\n",
        "                                      \"points\" : away_points})\n",
        "\n",
        "  return team_results"
      ]
    },
    {
      "cell_type": "code",
      "execution_count": 35,
      "metadata": {
        "colab": {
          "base_uri": "https://localhost:8080/"
        },
        "id": "0WeGVfI719Fq",
        "outputId": "7b27dbeb-e86a-4e2c-ed1b-281b204c34e0"
      },
      "outputs": [
        {
          "output_type": "execute_result",
          "data": {
            "text/plain": [
              "[{'opponent': 'TOR', 'scored': 3, 'conceded': 1, 'points': 3},\n",
              " {'opponent': 'CSKA', 'scored': 0, 'conceded': 3, 'points': 0},\n",
              " {'opponent': 'AKH', 'scored': 2, 'conceded': 1, 'points': 3},\n",
              " {'opponent': 'NNO', 'scored': 2, 'conceded': 1, 'points': 3},\n",
              " {'opponent': 'SPA', 'scored': 0, 'conceded': 3, 'points': 0}]"
            ]
          },
          "metadata": {},
          "execution_count": 35
        }
      ],
      "source": [
        "team_results = get_team_results(season_summary)\n",
        "team_results[\"SOC\"][:5]"
      ]
    },
    {
      "cell_type": "markdown",
      "metadata": {
        "id": "Nbltr1oNOqY2"
      },
      "source": [
        "__2c.__ (5 points) Aggregate the results data for each team (key) in `team_results`, and store this information as a list called `standings`. Here, collect the abbreviated team name, the number of games played, the numbers of games won, drawn, and lost, the number of goals scored and conceded, and total points. Print the first five items in `standings`."
      ]
    },
    {
      "cell_type": "code",
      "execution_count": 36,
      "metadata": {
        "colab": {
          "base_uri": "https://localhost:8080/"
        },
        "id": "tAhQlPNYOIhj",
        "outputId": "45129dce-e75a-4310-fd04-86bcce955de5"
      },
      "outputs": [
        {
          "output_type": "stream",
          "name": "stdout",
          "text": [
            "[['KHI', 13, 2, 3, 8, 13, 23, 9], ['ZEN', 12, 9, 3, 0, 33, 5, 30], ['CSKA', 12, 7, 3, 2, 24, 11, 24], ['URA', 13, 4, 1, 8, 13, 23, 13], ['ORE', 12, 6, 0, 6, 20, 28, 18]]\n"
          ]
        }
      ],
      "source": [
        "standings = []\n",
        "\n",
        "for team in team_results:\n",
        "    games_played = 0\n",
        "    games_won = 0\n",
        "    games_drawn = 0\n",
        "    games_lost = 0\n",
        "    goals_scored = 0\n",
        "    goals_conceded = 0\n",
        "    points_earned = 0\n",
        "\n",
        "    #---Your code starts here---\n",
        "    for match in team_results[team]:\n",
        "        games_played += 1\n",
        "        goals_scored += match[\"scored\"]\n",
        "        goals_conceded += match[\"conceded\"]\n",
        "        points_earned += match[\"points\"]\n",
        "\n",
        "        if match[\"points\"] == 3:\n",
        "            games_won += 1\n",
        "        elif match[\"points\"] == 1:\n",
        "            games_drawn += 1\n",
        "        else:\n",
        "            games_lost += 1\n",
        "    #---Your code stops here---\n",
        "\n",
        "    standings.append([team, games_played, games_won, games_drawn, games_lost,\n",
        "                      goals_scored, goals_conceded, points_earned])\n",
        "\n",
        "# Print the first five items in standings\n",
        "print(standings[:5])"
      ]
    },
    {
      "cell_type": "markdown",
      "metadata": {
        "id": "KNm5uFFsOxAg"
      },
      "source": [
        "__2d.__ (5 points) In the English Premier League, standings are calculated based on points earned, but let's see how points earned compares to the number of goals earned. First, sort `standings` by the number of goals scored to see which team scored the most points. Then, sort `standings` by the number of `points` to see who won the tournament. Was the team that scored the most points the same team that won the tournament?"
      ]
    },
    {
      "cell_type": "code",
      "execution_count": 37,
      "metadata": {
        "colab": {
          "base_uri": "https://localhost:8080/"
        },
        "id": "0FOpjluGOIjk",
        "outputId": "96f4fae6-fec6-4e3b-8673-45395508abe5"
      },
      "outputs": [
        {
          "output_type": "stream",
          "name": "stdout",
          "text": [
            "Most goals: ['ZEN', 12, 9, 3, 0, 33, 5, 30]\n",
            "Most points: ['ZEN', 12, 9, 3, 0, 33, 5, 30]\n",
            "Yes, the team that scored the most goals is the same as the team who scored the most points.\n"
          ]
        }
      ],
      "source": [
        "# Sort standings by the number of goals scored\n",
        "standings_sorted_by_goals = sorted(standings, key=lambda x: x[5], reverse=True)\n",
        "\n",
        "# Print the team that scored the most goals\n",
        "print(\"Most goals:\", standings_sorted_by_goals[0])\n",
        "\n",
        "# Sort standings by the number of points\n",
        "standings_sorted_by_points = sorted(standings, key=lambda x: x[7], reverse=True)\n",
        "\n",
        "# Print the team that scored the most points\n",
        "print(\"Most points:\", standings_sorted_by_points[0])\n",
        "\n",
        "# Compare the top teams\n",
        "if standings_sorted_by_goals[0][0] == standings_sorted_by_points[0][0]:\n",
        "    print(\"Yes, the team that scored the most goals is the same as the team who scored the most points.\")\n",
        "else:\n",
        "    print(\"No, the team that scored the most goals is not the same as the team who scored the most points.\")\n"
      ]
    },
    {
      "cell_type": "markdown",
      "metadata": {
        "id": "82VyX7__PBPm"
      },
      "source": [
        "__2e.__ (5 points) If two teams have the same number of points, then the team with the higher difference between goals earned and goals conceded is ranked higher. If the differences are also the same, then the team with the higher number of goals scored is ranked higher. To correctly rank the teams, sort `standings` by the three factors described above. Print the sorted list."
      ]
    },
    {
      "cell_type": "code",
      "execution_count": 39,
      "metadata": {
        "colab": {
          "base_uri": "https://localhost:8080/"
        },
        "id": "uYpA_qTHOIp1",
        "outputId": "748448f9-415d-409a-a4b9-f4548b238224"
      },
      "outputs": [
        {
          "output_type": "execute_result",
          "data": {
            "text/plain": [
              "[['KHI', 13, 2, 3, 8, 13, 23, 9],\n",
              " ['ZEN', 12, 9, 3, 0, 33, 5, 30],\n",
              " ['CSKA', 12, 7, 3, 2, 24, 11, 24],\n",
              " ['URA', 13, 4, 1, 8, 13, 23, 13],\n",
              " ['ORE', 12, 6, 0, 6, 20, 28, 18],\n",
              " ['KSS', 12, 2, 5, 5, 12, 19, 11],\n",
              " ['AKH', 13, 6, 2, 5, 21, 21, 20],\n",
              " ['SPA', 12, 8, 1, 3, 29, 14, 25],\n",
              " ['TOR', 13, 1, 3, 9, 7, 24, 6],\n",
              " ['SOC', 12, 6, 2, 4, 22, 20, 20],\n",
              " ['LOK', 13, 3, 3, 7, 16, 26, 12],\n",
              " ['NNO', 12, 3, 4, 5, 17, 20, 13],\n",
              " ['KRA', 13, 6, 3, 4, 25, 20, 21],\n",
              " ['FAK', 13, 1, 8, 4, 16, 23, 11],\n",
              " ['DMO', 12, 4, 5, 3, 18, 14, 17],\n",
              " ['ROS', 13, 7, 4, 2, 24, 19, 25]]"
            ]
          },
          "metadata": {},
          "execution_count": 39
        }
      ],
      "source": [
        "# Define the sorting key with the three criteria\n",
        "def sorting_key(team_stats):\n",
        "    points = team_stats[7]\n",
        "    goal_difference = team_stats[5] - team_stats[6]  # goals scored - goals conceded\n",
        "    goals_scored = team_stats[5]\n",
        "    return (points, goal_difference, goals_scored)\n",
        "\n",
        "# Sort standings by points, then goal difference, then goals scored\n",
        "standings_sorted = sorted(standings, key=sorting_key, reverse=True)\n",
        "\n",
        "#---Your code stops here---\n",
        "standings"
      ]
    },
    {
      "cell_type": "markdown",
      "metadata": {
        "id": "6WuoOlUKOFrL"
      },
      "source": [
        "# Part 3 (25 points)"
      ]
    },
    {
      "cell_type": "markdown",
      "metadata": {
        "id": "npF13QRh0gq0"
      },
      "source": [
        "__3a.__ (3 points) Update `file_path` and `delim` to read the text from `data/tempest.txt` and split its content into scenes. (Note: `delim` should be set to a pattern that matches the scene headers (__Section 4.4.1.2__)). Print the scenes identified in the play (e.g., \"SCENE 1\", \"SCENE 2\")."
      ]
    },
    {
      "cell_type": "code",
      "execution_count": 16,
      "metadata": {
        "colab": {
          "base_uri": "https://localhost:8080/"
        },
        "id": "CLQ4-vdpQHE2",
        "outputId": "1f7c1abd-4a04-4fb7-81f9-dd354f2aa9e5"
      },
      "outputs": [
        {
          "output_type": "stream",
          "name": "stdout",
          "text": [
            "Scenes: [\"\\n\\nOn a ship at sea; a tempestuous noise of thunder and lightning\\nheard\\n\\nEnter a SHIPMASTER and a BOATSWAIN\\n\\n  MASTER. Boatswain!\\n  BOATSWAIN. Here, master; what cheer?\\n  MASTER. Good! Speak to th' mariners; fall to't yarely, or\\n    we run ourselves aground; bestir, bestir.               Exit\\n\\n                       Enter MARINERS\\n\\n  BOATSWAIN. Heigh, my hearts! cheerly, cheerly, my hearts!\\n    yare, yare! Take in the topsail. Tend to th' master's\\n    whistle. Blow till thou burst thy wind, if room enough.\\n\\n          Enter ALONSO, SEBASTIAN, ANTONIO, FERDINAND\\n                     GONZALO, and OTHERS\\n\\n  ALONSO. Good boatswain, have care. Where's the master?\\n    Play the men.\\n  BOATSWAIN. I pray now, keep below.\\n  ANTONIO. Where is the master, boson?\\n  BOATSWAIN. Do you not hear him? You mar our labour;\\n    keep your cabins; you do assist the storm.\\n  GONZALO. Nay, good, be patient.\\n  BOATSWAIN. When the sea is. Hence! What cares these\\n    roarers for the name of king? To cabin! silence! Trouble\\n    us not.\\n  GONZALO. Good, yet remember whom thou hast aboard.\\n  BOATSWAIN. None that I more love than myself. You are\\n    counsellor; if you can command these elements to\\n    silence, and work the peace of the present, we will not\\n    hand a rope more. Use your authority; if you cannot, give\\n    thanks you have liv'd so long, and make yourself ready\\n    in your cabin for the mischance of the hour, if it so\\n    hap.-Cheerly, good hearts!-Out of our way, I say.\\n Exit\\n  GONZALO. I have great comfort from this fellow. Methinks\\n    he hath no drowning mark upon him; his complexion is\\n    perfect gallows. Stand fast, good Fate, to his hanging;\\n    make the rope of his destiny our cable, for our own doth\\n    little advantage. If he be not born to be hang'd, our\\n    case is miserable.                                    Exeunt\\n\\n                     Re-enter BOATSWAIN\\n\\n  BOATSWAIN. Down with the topmast. Yare, lower, lower!\\n    Bring her to try wi' th' maincourse.  [A cry within]  A\\n    plague upon this howling! They are louder than the\\n    weather or our office.\\n\\n           Re-enter SEBASTIAN, ANTONIO, and GONZALO\\n\\n    Yet again! What do you here? Shall we give o'er, and\\n    drown? Have you a mind to sink?\\n  SEBASTIAN. A pox o' your throat, you bawling, blasphemous,\\n    incharitable dog!\\n  BOATSWAIN. Work you, then.\\n  ANTONIO. Hang, cur; hang, you whoreson, insolent noisemaker;\\n    we are less afraid to be drown'd than thou art.\\n  GONZALO. I'll warrant him for drowning, though the ship were\\n    no stronger than a nutshell, and as leaky as an unstanched\\n    wench.\\n  BOATSWAIN. Lay her a-hold, a-hold; set her two courses; off\\n    to sea again; lay her off.\\n\\n                    Enter MARINERS, Wet\\n  MARINERS. All lost! to prayers, to prayers! all lost!\\n                                                          Exeunt\\n  BOATSWAIN. What, must our mouths be cold?\\n  GONZALO. The King and Prince at prayers!\\n    Let's assist them,\\n    For our case is as theirs.\\n  SEBASTIAN. I am out of patience.\\n  ANTONIO. We are merely cheated of our lives by drunkards.\\n    This wide-chopp'd rascal-would thou mightst lie drowning\\n    The washing of ten tides!\\n  GONZALO. He'll be hang'd yet,\\n    Though every drop of water swear against it,\\n    And gape at wid'st to glut him.\\n    [A confused noise within: Mercy on us!\\n    We split, we split! Farewell, my wife and children!\\n    Farewell, brother! We split, we split, we split!]\\n  ANTONIO. Let's all sink wi' th' King.\\n  SEBASTIAN. Let's take leave of him.\\n                                    Exeunt ANTONIO and SEBASTIAN\\n  GONZALO. Now would I give a thousand furlongs of sea for\\n    an acre of barren ground-long heath, brown furze, any\\n    thing. The wills above be done, but I would fain die\\n    dry death.                                            Exeunt\\n\\n\\n\\n\\nSCENE 2\\n\\nThe Island. Before PROSPERO'S cell\\n\\nEnter PROSPERO and MIRANDA\\n\\n  MIRANDA. If by your art, my dearest father, you have\\n    Put the wild waters in this roar, allay them.\\n    The sky, it seems, would pour down stinking pitch,\\n    But that the sea, mounting to th' welkin's cheek,\\n    Dashes the fire out. O, I have suffered\\n    With those that I saw suffer! A brave vessel,\\n    Who had no doubt some noble creature in her,\\n    Dash'd all to pieces! O, the cry did knock\\n    Against my very heart! Poor souls, they perish'd.\\n    Had I been any god of power, I would\\n    Have sunk the sea within the earth or ere\\n    It should the good ship so have swallow'd and\\n    The fraughting souls within her.\\n  PROSPERO. Be conected;\\n    No more amazement; tell your piteous heart\\n    There's no harm done.\\n  MIRANDA. O, woe the day!\\n  PROSPERO. No harm.\\n    I have done nothing but in care of thee,\\n    Of thee, my dear one, thee, my daughter, who\\n    Art ignorant of what thou art, nought knowing\\n    Of whence I am, nor that I am more better\\n    Than Prospero, master of a full poor cell,\\n    And thy no greater father.\\n  MIRANDA. More to know\\n    Did never meddle with my thoughts.\\n  PROSPERO. 'Tis time\\n    I should inform thee farther. Lend thy hand,\\n    And pluck my magic garment from me. So,\\n                                          [Lays down his mantle]\\n    Lie there my art. Wipe thou thine eyes; have comfort.\\n    The direful spectacle of the wreck, which touch'd\\n    The very virtue of compassion in thee,\\n    I have with such provision in mine art\\n    So safely ordered that there is no soul-\\n    No, not so much perdition as an hair\\n    Betid to any creature in the vessel\\n    Which thou heard'st cry, which thou saw'st sink.\\n    Sit down, for thou must now know farther.\\n  MIRANDA. You have often\\n    Begun to tell me what I am; but stopp'd,\\n    And left me to a bootless inquisition,\\n    Concluding 'Stay; not yet.'\\n  PROSPERO. The hour's now come;\\n    The very minute bids thee ope thine ear.\\n    Obey, and be attentive. Canst thou remember\\n    A time before we came unto this cell?\\n    I do not think thou canst; for then thou wast not\\n    Out three years old.\\n  MIRANDA. Certainly, sir, I can.\\n  PROSPERO. By what? By any other house, or person?\\n    Of any thing the image, tell me, that\\n    Hath kept with thy remembrance?\\n  MIRANDA. 'Tis far off,\\n    And rather like a dream than an assurance\\n    That my remembrance warrants. Had I not\\n    Four, or five, women once, that tended me?\\n  PROSPERO. Thou hadst, and more, Miranda. But how is it\\n    That this lives in thy mind? What seest thou else\\n    In the dark backward and abysm of time?\\n    If thou rememb'rest aught, ere thou cam'st here,\\n    How thou cam'st here thou mayst.\\n  MIRANDA. But that I do not.\\n  PROSPERO. Twelve year since, Miranda, twelve year since,\\n    Thy father was the Duke of Milan, and\\n    A prince of power.\\n  MIRANDA. Sir, are not you my father?\\n  PROSPERO. Thy mother was a piece of virtue, and\\n    She said thou wast my daughter; and thy father\\n    Was Duke of Milan, and his only heir\\n    And princess no worse issued.\\n  MIRANDA. O, the heavens!\\n    What foul play had we that we came from thence?\\n    Or blessed was't we did?\\n  PROSPERO. Both, both, my girl.\\n    By foul play, as thou say'st, were we heav'd thence;\\n    But blessedly holp hither.\\n  MIRANDA. O, my heart bleeds\\n    To think o' th' teen that I have turn'd you to,\\n    Which is from my remembrance. Please you, farther.\\n  PROSPERO. My brother and thy uncle, call'd Antonio-\\n    I pray thee, mark me that a brother should\\n    Be so perfidious. He, whom next thyself\\n    Of all the world I lov'd, and to him put\\n    The manage of my state; as at that time\\n    Through all the signories it was the first,\\n    And Prospero the prime duke, being so reputed\\n    In dignity, and for the liberal arts\\n    Without a parallel, those being all my study-\\n    The government I cast upon my brother\\n    And to my state grew stranger, being transported\\n    And rapt in secret studies. Thy false uncle-\\n    Dost thou attend me?\\n  MIRANDA. Sir, most heedfully.\\n  PROSPERO. Being once perfected how to grant suits,\\n    How to deny them, who t' advance, and who\\n    To trash for over-topping, new created\\n    The creatures that were mine, I say, or chang'd 'em,\\n    Or else new form'd 'em; having both the key\\n    Of officer and office, set all hearts i' th' state\\n    To what tune pleas'd his ear; that now he was\\n    The ivy which had hid my princely trunk\\n    And suck'd my verdure out on't. Thou attend'st not.\\n  MIRANDA. O, good sir, I do!\\n  PROSPERO. I pray thee, mark me.\\n    I thus neglecting worldly ends, all dedicated\\n    To closeness and the bettering of my mind\\n    With that which, but by being so retir'd,\\n    O'er-priz'd all popular rate, in my false brother\\n    Awak'd an evil nature; and my trust,\\n    Like a good parent, did beget of him\\n    A falsehood, in its contrary as great\\n    As my trust was; which had indeed no limit,\\n    A confidence sans bound. He being thus lorded,\\n    Not only with what my revenue yielded,\\n    But what my power might else exact, like one\\n    Who having into truth, by telling of it,\\n    Made such a sinner of his memory,\\n    To credit his own lie-he did believe\\n    He was indeed the Duke; out o' th' substitution,\\n    And executing th' outward face of royalty\\n    With all prerogative. Hence his ambition growing-\\n    Dost thou hear?\\n  MIRANDA. Your tale, sir, would cure deafness.\\n  PROSPERO. To have no screen between this part he play'd\\n    And him he play'd it for, he needs will be\\n    Absolute Milan. Me, poor man-my library\\n    Was dukedom large enough-of temporal royalties\\n    He thinks me now incapable; confederates,\\n    So dry he was for sway, wi' th' King of Naples,\\n    To give him annual tribute, do him homage,\\n    Subject his coronet to his crown, and bend\\n    The dukedom, yet unbow'd-alas, poor Milan!-\\n    To most ignoble stooping.\\n  MIRANDA. O the heavens!\\n  PROSPERO. Mark his condition, and th' event, then tell me\\n    If this might be a brother.\\n  MIRANDA. I should sin\\n    To think but nobly of my grandmother:\\n    Good wombs have borne bad sons.\\n  PROSPERO. Now the condition:\\n    This King of Naples, being an enemy\\n    To me inveterate, hearkens my brother's suit;\\n    Which was, that he, in lieu o' th' premises,\\n    Of homage, and I know not how much tribute,\\n    Should presently extirpate me and mine\\n    Out of the dukedom, and confer fair Milan\\n    With all the honours on my brother. Whereon,\\n    A treacherous army levied, one midnight\\n    Fated to th' purpose, did Antonio open\\n    The gates of Milan; and, i' th' dead of darkness,\\n    The ministers for th' purpose hurried thence\\n    Me and thy crying self.\\n  MIRANDA. Alack, for pity!\\n    I, not rememb'ring how I cried out then,\\n    Will cry it o'er again; it is a hint\\n    That wrings mine eyes to't.\\n  PROSPERO. Hear a little further,\\n    And then I'll bring thee to the present busines\\n    Which now's upon 's; without the which this story\\n    Were most impertinent.\\n  MIRANDA. Wherefore did they not\\n    That hour destroy us?\\n  PROSPERO. Well demanded, wench!\\n    My tale provokes that question. Dear, they durst not,\\n    So dear the love my people bore me; nor set\\n    A mark so bloody on the business; but\\n    With colours fairer painted their foul ends.\\n    In few, they hurried us aboard a bark;\\n    Bore us some leagues to sea, where they prepared\\n    A rotten carcass of a butt, not rigg'd,\\n    Nor tackle, sail, nor mast; the very rats\\n    Instinctively have quit it. There they hoist us,\\n    To cry to th' sea, that roar'd to us; to sigh\\n    To th' winds, whose pity, sighing back again,\\n    Did us but loving wrong.\\n  MIRANDA. Alack, what trouble\\n    Was I then to you!\\n  PROSPERO. O, a cherubin\\n    Thou wast that did preserve me! Thou didst smile,\\n    Infused with a fortitude from heaven,\\n    When I have deck'd the sea with drops full salt,\\n    Under my burden groan'd; which rais'd in me\\n    An undergoing stomach, to bear up\\n    Against what should ensue.\\n  MIRANDA. How came we ashore?\\n  PROSPERO. By Providence divine.\\n    Some food we had and some fresh water that\\n    A noble Neapolitan, Gonzalo,\\n    Out of his charity, who being then appointed\\n    Master of this design, did give us, with\\n    Rich garments, linens, stuffs, and necessaries,\\n    Which since have steaded much; so, of his gentleness,\\n    Knowing I lov'd my books, he furnish'd me\\n    From mine own library with volumes that\\n    I prize above my dukedom.\\n  MIRANDA. Would I might\\n    But ever see that man!\\n  PROSPERO. Now I arise.                    [Puts on his mantle]\\n    Sit still, and hear the last of our sea-sorrow.\\n    Here in this island we arriv'd; and here\\n    Have I, thy schoolmaster, made thee more profit\\n    Than other princess' can, that have more time\\n    For vainer hours, and tutors not so careful.\\n  MIRANDA. Heavens thank you for't! And now, I pray you,\\n      sir,\\n    For still 'tis beating in my mind, your reason\\n    For raising this sea-storm?\\n  PROSPERO. Know thus far forth:\\n    By accident most strange, bountiful Fortune,\\n    Now my dear lady, hath mine enemies\\n    Brought to this shore; and by my prescience\\n    I find my zenith doth depend upon\\n    A most auspicious star, whose influence\\n    If now I court not, but omit, my fortunes\\n    Will ever after droop. Here cease more questions;\\n    Thou art inclin'd to sleep; 'tis a good dullness,\\n    And give it way. I know thou canst not choose.\\n                                                [MIRANDA sleeps]\\n    Come away, servant; come; I am ready now.\\n    Approach, my Ariel. Come.\\n\\n                        Enter ARIEL\\n\\n  ARIEL. All hail, great master! grave sir, hail! I come\\n    To answer thy best pleasure; be't to fly,\\n    To swim, to dive into the fire, to ride\\n    On the curl'd clouds. To thy strong bidding task\\n    Ariel and all his quality.\\n  PROSPERO. Hast thou, spirit,\\n    Perform'd to point the tempest that I bade thee?\\n  ARIEL. To every article.\\n    I boarded the King's ship; now on the beak,\\n    Now in the waist, the deck, in every cabin,\\n    I flam'd amazement. Sometime I'd divide,\\n    And burn in many places; on the topmast,\\n    The yards, and bowsprit, would I flame distinctly,\\n    Then meet and join Jove's lightning, the precursors\\n    O' th' dreadful thunder-claps, more momentary\\n    And sight-outrunning were not; the fire and cracks\\n    Of sulphurous roaring the most mighty Neptune\\n    Seem to besiege, and make his bold waves tremble,\\n    Yea, his dread trident shake.\\n  PROSPERO. My brave spirit!\\n    Who was so firm, so constant, that this coil\\n    Would not infect his reason?\\n  ARIEL. Not a soul\\n    But felt a fever of the mad, and play'd\\n    Some tricks of desperation. All but mariners\\n    Plung'd in the foaming brine, and quit the vessel,\\n    Then all afire with me; the King's son, Ferdinand,\\n    With hair up-staring-then like reeds, not hair-\\n    Was the first man that leapt; cried 'Hell is empty,\\n    And all the devils are here.'\\n  PROSPERO. Why, that's my spirit!\\n    But was not this nigh shore?\\n  ARIEL. Close by, my master.\\n  PROSPERO. But are they, Ariel, safe?\\n  ARIEL. Not a hair perish'd;\\n    On their sustaining garments not a blemish,\\n    But fresher than before; and, as thou bad'st me,\\n    In troops I have dispers'd them 'bout the isle.\\n    The King's son have I landed by himself,\\n    Whom I left cooling of the air with sighs\\n    In an odd angle of the isle, and sitting,\\n    His arms in this sad knot.\\n  PROSPERO. Of the King's ship,\\n    The mariners, say how thou hast dispos'd,\\n    And all the rest o' th' fleet?\\n  ARIEL. Safely in harbour\\n    Is the King's ship; in the deep nook, where once\\n    Thou call'dst me up at midnight to fetch dew\\n    From the still-vex'd Bermoothes, there she's hid;\\n    The mariners all under hatches stowed,\\n    Who, with a charm join'd to their suff'red labour,\\n    I have left asleep; and for the rest o' th' fleet,\\n    Which I dispers'd, they all have met again,\\n    And are upon the Mediterranean flote\\n    Bound sadly home for Naples,\\n    Supposing that they saw the King's ship wreck'd,\\n    And his great person perish.\\n  PROSPERO. Ariel, thy charge\\n    Exactly is perform'd; but there's more work.\\n    What is the time o' th' day?\\n  ARIEL. Past the mid season.\\n  PROSPERO. At least two glasses. The time 'twixt six and now\\n    Must by us both be spent most preciously.\\n  ARIEL. Is there more toil? Since thou dost give me pains,\\n    Let me remember thee what thou hast promis'd,\\n    Which is not yet perform'd me.\\n  PROSPERO. How now, moody?\\n    What is't thou canst demand?\\n  ARIEL. My liberty.\\n  PROSPERO. Before the time be out? No more!\\n  ARIEL. I prithee,\\n    Remember I have done thee worthy service,\\n    Told thee no lies, made thee no mistakings, serv'd\\n    Without or grudge or grumblings. Thou didst promise\\n    To bate me a full year.\\n  PROSPERO. Dost thou forget\\n    From what a torment I did free thee?\\n  ARIEL. No.\\n  PROSPERO. Thou dost; and think'st it much to tread the ooze\\n    Of the salt deep,\\n    To run upon the sharp wind of the north,\\n    To do me business in the veins o' th' earth\\n    When it is bak'd with frost.\\n  ARIEL. I do not, sir.\\n  PROSPERO. Thou liest, malignant thing. Hast thou forgot\\n    The foul witch Sycorax, who with age and envy\\n    Was grown into a hoop? Hast thou forgot her?\\n  ARIEL. No, sir.\\n  PROSPERO. Thou hast. Where was she born?\\n    Speak; tell me.\\n  ARIEL. Sir, in Argier.\\n  PROSPERO. O, was she so? I must\\n    Once in a month recount what thou hast been,\\n    Which thou forget'st. This damn'd witch Sycorax,\\n    For mischiefs manifold, and sorceries terrible\\n    To enter human hearing, from Argier\\n    Thou know'st was banish'd; for one thing she did\\n    They would not take her life. Is not this true?\\n  ARIEL. Ay, sir.\\n  PROSPERO. This blue-ey'd hag was hither brought with child,\\n    And here was left by th'sailors. Thou, my slave,\\n    As thou report'st thyself, wast then her servant;\\n    And, for thou wast a spirit too delicate\\n    To act her earthy and abhorr'd commands,\\n    Refusing her grand hests, she did confine thee,\\n    By help of her more potent ministers,\\n    And in her most unmitigable rage,\\n    Into a cloven pine; within which rift\\n    Imprison'd thou didst painfully remain\\n    A dozen years; within which space she died,\\n    And left thee there, where thou didst vent thy groans\\n    As fast as mill-wheels strike. Then was this island-\\n    Save for the son that she did litter here,\\n    A freckl'd whelp, hag-born-not honour'd with\\n    A human shape.\\n  ARIEL. Yes, Caliban her son.\\n  PROSPERO. Dull thing, I say so; he, that Caliban\\n    Whom now I keep in service. Thou best know'st\\n    What torment I did find thee in; thy groans\\n    Did make wolves howl, and penetrate the breasts\\n    Of ever-angry bears; it was a torment\\n    To lay upon the damn'd, which Sycorax\\n    Could not again undo. It was mine art,\\n    When I arriv'd and heard thee, that made gape\\n    The pine, and let thee out.\\n  ARIEL. I thank thee, master.\\n  PROSPERO. If thou more murmur'st, I will rend an oak\\n    And peg thee in his knotty entrails, till\\n    Thou hast howl'd away twelve winters.\\n  ARIEL. Pardon, master;\\n    I will be correspondent to command,\\n    And do my spriting gently.\\n  PROSPERO. Do so; and after two days\\n    I will discharge thee.\\n  ARIEL. That's my noble master!\\n    What shall I do? Say what. What shall I do?\\n  PROSPERO. Go make thyself like a nymph o' th' sea; be subject\\n    To no sight but thine and mine, invisible\\n    To every eyeball else. Go take this shape,\\n    And hither come in 't. Go, hence with diligence!\\n                                                      Exit ARIEL\\n    Awake, dear heart, awake; thou hast slept well;\\n    Awake.\\n  MIRANDA. The strangeness of your story put\\n    Heaviness in me.\\n  PROSPERO. Shake it off. Come on,\\n    We'll visit Caliban, my slave, who never\\n    Yields us kind answer.\\n  MIRANDA. 'Tis a villain, sir,\\n    I do not love to look on.\\n  PROSPERO. But as 'tis,\\n    We cannot miss him: he does make our fire,\\n    Fetch in our wood, and serves in offices\\n    That profit us. What ho! slave! Caliban!\\n    Thou earth, thou! Speak.\\n  CALIBAN.   [ Within]  There's wood enough within.\\n  PROSPERO. Come forth, I say; there's other business for thee.\\n    Come, thou tortoise! when?\\n\\n             Re-enter ARIEL like a water-nymph\\n\\n    Fine apparition! My quaint Ariel,\\n    Hark in thine ear.\\n  ARIEL. My lord, it shall be done.                         Exit\\n  PROSPERO. Thou poisonous slave, got by the devil himself\\n    Upon thy wicked dam, come forth!\\n\\n                       Enter CALIBAN\\n\\n  CALIBAN. As wicked dew as e'er my mother brush'd\\n    With raven's feather from unwholesome fen\\n    Drop on you both! A south-west blow on ye\\n    And blister you all o'er!\\n  PROSPERO. For this, be sure, to-night thou shalt have cramps,\\n    Side-stitches that shall pen thy breath up; urchins\\n    Shall, for that vast of night that they may work,\\n    All exercise on thee; thou shalt be pinch'd\\n    As thick as honeycomb, each pinch more stinging\\n    Than bees that made 'em.\\n  CALIBAN. I must eat my dinner.\\n    This island's mine, by Sycorax my mother,\\n    Which thou tak'st from me. When thou cam'st first,\\n    Thou strok'st me and made much of me, wouldst give me\\n    Water with berries in't, and teach me how\\n    To name the bigger light, and how the less,\\n    That burn by day and night; and then I lov'd thee,\\n    And show'd thee all the qualities o' th' isle,\\n    The fresh springs, brine-pits, barren place and fertile.\\n    Curs'd be I that did so! All the charms\\n    Of Sycorax, toads, beetles, bats, light on you!\\n    For I am all the subjects that you have,\\n    Which first was mine own king; and here you sty me\\n    In this hard rock, whiles you do keep from me\\n    The rest o' th' island.\\n  PROSPERO. Thou most lying slave,\\n    Whom stripes may move, not kindness! I have us'd thee,\\n    Filth as thou art, with human care, and lodg'd thee\\n    In mine own cell, till thou didst seek to violate\\n    The honour of my child.\\n  CALIBAN. O ho, O ho! Would't had been done.\\n    Thou didst prevent me; I had peopl'd else\\n    This isle with Calibans.\\n  MIRANDA. Abhorred slave,\\n    Which any print of goodness wilt not take,\\n    Being capable of all ill! I pitied thee,\\n    Took pains to make thee speak, taught thee each hour\\n    One thing or other. When thou didst not, savage,\\n    Know thine own meaning, but wouldst gabble like\\n    A thing most brutish, I endow'd thy purposes\\n    With words that made them known. But thy vile race,\\n    Though thou didst learn, had that in't which good natures\\n    Could not abide to be with; therefore wast thou\\n    Deservedly confin'd into this rock, who hadst\\n    Deserv'd more than a prison.\\n  CALIBAN. You taught me language, and my profit on't\\n    Is, I know how to curse. The red plague rid you\\n    For learning me your language!\\n  PROSPERO. Hag-seed, hence!\\n    Fetch us in fuel. And be quick, thou 'rt best,\\n    To answer other business. Shrug'st thou, malice?\\n    If thou neglect'st, or dost unwillingly\\n    What I command, I'll rack thee with old cramps,\\n    Fill all thy bones with aches, make thee roar,\\n    That beasts shall tremble at thy din.\\n  CALIBAN. No, pray thee.\\n    [Aside]  I must obey. His art is of such pow'r,\\n    It would control my dam's god, Setebos,\\n    And make a vassal of him.\\n  PROSPERO. So, slave; hence!                       Exit CALIBAN\\n\\n         Re-enter ARIEL invisible, playing ad singing;\\n                     FERDINAND following\\n\\n                          ARIEL'S SONG.\\n            Come unto these yellow sands,\\n              And then take hands;\\n            Curtsied when you have and kiss'd,\\n              The wild waves whist,\\n            Foot it featly here and there,\\n            And, sweet sprites, the burden bear.\\n              Hark, hark!\\n            [Burden dispersedly: Bow-wow.]\\n              The watch dogs bark.\\n            [Burden dispersedly: Bow-wow.]\\n              Hark, hark! I hear\\n            The strain of strutting chanticleer\\n              Cry, Cock-a-diddle-dow.\\n  FERDINAND. Where should this music be? I' th' air or th'\\n    earth?\\n    It sounds no more; and sure it waits upon\\n    Some god o' th' island. Sitting on a bank,\\n    Weeping again the King my father's wreck,\\n    This music crept by me upon the waters,\\n    Allaying both their fury and my passion\\n    With its sweet air; thence I have follow'd it,\\n    Or it hath drawn me rather. But 'tis gone.\\n    No, it begins again.\\n\\n                   ARIEL'S SONG\\n         Full fathom five thy father lies;\\n           Of his bones are coral made;\\n         Those are pearls that were his eyes;\\n           Nothing of him that doth fade\\n         But doth suffer a sea-change\\n         Into something rich and strange.\\n         Sea-nymphs hourly ring his knell:\\n           [Burden: Ding-dong.]\\n         Hark! now I hear them-Ding-dong bell.\\n\\n  FERDINAND. The ditty does remember my drown'd father.\\n    This is no mortal business, nor no sound\\n    That the earth owes. I hear it now above me.\\n  PROSPERO. The fringed curtains of thine eye advance,\\n    And say what thou seest yond.\\n  MIRANDA. What is't? a spirit?\\n    Lord, how it looks about! Believe me, sir,\\n    It carries a brave form. But 'tis a spirit.\\n  PROSPERO. No, wench; it eats and sleeps and hath such senses\\n    As we have, such. This gallant which thou seest\\n    Was in the wreck; and but he's something stain'd\\n    With grief, that's beauty's canker, thou mightst call him\\n    A goodly person. He hath lost his fellows,\\n    And strays about to find 'em.\\n  MIRANDA. I might call him\\n    A thing divine; for nothing natural\\n    I ever saw so noble.\\n  PROSPERO.  [Aside]  It goes on, I see,\\n    As my soul prompts it. Spirit, fine spirit! I'll free thee\\n    Within two days for this.\\n  FERDINAND. Most sure, the goddess\\n    On whom these airs attend! Vouchsafe my pray'r\\n    May know if you remain upon this island;\\n    And that you will some good instruction give\\n    How I may bear me here. My prime request,\\n    Which I do last pronounce, is, O you wonder!\\n    If you be maid or no?\\n  MIRANDA. No wonder, sir;\\n    But certainly a maid.\\n  FERDINAND. My language? Heavens!\\n    I am the best of them that speak this speech,\\n    Were I but where 'tis spoken.\\n  PROSPERO. How? the best?\\n    What wert thou, if the King of Naples heard thee?\\n  FERDINAND. A single thing, as I am now, that wonders\\n    To hear thee speak of Naples. He does hear me;\\n    And that he does I weep. Myself am Naples,\\n    Who with mine eyes, never since at ebb, beheld\\n    The King my father wreck'd.\\n  MIRANDA. Alack, for mercy!\\n  FERDINAND. Yes, faith, and all his lords, the Duke of Milan\\n    And his brave son being twain.\\n  PROSPERO.  [Aside]  The Duke of Milan\\n    And his more braver daughter could control thee,\\n    If now 'twere fit to do't. At the first sight\\n    They have chang'd eyes. Delicate Ariel,\\n    I'll set thee free for this.  [To FERDINAND]  A word, good\\n    sir;\\n    I fear you have done yourself some wrong; a word.\\n  MIRANDA. Why speaks my father so ungently? This\\n    Is the third man that e'er I saw; the first\\n    That e'er I sigh'd for. Pity move my father\\n    To be inclin'd my way!\\n  FERDINAND. O, if a virgin,\\n    And your affection not gone forth, I'll make you\\n    The Queen of Naples.\\n  PROSPERO. Soft, Sir! one word more.\\n    [Aside]  They are both in either's pow'rs; but this swift\\n    busines\\n    I must uneasy make, lest too light winning\\n    Make the prize light.  [To FERDINAND]  One word more; I\\n    charge thee\\n    That thou attend me; thou dost here usurp\\n    The name thou ow'st not; and hast put thyself\\n    Upon this island as a spy, to win it\\n    From me, the lord on't.\\n  FERDINAND. No, as I am a man.\\n  MIRANDA. There's nothing ill can dwell in such a temple.\\n    If the ill spirit have so fair a house,\\n    Good things will strive to dwell with't.\\n  PROSPERO. Follow me.\\n    Speak not you for him; he's a traitor. Come;\\n    I'll manacle thy neck and feet together.\\n    Sea-water shalt thou drink; thy food shall be\\n    The fresh-brook mussels, wither'd roots, and husks\\n    Wherein the acorn cradled. Follow.\\n  FERDINAND. No;\\n    I will resist such entertainment till\\n    Mine enemy has more power.\\n                          [He draws, and is charmed from moving]\\n  MIRANDA. O dear father,\\n    Make not too rash a trial of him, for\\n    He's gentle, and not fearful.\\n  PROSPERO. What, I say,\\n    My foot my tutor? Put thy sword up, traitor;\\n    Who mak'st a show but dar'st not strike, thy conscience\\n    Is so possess'd with guilt. Come from thy ward;\\n    For I can here disarm thee with this stick\\n    And make thy weapon drop.\\n  MIRANDA. Beseech you, father!\\n  PROSPERO. Hence! Hang not on my garments.\\n  MIRANDA. Sir, have pity;\\n    I'll be his surety.\\n  PROSPERO. Silence! One word more\\n    Shall make me chide thee, if not hate thee. What!\\n    An advocate for an impostor! hush!\\n    Thou think'st there is no more such shapes as he,\\n    Having seen but him and Caliban. Foolish wench!\\n    To th' most of men this is a Caliban,\\n    And they to him are angels.\\n  MIRANDA. My affections\\n    Are then most humble; I have no ambition\\n    To see a goodlier man.\\n  PROSPERO. Come on; obey.\\n    Thy nerves are in their infancy again,\\n    And have no vigour in them.\\n  FERDINAND. So they are;\\n    My spirits, as in a dream, are all bound up.\\n    My father's loss, the weakness which I feel,\\n    The wreck of all my friends, nor this man's threats\\n    To whom I am subdu'd, are but light to me,\\n    Might I but through my prison once a day\\n    Behold this maid. All corners else o' th' earth\\n    Let liberty make use of; space enough\\n    Have I in such a prison.\\n  PROSPERO.  [Aside]  It works.  [To FERDINAND]  Come on.-\\n    Thou hast done well, fine Ariel!  [To FERDINAND]  Follow\\n    me.\\n    [To ARIEL]  Hark what thou else shalt do me.\\n  MIRANDA. Be of comfort;\\n    My father's of a better nature, sir,\\n    Than he appears by speech; this is unwonted\\n    Which now came from him.\\n  PROSPERO.  [To ARIEL]  Thou shalt be as free\\n    As mountain winds; but then exactly do\\n    All points of my command.\\n  ARIEL. To th' syllable.\\n  PROSPERO.  [To FERDINAND]  Come, follow.  [To MIRANDA]\\n    Speak not for him.                                    Exeunt\\n\\n\\n\\n\\n<<THIS ELECTRONIC VERSION OF THE COMPLETE WORKS OF WILLIAM\\nSHAKESPEARE IS COPYRIGHT 1990-1993 BY WORLD LIBRARY, INC., AND IS\\nPROVIDED BY PROJECT GUTENBERG ETEXT OF CARNEGIE MELLON UNIVERSITY\\nWITH PERMISSION.  ELECTRONIC AND MACHINE READABLE COPIES MAY BE\\nDISTRIBUTED SO LONG AS SUCH COPIES (1) ARE FOR YOUR OR OTHERS\\nPERSONAL USE ONLY, AND (2) ARE NOT DISTRIBUTED OR USED\\nCOMMERCIALLY.  PROHIBITED COMMERCIAL DISTRIBUTION INCLUDES BY ANY\\nSERVICE THAT CHARGES FOR DOWNLOAD TIME OR FOR MEMBERSHIP.>>\\n\\n\\n\\n\", \"\\n\\nBefore PROSPERO'S cell\\n\\nEnter FERDINAND, hearing a log\\n\\n  FERDINAND. There be some sports are painful, and their\\n    labour\\n    Delight in them sets off; some kinds of baseness\\n    Are nobly undergone, and most poor matters\\n    Point to rich ends. This my mean task\\n    Would be as heavy to me as odious, but\\n    The mistress which I serve quickens what's dead,\\n    And makes my labours pleasures. O, she is\\n    Ten times more gentle than her father's crabbed;\\n    And he's compos'd of harshness. I must remove\\n    Some thousands of these logs, and pile them up,\\n    Upon a sore injunction; my sweet mistress\\n    Weeps when she sees me work, and says such baseness\\n    Had never like executor. I forget;\\n    But these sweet thoughts do even refresh my labours,\\n    Most busy, least when I do it.\\n\\n        Enter MIRANDA; and PROSPERO at a distance, unseen\\n\\n  MIRANDA. Alas, now; pray you,\\n    Work not so hard; I would the lightning had\\n    Burnt up those logs that you are enjoin'd to pile.\\n    Pray, set it down and rest you; when this burns,\\n    'Twill weep for having wearied you. My father\\n    Is hard at study; pray, now, rest yourself;\\n    He's safe for these three hours.\\n  FERDINAND. O most dear mistress,\\n    The sun will set before I shall discharge\\n    What I must strive to do.\\n  MIRANDA. If you'll sit down,\\n    I'll bear your logs the while; pray give me that;\\n    I'll carry it to the pile.\\n  FERDINAND. No, precious creature;\\n    I had rather crack my sinews, break my back,\\n    Than you should such dishonour undergo,\\n    While I sit lazy by.\\n  MIRANDA. It would become me\\n    As well as it does you; and I should do it\\n    With much more ease; for my good will is to it,\\n    And yours it is against.\\n  PROSPERO.  [Aside]  Poor worm, thou art infected!\\n    This visitation shows it.\\n  MIRANDA. You look wearily.\\n  FERDINAND. No, noble mistress; 'tis fresh morning with me\\n    When you are by at night. I do beseech you,\\n    Chiefly that I might set it in my prayers,\\n    What is your name?\\n  MIRANDA. Miranda-O my father,\\n    I have broke your hest to say so!\\n  FERDINAND. Admir'd Miranda!\\n    What's dearest to the world! Full many a lady\\n    I have ey'd with best regard; and many a time\\n    Th' harmony of their tongues hath into bondage\\n    Brought my too diligent ear; for several virtues\\n    Have I lik'd several women, never any\\n    With so full soul, but some defect in her\\n    Did quarrel with the noblest grace she ow'd,\\n    And put it to the foil; but you, O you,\\n    So perfect and so peerless, are created\\n    Of every creature's best!\\n  MIRANDA. I do not know\\n    One of my sex; no woman's face remember,\\n    Save, from my glass, mine own; nor have I seen\\n    More that I may call men than you, good friend,\\n    And my dear father. How features are abroad,\\n    I am skilless of; but, by my modesty,\\n    The jewel in my dower, I would not wish\\n    Any companion in the world but you;\\n    Nor can imagination form a shape,\\n    Besides yourself, to like of. But I prattle\\n    Something too wildly, and my father's precepts\\n    I therein do forget.\\n  FERDINAND. I am, in my condition,\\n    A prince, Miranda; I do think, a king-\\n    I would not so!-and would no more endure\\n    This wooden slavery than to suffer\\n    The flesh-fly blow my mouth. Hear my soul speak:\\n    The very instant that I saw you, did\\n    My heart fly to your service; there resides\\n    To make me slave to it; and for your sake\\n    Am I this patient log-man.\\n  MIRANDA. Do you love me?\\n  FERDINAND. O heaven, O earth, bear witness to this sound,\\n    And crown what I profess with kind event,\\n    If I speak true! If hollowly, invert\\n    What best is boded me to mischief! I,\\n    Beyond all limit of what else i' th' world,\\n    Do love, prize, honour you.\\n  MIRANDA. I am a fool\\n    To weep at what I am glad of.\\n  PROSPERO.  [Aside]  Fair encounter\\n    Of two most rare affections! Heavens rain grace\\n    On that which breeds between 'em!\\n  FERDINAND. Wherefore weep you?\\n  MIRANDA. At mine unworthiness, that dare not offer\\n    What I desire to give, and much less take\\n    What I shall die to want. But this is trifling;\\n    And all the more it seeks to hide itself,\\n    The bigger bulk it shows. Hence, bashful cunning!\\n    And prompt me, plain and holy innocence!\\n    I am your wife, if you will marry me;\\n    If not, I'll die your maid. To be your fellow\\n    You may deny me; but I'll be your servant,\\n    Whether you will or no.\\n  FERDINAND. My mistress, dearest;\\n    And I thus humble ever.\\n  MIRANDA. My husband, then?\\n  FERDINAND. Ay, with a heart as willing\\n    As bondage e'er of freedom. Here's my hand.\\n  MIRANDA. And mine, with my heart in't. And now farewell\\n    Till half an hour hence.\\n  FERDINAND. A thousand thousand!\\n                          Exeunt FERDINAND and MIRANDA severally\\n  PROSPERO. So glad of this as they I cannot be,\\n    Who are surpris'd withal; but my rejoicing\\n    At nothing can be more. I'll to my book;\\n    For yet ere supper time must I perform\\n    Much business appertaining.                             Exit\\n\\n\\n\\n\\nSCENE 2\\n\\nAnother part of the island\\n\\nEnter CALIBAN, STEPHANO, and TRINCULO\\n\\n  STEPHANO. Tell not me-when the butt is out we will drink\\n    water, not a drop before; therefore bear up, and board\\n    'em. Servant-monster, drink to me.\\n  TRINCULO. Servant-monster! The folly of this island! They\\n    say there's but five upon this isle: we are three of\\n    them; if th' other two be brain'd like us, the state\\n    totters.\\n  STEPHANO. Drink, servant-monster, when I bid thee; thy\\n    eyes are almost set in thy head.\\n  TRINCULO. Where should they be set else? He were a brave\\n    monster indeed, if they were set in his tail.\\n  STEPHANO. My man-monster hath drown'd his tongue in\\n    sack. For my part, the sea cannot drown me; I swam, ere\\n    I could recover the shore, five and thirty leagues, off\\n    and on. By this light, thou shalt be my lieutenant,\\n    monster, or my standard.\\n  TRINCULO. Your lieutenant, if you list; he's no standard.\\n  STEPHANO. We'll not run, Monsieur Monster.\\n  TRINCULO. Nor go neither; but you'll lie like dogs, and\\n    yet say nothing neither.\\n  STEPHANO. Moon-calf, speak once in thy life, if thou beest\\n    a good moon-calf.\\n  CALIBAN. How does thy honour? Let me lick thy shoe.\\n    I'll not serve him; he is not valiant.\\n  TRINCULO. Thou liest, most ignorant monster: I am in case\\n    to justle a constable. Why, thou debosh'd fish, thou,\\n    was there ever man a coward that hath drunk so much sack\\n    as I to-day? Wilt thou tell a monstrous lie, being but\\n    half fish and half a monster?\\n  CALIBAN. Lo, how he mocks me! Wilt thou let him, my\\n    lord?\\n  TRINCULO. 'Lord' quoth he! That a monster should be such\\n    a natural!\\n  CALIBAN. Lo, lo again! Bite him to death, I prithee.\\n  STEPHANO. Trinculo, keep a good tongue in your head; if\\n    you prove a mutineer-the next tree! The poor monster's\\n    my subject, and he shall not suffer indignity.\\n  CALIBAN. I thank my noble lord. Wilt thou be pleas'd to\\n    hearken once again to the suit I made to thee?\\n  STEPHANO. Marry will I; kneel and repeat it; I will stand,\\n    and so shall Trinculo.\\n\\n                     Enter ARIEL, invisible\\n\\n  CALIBAN. As I told thee before, I am subject to a tyrant,\\n    sorcerer, that by his cunning hath cheated me of the\\n    island.\\n  ARIEL. Thou liest.\\n  CALIBAN. Thou liest, thou jesting monkey, thou;\\n    I would my valiant master would destroy thee.\\n    I do not lie.\\n  STEPHANO. Trinculo, if you trouble him any more in's tale,\\n    by this hand, I will supplant some of your teeth.\\n  TRINCULO. Why, I said nothing.\\n  STEPHANO. Mum, then, and no more. Proceed.\\n  CALIBAN. I say, by sorcery he got this isle;\\n    From me he got it. If thy greatness will\\n    Revenge it on him-for I know thou dar'st,\\n    But this thing dare not-\\n  STEPHANO. That's most certain.\\n  CALIBAN. Thou shalt be lord of it, and I'll serve thee.\\n  STEPHANO. How now shall this be compass'd? Canst thou\\n    bring me to the party?\\n  CALIBAN. Yea, yea, my lord; I'll yield him thee asleep,\\n    Where thou mayst knock a nail into his head.\\n  ARIEL. Thou liest; thou canst not.\\n  CALIBAN. What a pied ninny's this! Thou scurvy patch!\\n    I do beseech thy greatness, give him blows,\\n    And take his bottle from him. When that's gone\\n    He shall drink nought but brine; for I'll not show him\\n    Where the quick freshes are.\\n  STEPHANO. Trinculo, run into no further danger; interrupt\\n    the monster one word further and, by this hand, I'll turn\\n    my mercy out o' doors, and make a stock-fish of thee.\\n  TRINCULO. Why, what did I? I did nothing. I'll go farther\\n    off.\\n  STEPHANO. Didst thou not say he lied?\\n  ARIEL. Thou liest.\\n  STEPHANO. Do I so? Take thou that.  [Beats him]  As you like\\n    this, give me the lie another time.\\n  TRINCULO. I did not give the lie. Out o' your wits and\\n    hearing too? A pox o' your bottle! This can sack and\\n    drinking do. A murrain on your monster, and the devil\\n    take your fingers!\\n  CALIBAN. Ha, ha, ha!\\n  STEPHANO. Now, forward with your tale.-Prithee stand\\n    further off.\\n  CALIBAN. Beat him enough; after a little time, I'll beat\\n    him too.\\n  STEPHANO. Stand farther. Come, proceed.\\n  CALIBAN. Why, as I told thee, 'tis a custom with him\\n    I' th' afternoon to sleep; there thou mayst brain him,\\n    Having first seiz'd his books; or with a log\\n    Batter his skull, or paunch him with a stake,\\n    Or cut his wezand with thy knife. Remember\\n    First to possess his books; for without them\\n    He's but a sot, as I am, nor hath not\\n    One spirit to command; they all do hate him\\n    As rootedly as I. Burn but his books.\\n    He has brave utensils-for so he calls them-\\n    Which, when he has a house, he'll deck withal.\\n    And that most deeply to consider is\\n    The beauty of his daughter; he himself\\n    Calls her a nonpareil. I never saw a woman\\n    But only Sycorax my dam and she;\\n    But she as far surpasseth Sycorax\\n    As great'st does least.\\n  STEPHANO. Is it so brave a lass?\\n  CALIBAN. Ay, lord; she will become thy bed, I warrant,\\n    And bring thee forth brave brood.\\n  STEPHANO. Monster, I will kill this man; his daughter and I\\n    will be King and Queen-save our Graces!-and Trinculo\\n    and thyself shall be viceroys. Dost thou like the plot,\\n    Trinculo?\\n  TRINCULO. Excellent.\\n  STEPHANO. Give me thy hand; I am sorry I beat thee; but\\n    while thou liv'st, keep a good tongue in thy head.\\n  CALIBAN. Within this half hour will he be asleep.\\n    Wilt thou destroy him then?\\n  STEPHANO. Ay, on mine honour.\\n  ARIEL. This will I tell my master.\\n  CALIBAN. Thou mak'st me merry; I am full of pleasure.\\n    Let us be jocund; will you troll the catch\\n    You taught me but while-ere?\\n  STEPHANO. At thy request, monster, I will do reason, any\\n    reason. Come on, Trinculo, let us sing.              [Sings]\\n\\n    Flout 'em and scout 'em,\\n    And scout 'em and flout 'em;\\n    Thought is free.\\n\\n  CALIBAN. That's not the tune.\\n                      [ARIEL plays the tune on a tabor and pipe]\\n  STEPHANO. What is this same?\\n  TRINCULO. This is the tune of our catch, play'd by the\\n    picture of Nobody.\\n  STEPHANO. If thou beest a man, show thyself in thy\\n    likeness; if thou beest a devil, take't as thou list.\\n  TRINCULO. O, forgive me my sins!\\n  STEPHANO. He that dies pays all debts. I defy thee. Mercy\\n    upon us!\\n  CALIBAN. Art thou afeard?\\n  STEPHANO. No, monster, not I.\\n  CALIBAN. Be not afeard. The isle is full of noises,\\n    Sounds, and sweet airs, that give delight, and hurt not.\\n    Sometimes a thousand twangling instruments\\n    Will hum about mine ears; and sometimes voices,\\n    That, if I then had wak'd after long sleep,\\n    Will make me sleep again; and then, in dreaming,\\n    The clouds methought would open and show riches\\n    Ready to drop upon me, that, when I wak'd,\\n    I cried to dream again.\\n  STEPHANO. This will prove a brave kingdom to me, where I\\n    shall have my music for nothing.\\n  CALIBAN. When Prospero is destroy'd.\\n  STEPHANO. That shall be by and by; I remember the story.\\n  TRINCULO. The sound is going away; let's follow it, and\\n    after do our work.\\n  STEPHANO. Lead, monster; we'll follow. I would I could see\\n    this taborer; he lays it on.\\n  TRINCULO. Wilt come? I'll follow, Stephano.             Exeunt\\n\\n\\n\\n\\nSCENE 3\\n\\nAnother part of the island\\n\\nEnter ALONSO, SEBASTIAN, ANTONIO, GONZALO, ADRIAN, FRANCISCO, and\\nOTHERS\\n\\n  GONZALO. By'r lakin, I can go no further, sir;\\n    My old bones ache. Here's a maze trod, indeed,\\n    Through forth-rights and meanders! By your patience,\\n    I needs must rest me.\\n  ALONSO. Old lord, I cannot blame thee,\\n    Who am myself attach'd with weariness\\n    To th' dulling of my spirits; sit down and rest.\\n    Even here I will put off my hope, and keep it\\n    No longer for my flatterer; he is drown'd\\n    Whom thus we stray to find, and the sea mocks\\n    Our frustrate search on land. Well, let him go.\\n  ANTONIO.  [Aside to SEBASTIAN]  I am right glad that he's\\n    so out of hope.\\n    Do not, for one repulse, forgo the purpose\\n    That you resolv'd t' effect.\\n  SEBASTIAN.  [Aside to ANTONIO]  The next advantage\\n    Will we take throughly.\\n  ANTONIO.  [Aside to SEBASTIAN]  Let it be to-night;\\n    For, now they are oppress'd with travel, they\\n    Will not, nor cannot, use such vigilance\\n    As when they are fresh.\\n  SEBASTIAN.  [Aside to ANTONIO]  I say, to-night; no more.\\n\\n           Solemn and strange music; and PROSPERO on the\\n           top, invisible. Enter several strange SHAPES,\\n           bringing in a banquet; and dance about it with\\n           gentle actions of salutations; and inviting the\\n           KING, etc., to eat, they depart\\n\\n  ALONSO. What harmony is this? My good friends, hark!\\n  GONZALO. Marvellous sweet music!\\n  ALONSO. Give us kind keepers, heavens! What were these?\\n  SEBASTIAN. A living drollery. Now I will believe\\n    That there are unicorns; that in Arabia\\n    There is one tree, the phoenix' throne, one phoenix\\n    At this hour reigning-there.\\n  ANTONIO. I'll believe both;\\n    And what does else want credit, come to me,\\n    And I'll be sworn 'tis true; travellers ne'er did lie,\\n    Though fools at home condemn 'em.\\n  GONZALO. If in Naples\\n    I should report this now, would they believe me?\\n    If I should say, I saw such islanders,\\n    For certes these are people of the island,\\n    Who though they are of monstrous shape yet, note,\\n    Their manners are more gentle-kind than of\\n    Our human generation you shall find\\n    Many, nay, almost any.\\n  PROSPERO.  [Aside]  Honest lord,\\n    Thou hast said well; for some of you there present\\n    Are worse than devils.\\n  ALONSO. I cannot too much muse\\n    Such shapes, such gesture, and such sound, expressing,\\n    Although they want the use of tongue, a kind\\n    Of excellent dumb discourse.\\n  PROSPERO.  [Aside]  Praise in departing.\\n  FRANCISCO. They vanish'd strangely.\\n  SEBASTIAN. No matter, since\\n    They have left their viands behind; for we have stomachs.\\n    Will't please you taste of what is here?\\n  ALONSO. Not I.\\n  GONZALO. Faith, sir, you need not fear. When we were boys,\\n    Who would believe that there were mountaineers,\\n    Dewlapp'd like bulls, whose throats had hanging at 'em\\n    Wallets of flesh? or that there were such men\\n    Whose heads stood in their breasts? which now we find\\n    Each putter-out of five for one will bring us\\n    Good warrant of.\\n  ALONSO. I will stand to, and feed,\\n    Although my last; no matter, since I feel\\n    The best is past. Brother, my lord the Duke,\\n    Stand to, and do as we.\\n\\n       Thunder and lightning. Enter ARIEL, like a harpy;\\n       claps his wings upon the table; and, with a quaint\\n                device, the banquet vanishes\\n\\n  ARIEL. You are three men of sin, whom Destiny,\\n    That hath to instrument this lower world\\n    And what is in't, the never-surfeited sea\\n    Hath caus'd to belch up you; and on this island\\n    Where man doth not inhabit-you 'mongst men\\n    Being most unfit to live. I have made you mad;\\n    And even with such-like valour men hang and drown\\n    Their proper selves.\\n                     [ALONSO, SEBASTIAN etc., draw their swords]\\n    You fools! I and my fellows\\n    Are ministers of Fate; the elements\\n    Of whom your swords are temper'd may as well\\n    Wound the loud winds, or with bemock'd-at stabs\\n    Kill the still-closing waters, as diminish\\n    One dowle that's in my plume; my fellow-ministers\\n    Are like invulnerable. If you could hurt,\\n    Your swords are now too massy for your strengths\\n    And will not be uplifted. But remember-\\n    For that's my business to you-that you three\\n    From Milan did supplant good Prospero;\\n    Expos'd unto the sea, which hath requit it,\\n    Him, and his innocent child; for which foul deed\\n    The pow'rs, delaying, not forgetting, have\\n    Incens'd the seas and shores, yea, all the creatures,\\n    Against your peace. Thee of thy son, Alonso,\\n    They have bereft; and do pronounce by me\\n    Ling'ring perdition, worse than any death\\n    Can be at once, shall step by step attend\\n    You and your ways; whose wraths to guard you from-\\n    Which here, in this most desolate isle, else falls\\n    Upon your heads-is nothing but heart's sorrow,\\n    And a clear life ensuing.\\n\\n        He vanishes in thunder; then, to soft music, enter\\n        the SHAPES again, and dance, with mocks and mows,\\n                and carrying out the table\\n\\n  PROSPERO. Bravely the figure of this harpy hast thou\\n    Perform'd, my Ariel; a grace it had, devouring.\\n    Of my instruction hast thou nothing bated\\n    In what thou hadst to say; so, with good life\\n    And observation strange, my meaner ministers\\n    Their several kinds have done. My high charms work,\\n    And these mine enemies are all knit up\\n    In their distractions. They now are in my pow'r;\\n    And in these fits I leave them, while I visit\\n    Young Ferdinand, whom they suppose is drown'd,\\n    And his and mine lov'd darling.                   Exit above\\n  GONZALO. I' th' name of something holy, sir, why stand you\\n    In this strange stare?\\n  ALONSO. O, it is monstrous, monstrous!\\n    Methought the billows spoke, and told me of it;\\n    The winds did sing it to me; and the thunder,\\n    That deep and dreadful organ-pipe, pronounc'd\\n    The name of Prosper; it did bass my trespass.\\n    Therefore my son i' th' ooze is bedded; and\\n    I'll seek him deeper than e'er plummet sounded,\\n    And with him there lie mudded.                          Exit\\n  SEBASTIAN. But one fiend at a time,\\n    I'll fight their legions o'er.\\n  ANTONIO. I'll be thy second.      Exeunt SEBASTIAN and ANTONIO\\n  GONZALO. All three of them are desperate; their great guilt,\\n    Like poison given to work a great time after,\\n    Now gins to bite the spirits. I do beseech you,\\n    That are of suppler joints, follow them swiftly,\\n    And hinder them from what this ecstasy\\n    May now provoke them to.\\n  ADRIAN. Follow, I pray you.                             Exeunt\\n\\n\\n\\n\\n<<THIS ELECTRONIC VERSION OF THE COMPLETE WORKS OF WILLIAM\\nSHAKESPEARE IS COPYRIGHT 1990-1993 BY WORLD LIBRARY, INC., AND IS\\nPROVIDED BY PROJECT GUTENBERG ETEXT OF CARNEGIE MELLON UNIVERSITY\\nWITH PERMISSION.  ELECTRONIC AND MACHINE READABLE COPIES MAY BE\\nDISTRIBUTED SO LONG AS SUCH COPIES (1) ARE FOR YOUR OR OTHERS\\nPERSONAL USE ONLY, AND (2) ARE NOT DISTRIBUTED OR USED\\nCOMMERCIALLY.  PROHIBITED COMMERCIAL DISTRIBUTION INCLUDES BY ANY\\nSERVICE THAT CHARGES FOR DOWNLOAD TIME OR FOR MEMBERSHIP.>>\\n\\n\\n\\n\", \"\\n\\nBefore PROSPERO'S cell\\n\\nEnter PROSPERO in his magic robes, and ARIEL\\n\\n  PROSPERO. Now does my project gather to a head;\\n    My charms crack not, my spirits obey; and time\\n    Goes upright with his carriage. How's the day?\\n  ARIEL. On the sixth hour; at which time, my lord,\\n    You said our work should cease.\\n  PROSPERO. I did say so,\\n    When first I rais'd the tempest. Say, my spirit,\\n    How fares the King and 's followers?\\n  ARIEL. Confin'd together\\n    In the same fashion as you gave in charge;\\n    Just as you left them; all prisoners, sir,\\n    In the line-grove which weather-fends your cell;\\n    They cannot budge till your release. The King,\\n    His brother, and yours, abide all three distracted,\\n    And the remainder mourning over them,\\n    Brim full of sorrow and dismay; but chiefly\\n    Him you term'd, sir, 'the good old lord, Gonzalo';\\n    His tears run down his beard, like winter's drops\\n    From eaves of reeds. Your charm so strongly works 'em\\n    That if you now beheld them your affections\\n    Would become tender.\\n  PROSPERO. Dost thou think so, spirit?\\n  ARIEL. Mine would, sir, were I human.\\n  PROSPERO. And mine shall.\\n    Hast thou, which art but air, a touch, a feeling\\n    Of their afflictions, and shall not myself,\\n    One of their kind, that relish all as sharply,\\n    Passion as they, be kindlier mov'd than thou art?\\n    Though with their high wrongs I am struck to th' quick,\\n    Yet with my nobler reason 'gainst my fury\\n    Do I take part; the rarer action is\\n    In virtue than in vengeance; they being penitent,\\n    The sole drift of my purpose doth extend\\n    Not a frown further. Go release them, Ariel;\\n    My charms I'll break, their senses I'll restore,\\n    And they shall be themselves.\\n  ARIEL. I'll fetch them, sir.                              Exit\\n  PROSPERO. Ye elves of hills, brooks, standing lakes, and\\n    groves;\\n    And ye that on the sands with printless foot\\n    Do chase the ebbing Neptune, and do fly him\\n    When he comes back; you demi-puppets that\\n    By moonshine do the green sour ringlets make,\\n    Whereof the ewe not bites; and you whose pastime\\n    Is to make midnight mushrooms, that rejoice\\n    To hear the solemn curfew; by whose aid-\\n    Weak masters though ye be-I have be-dimm'd\\n    The noontide sun, call'd forth the mutinous winds,\\n    And 'twixt the green sea and the azur'd vault\\n    Set roaring war. To the dread rattling thunder\\n    Have I given fire, and rifted Jove's stout oak\\n    With his own bolt; the strong-bas'd promontory\\n    Have I made shake, and by the spurs pluck'd up\\n    The pine and cedar. Graves at my command\\n    Have wak'd their sleepers, op'd, and let 'em forth,\\n    By my so potent art. But this rough magic\\n    I here abjure; and, when I have requir'd\\n    Some heavenly music-which even now I do-\\n    To work mine end upon their senses that\\n    This airy charm is for, I'll break my staff,\\n    Bury it certain fathoms in the earth,\\n    And deeper than did ever plummet sound\\n    I'll drown my book.                            [Solem music]\\n\\n            Here enters ARIEL before; then ALONSO, with\\n          frantic gesture, attended by GONZALO; SEBASTIAN\\n           and ANTONIO in like manner, attended by ADRIAN\\n           and FRANCISCO. They all enter the circle which\\n          PROSPERO had made, and there stand charm'd; which\\n                    PROSPERO observing, speaks\\n\\n    A solemn air, and the best comforter\\n    To an unsettled fancy, cure thy brains,\\n    Now useless, boil'd within thy skull! There stand,\\n    For you are spell-stopp'd.\\n    Holy Gonzalo, honourable man,\\n    Mine eyes, ev'n sociable to the show of thine,\\n    Fall fellowly drops. The charm dissolves apace,\\n    And as the morning steals upon the night,\\n    Melting the darkness, so their rising senses\\n    Begin to chase the ignorant fumes that mantle\\n    Their clearer reason. O good Gonzalo,\\n    My true preserver, and a loyal sir\\n    To him thou follow'st! I will pay thy graces\\n    Home both in word and deed. Most cruelly\\n    Didst thou, Alonso, use me and my daughter;\\n    Thy brother was a furtherer in the act.\\n    Thou art pinch'd for't now, Sebastian. Flesh and blood,\\n    You, brother mine, that entertain'd ambition,\\n    Expell'd remorse and nature, who, with Sebastian-\\n    Whose inward pinches therefore are most strong-\\n    Would here have kill'd your king, I do forgive thee,\\n    Unnatural though thou art. Their understanding\\n    Begins to swell, and the approaching tide\\n    Will shortly fill the reasonable shore\\n    That now lies foul and muddy. Not one of them\\n    That yet looks on me, or would know me. Ariel,\\n    Fetch me the hat and rapier in my cell;           Exit ARIEL\\n    I will discase me, and myself present\\n    As I was sometime Milan. Quickly, spirit\\n    Thou shalt ere long be free.\\n\\n        ARIEL, on returning, sings and helps to attire him\\n\\n    Where the bee sucks, there suck I;\\n    In a cowslip's bell I lie;\\n    There I couch when owls do cry.\\n    On the bat's back I do fly\\n    After summer merrily.\\n    Merrily, merrily shall I live now\\n    Under the blossom that hangs on the bough.\\n\\n  PROSPERO. Why, that's my dainty Ariel! I shall miss thee;\\n    But yet thou shalt have freedom. So, so, so.\\n    To the King's ship, invisible as thou art;\\n    There shalt thou find the mariners asleep\\n    Under the hatches; the master and the boatswain\\n    Being awake, enforce them to this place;\\n    And presently, I prithee.\\n  ARIEL. I drink the air before me, and return\\n    Or ere your pulse twice beat.                           Exit\\n  GONZALO. All torment, trouble, wonder and amazement,\\n    Inhabits here. Some heavenly power guide us\\n    Out of this fearful country!\\n  PROSPERO. Behold, Sir King,\\n    The wronged Duke of Milan, Prospero.\\n    For more assurance that a living prince\\n    Does now speak to thee, I embrace thy body;\\n    And to thee and thy company I bid\\n    A hearty welcome.\\n  ALONSO. Whe'er thou be'st he or no,\\n    Or some enchanted trifle to abuse me,\\n    As late I have been, I not know. Thy pulse\\n    Beats, as of flesh and blood; and, since I saw thee,\\n    Th' affliction of my mind amends, with which,\\n    I fear, a madness held me. This must crave-\\n    An if this be at all-a most strange story.\\n    Thy dukedom I resign, and do entreat\\n    Thou pardon me my wrongs. But how should Prospero\\n    Be living and be here?\\n  PROSPERO. First, noble friend,\\n    Let me embrace thine age, whose honour cannot\\n    Be measur'd or confin'd.\\n  GONZALO. Whether this be\\n    Or be not, I'll not swear.\\n  PROSPERO. You do yet taste\\n    Some subtleties o' th' isle, that will not let you\\n    Believe things certain. Welcome, my friends all!\\n    [Aside to SEBASTIAN and ANTONIO]  But you, my brace of\\n      lords, were I so minded,\\n    I here could pluck his Highness' frown upon you,\\n    And justify you traitors; at this time\\n    I will tell no tales.\\n  SEBASTIAN.  [Aside]  The devil speaks in him.\\n  PROSPERO. No.\\n    For you, most wicked sir, whom to call brother\\n    Would even infect my mouth, I do forgive\\n    Thy rankest fault-all of them; and require\\n    My dukedom of thee, which perforce I know\\n    Thou must restore.\\n  ALONSO. If thou beest Prospero,\\n    Give us particulars of thy preservation;\\n    How thou hast met us here, whom three hours since\\n    Were wreck'd upon this shore; where I have lost-\\n    How sharp the point of this remembrance is!-\\n    My dear son Ferdinand.\\n  PROSPERO. I am woe for't, sir.\\n  ALONSO. Irreparable is the loss; and patience\\n    Says it is past her cure.\\n  PROSPERO. I rather think\\n    You have not sought her help, of whose soft grace\\n    For the like loss I have her sovereign aid,\\n    And rest myself content.\\n  ALONSO. You the like loss!\\n  PROSPERO. As great to me as late; and, supportable\\n    To make the dear loss, have I means much weaker\\n    Than you may call to comfort you, for I\\n    Have lost my daughter.\\n  ALONSO. A daughter!\\n    O heavens, that they were living both in Naples,\\n    The King and Queen there! That they were, I wish\\n    Myself were mudded in that oozy bed\\n    Where my son lies. When did you lose your daughter?\\n  PROSPERO. In this last tempest. I perceive these lords\\n    At this encounter do so much admire\\n    That they devour their reason, and scarce think\\n    Their eyes do offices of truth, their words\\n    Are natural breath; but, howsoe'er you have\\n    Been justled from your senses, know for certain\\n    That I am Prospero, and that very duke\\n    Which was thrust forth of Milan; who most strangely\\n    Upon this shore, where you were wrecked, was landed\\n    To be the lord on't. No more yet of this;\\n    For 'tis a chronicle of day by day,\\n    Not a relation for a breakfast, nor\\n    Befitting this first meeting. Welcome, sir;\\n    This cell's my court; here have I few attendants,\\n    And subjects none abroad; pray you, look in.\\n    My dukedom since you have given me again,\\n    I will requite you with as good a thing;\\n    At least bring forth a wonder, to content ye\\n    As much as me my dukedom.\\n\\n          Here PROSPERO discovers FERDINAND and MIRANDA,\\n                      playing at chess\\n\\n  MIRANDA. Sweet lord, you play me false.\\n  FERDINAND. No, my dearest love,\\n    I would not for the world.\\n  MIRANDA. Yes, for a score of kingdoms you should wrangle\\n    And I would call it fair play.\\n  ALONSO. If this prove\\n    A vision of the island, one dear son\\n    Shall I twice lose.\\n  SEBASTIAN. A most high miracle!\\n  FERDINAND. Though the seas threaten, they are merciful;\\n    I have curs'd them without cause.                   [Kneels]\\n  ALONSO. Now all the blessings\\n    Of a glad father compass thee about!\\n    Arise, and say how thou cam'st here.\\n  MIRANDA. O, wonder!\\n    How many goodly creatures are there here!\\n    How beauteous mankind is! O brave new world\\n    That has such people in't!\\n  PROSPERO. 'Tis new to thee.\\n  ALONSO. What is this maid with whom thou wast at play?\\n    Your eld'st acquaintance cannot be three hours;\\n    Is she the goddess that hath sever'd us,\\n    And brought us thus together?\\n  FERDINAND. Sir, she is mortal;\\n    But by immortal Providence she's mine.\\n    I chose her when I could not ask my father\\n    For his advice, nor thought I had one. She\\n    Is daughter to this famous Duke of Milan,\\n    Of whom so often I have heard renown\\n    But never saw before; of whom I have\\n    Receiv'd a second life; and second father\\n    This lady makes him to me.\\n  ALONSO. I am hers.\\n    But, O, how oddly will it sound that I\\n    Must ask my child forgiveness!\\n  PROSPERO. There, sir, stop;\\n    Let us not burden our remembrances with\\n    A heaviness that's gone.\\n  GONZALO. I have inly wept,\\n    Or should have spoke ere this. Look down, you gods,\\n    And on this couple drop a blessed crown;\\n    For it is you that have chalk'd forth the way\\n    Which brought us hither.\\n  ALONSO. I say, Amen, Gonzalo!\\n  GONZALO. Was Milan thrust from Milan, that his issue\\n    Should become Kings of Naples? O, rejoice\\n    Beyond a common joy, and set it down\\n    With gold on lasting pillars: in one voyage\\n    Did Claribel her husband find at Tunis;\\n    And Ferdinand, her brother, found a wife\\n    Where he himself was lost; Prospero his dukedom\\n    In a poor isle; and all of us ourselves\\n    When no man was his own.\\n  ALONSO.  [To FERDINAND and MIRANDA]  Give me your\\n    hands.\\n    Let grief and sorrow still embrace his heart\\n    That doth not wish you joy.\\n  GONZALO. Be it so. Amen!\\n\\n           Re-enter ARIEL, with the MASTER and BOATSWAIN\\n                     amazedly following\\n\\n    O look, sir; look, sir! Here is more of us!\\n    I prophesied, if a gallows were on land,\\n    This fellow could not drown. Now, blasphemy,\\n    That swear'st grace o'erboard, not an oath on shore?\\n    Hast thou no mouth by land? What is the news?\\n  BOATSWAIN. The best news is that we have safely found\\n    Our King and company; the next, our ship-\\n    Which but three glasses since we gave out split-\\n    Is tight and yare, and bravely rigg'd, as when\\n    We first put out to sea.\\n  ARIEL.  [Aside to PROSPERO]  Sir, all this service\\n    Have I done since I went.\\n  PROSPERO.  [Aside to ARIEL]  My tricksy spirit!\\n  ALONSO. These are not natural events; they strengthen\\n    From strange to stranger. Say, how came you hither?\\n  BOATSWAIN. If I did think, sir, I were well awake,\\n    I'd strive to tell you. We were dead of sleep,\\n    And-how, we know not-all clapp'd under hatches;\\n    Where, but even now, with strange and several noises\\n    Of roaring, shrieking, howling, jingling chains,\\n    And moe diversity of sounds, all horrible,\\n    We were awak'd; straightway at liberty;\\n    Where we, in all her trim, freshly beheld\\n    Our royal, good, and gallant ship; our master\\n    Cap'ring to eye her. On a trice, so please you,\\n    Even in a dream, were we divided from them,\\n    And were brought moping hither.\\n  ARIEL.  [Aside to PROSPERO]  Was't well done?\\n  PROSPERO.  [Aside to ARIEL]  Bravely, my diligence. Thou\\n    shalt be free.\\n  ALONSO. This is as strange a maze as e'er men trod;\\n    And there is in this business more than nature\\n    Was ever conduct of. Some oracle\\n    Must rectify our knowledge.\\n  PROSPERO. Sir, my liege,\\n    Do not infest your mind with beating on\\n    The strangeness of this business; at pick'd leisure,\\n    Which shall be shortly, single I'll resolve you,\\n    Which to you shall seem probable, of every\\n    These happen'd accidents; till when, be cheerful\\n    And think of each thing well.  [Aside to ARIEL]  Come\\n    hither, spirit;\\n    Set Caliban and his companions free;\\n    Untie the spell.  [Exit ARIEL]  How fares my gracious sir?\\n    There are yet missing of your company\\n    Some few odd lads that you remember not.\\n\\n         Re-enter ARIEL, driving in CALIBAN, STEPHANO, and\\n\\n  TRINCULO, in their stolen apparel\\n  STEPHANO. Every man shift for all the rest, and let no man\\n    take care for himself; for all is but fortune. Coragio,\\n    bully-monster, coragio!\\n  TRINCULO. If these be true spies which I wear in my head,\\n    here's a goodly sight.\\n  CALIBAN. O Setebos, these be brave spirits indeed!\\n    How fine my master is! I am afraid\\n    He will chastise me.\\n  SEBASTIAN. Ha, ha!\\n    What things are these, my lord Antonio?\\n    Will money buy'em?\\n  ANTONIO. Very like; one of them\\n    Is a plain fish, and no doubt marketable.\\n  PROSPERO. Mark but the badges of these men, my lords,\\n    Then say if they be true. This mis-shapen knave-\\n    His mother was a witch, and one so strong\\n    That could control the moon, make flows and ebbs,\\n    And deal in her command without her power.\\n    These three have robb'd me; and this demi-devil-\\n    For he's a bastard one-had plotted with them\\n    To take my life. Two of these fellows you\\n    Must know and own; this thing of darkness I\\n    Acknowledge mine.\\n  CALIBAN. I shall be pinch'd to death.\\n  ALONSO. Is not this Stephano, my drunken butler?\\n  SEBASTIAN. He is drunk now; where had he wine?\\n  ALONSO. And Trinculo is reeling ripe; where should they\\n    Find this grand liquor that hath gilded 'em?\\n    How cam'st thou in this pickle?\\n  TRINCULO. I have been in such a pickle since I saw you\\n    last that, I fear me, will never out of my bones. I\\n    shall not fear fly-blowing.\\n  SEBASTIAN. Why, how now, Stephano!\\n  STEPHANO. O, touch me not; I am not Stephano, but a\\n    cramp.\\n  PROSPERO. You'd be king o' the isle, sirrah?\\n  STEPHANO. I should have been a sore one, then.\\n  ALONSO.  [Pointing to CALIBAN]  This is as strange a thing\\n    as e'er I look'd on.\\n  PROSPERO. He is as disproportioned in his manners\\n    As in his shape. Go, sirrah, to my cell;\\n    Take with you your companions; as you look\\n    To have my pardon, trim it handsomely.\\n  CALIBAN. Ay, that I will; and I'll be wise hereafter,\\n    And seek for grace. What a thrice-double ass\\n    Was I to take this drunkard for a god,\\n    And worship this dull fool!\\n  PROSPERO. Go to; away!\\n  ALONSO. Hence, and bestow your luggage where you found it.\\n  SEBASTIAN. Or stole it, rather.\\n                          Exeunt CALIBAN, STEPHANO, and TRINCULO\\n  PROSPERO. Sir, I invite your Highness and your train\\n    To my poor cell, where you shall take your rest\\n    For this one night; which, part of it, I'll waste\\n    With such discourse as, I not doubt, shall make it\\n    Go quick away-the story of my life,\\n    And the particular accidents gone by\\n    Since I came to this isle. And in the morn\\n    I'll bring you to your ship, and so to Naples,\\n    Where I have hope to see the nuptial\\n    Of these our dear-belov'd solemnized,\\n    And thence retire me to my Milan, where\\n    Every third thought shall be my grave.\\n  ALONSO. I long\\n    To hear the story of your life, which must\\n    Take the ear strangely.\\n  PROSPERO. I'll deliver all;\\n    And promise you calm seas, auspicious gales,\\n    And sail so expeditious that shall catch\\n    Your royal fleet far off.  [Aside to ARIEL]  My Ariel,\\n      chick,\\n    That is thy charge. Then to the elements\\n    Be free, and fare thou well!-Please you, draw near.\\n                                                          Exeunt\\n\\n\\n\\nEPILOGUE\\n                             EPILOGUE\\n                        Spoken by PROSPERO\\n\\n          Now my charms are all o'erthrown,\\n          And what strength I have's mine own,\\n          Which is most faint. Now 'tis true,\\n          I must be here confin'd by you,\\n          Or sent to Naples. Let me not,\\n          Since I have my dukedom got,\\n          And pardon'd the deceiver, dwell\\n          In this bare island by your spell;\\n          But release me from my bands\\n          With the help of your good hands.\\n          Gentle breath of yours my sails\\n          Must fill, or else my project fails,\\n          Which was to please. Now I want\\n          Spirits to enforce, art to enchant;\\n          And my ending is despair\\n          Unless I be reliev'd by prayer,\\n          Which pierces so that it assaults\\n          Mercy itself, and frees all faults.\\n          As you from crimes would pardon'd be,\\n          Let your indulgence set me free.\\n\\nTHE END\\n\\n\\n\\n\\n\\n<<THIS ELECTRONIC VERSION OF THE COMPLETE WORKS OF WILLIAM\\nSHAKESPEARE IS COPYRIGHT 1990-1993 BY WORLD LIBRARY, INC., AND IS\\nPROVIDED BY PROJECT GUTENBERG ETEXT OF CARNEGIE MELLON UNIVERSITY\\nWITH PERMISSION.  ELECTRONIC AND MACHINE READABLE COPIES MAY BE\\nDISTRIBUTED SO LONG AS SUCH COPIES (1) ARE FOR YOUR OR OTHERS\\nPERSONAL USE ONLY, AND (2) ARE NOT DISTRIBUTED OR USED\\nCOMMERCIALLY.  PROHIBITED COMMERCIAL DISTRIBUTION INCLUDES BY ANY\\nSERVICE THAT CHARGES FOR DOWNLOAD TIME OR FOR MEMBERSHIP.>>\\n\\n\\n\\n\\n\\nEnd of this Etext of The Complete Works of William Shakespeare\\nThe Tempest\\n\"]\n"
          ]
        }
      ],
      "source": [
        "import re\n",
        "\n",
        "#---Your code starts here---\n",
        "file_path = \"/content/tempest.txt\"\n",
        "delim = r\"ACT [IVXLCDM]+\\.\\s*SCENE \\d+\"\n",
        "#---Your code stops here---\n",
        "\n",
        "\n",
        "tempest_text = open(file_path, \"r\").read()\n",
        "scene_texts = re.split(delim, tempest_text)\n",
        "\n",
        "print(\"Scenes:\", scene_texts[1::2])"
      ]
    },
    {
      "cell_type": "markdown",
      "metadata": {
        "id": "_hIjCJ05QSje"
      },
      "source": [
        "__3b.__ (6 points) Splitting the text on scene fails to account for act information. Update `delim` to capture the structure of both acts and scenes. Print the acts and scenes identified in the play (e.g., \"ACT I. SCENE 1\")."
      ]
    },
    {
      "cell_type": "code",
      "execution_count": 17,
      "metadata": {
        "colab": {
          "base_uri": "https://localhost:8080/"
        },
        "id": "Rq6PxM7lQHJI",
        "outputId": "5f690b74-3329-42b6-96f5-4feada5b5528"
      },
      "outputs": [
        {
          "output_type": "stream",
          "name": "stdout",
          "text": [
            "Acts and scenes: ['ACT I.', \"\\n\\nOn a ship at sea; a tempestuous noise of thunder and lightning\\nheard\\n\\nEnter a SHIPMASTER and a BOATSWAIN\\n\\n  MASTER. Boatswain!\\n  BOATSWAIN. Here, master; what cheer?\\n  MASTER. Good! Speak to th' mariners; fall to't yarely, or\\n    we run ourselves aground; bestir, bestir.               Exit\\n\\n                       Enter MARINERS\\n\\n  BOATSWAIN. Heigh, my hearts! cheerly, cheerly, my hearts!\\n    yare, yare! Take in the topsail. Tend to th' master's\\n    whistle. Blow till thou burst thy wind, if room enough.\\n\\n          Enter ALONSO, SEBASTIAN, ANTONIO, FERDINAND\\n                     GONZALO, and OTHERS\\n\\n  ALONSO. Good boatswain, have care. Where's the master?\\n    Play the men.\\n  BOATSWAIN. I pray now, keep below.\\n  ANTONIO. Where is the master, boson?\\n  BOATSWAIN. Do you not hear him? You mar our labour;\\n    keep your cabins; you do assist the storm.\\n  GONZALO. Nay, good, be patient.\\n  BOATSWAIN. When the sea is. Hence! What cares these\\n    roarers for the name of king? To cabin! silence! Trouble\\n    us not.\\n  GONZALO. Good, yet remember whom thou hast aboard.\\n  BOATSWAIN. None that I more love than myself. You are\\n    counsellor; if you can command these elements to\\n    silence, and work the peace of the present, we will not\\n    hand a rope more. Use your authority; if you cannot, give\\n    thanks you have liv'd so long, and make yourself ready\\n    in your cabin for the mischance of the hour, if it so\\n    hap.-Cheerly, good hearts!-Out of our way, I say.\\n Exit\\n  GONZALO. I have great comfort from this fellow. Methinks\\n    he hath no drowning mark upon him; his complexion is\\n    perfect gallows. Stand fast, good Fate, to his hanging;\\n    make the rope of his destiny our cable, for our own doth\\n    little advantage. If he be not born to be hang'd, our\\n    case is miserable.                                    Exeunt\\n\\n                     Re-enter BOATSWAIN\\n\\n  BOATSWAIN. Down with the topmast. Yare, lower, lower!\\n    Bring her to try wi' th' maincourse.  [A cry within]  A\\n    plague upon this howling! They are louder than the\\n    weather or our office.\\n\\n           Re-enter SEBASTIAN, ANTONIO, and GONZALO\\n\\n    Yet again! What do you here? Shall we give o'er, and\\n    drown? Have you a mind to sink?\\n  SEBASTIAN. A pox o' your throat, you bawling, blasphemous,\\n    incharitable dog!\\n  BOATSWAIN. Work you, then.\\n  ANTONIO. Hang, cur; hang, you whoreson, insolent noisemaker;\\n    we are less afraid to be drown'd than thou art.\\n  GONZALO. I'll warrant him for drowning, though the ship were\\n    no stronger than a nutshell, and as leaky as an unstanched\\n    wench.\\n  BOATSWAIN. Lay her a-hold, a-hold; set her two courses; off\\n    to sea again; lay her off.\\n\\n                    Enter MARINERS, Wet\\n  MARINERS. All lost! to prayers, to prayers! all lost!\\n                                                          Exeunt\\n  BOATSWAIN. What, must our mouths be cold?\\n  GONZALO. The King and Prince at prayers!\\n    Let's assist them,\\n    For our case is as theirs.\\n  SEBASTIAN. I am out of patience.\\n  ANTONIO. We are merely cheated of our lives by drunkards.\\n    This wide-chopp'd rascal-would thou mightst lie drowning\\n    The washing of ten tides!\\n  GONZALO. He'll be hang'd yet,\\n    Though every drop of water swear against it,\\n    And gape at wid'st to glut him.\\n    [A confused noise within: Mercy on us!\\n    We split, we split! Farewell, my wife and children!\\n    Farewell, brother! We split, we split, we split!]\\n  ANTONIO. Let's all sink wi' th' King.\\n  SEBASTIAN. Let's take leave of him.\\n                                    Exeunt ANTONIO and SEBASTIAN\\n  GONZALO. Now would I give a thousand furlongs of sea for\\n    an acre of barren ground-long heath, brown furze, any\\n    thing. The wills above be done, but I would fain die\\n    dry death.                                            Exeunt\\n\\n\\n\\n\\nSCENE 2\\n\\nThe Island. Before PROSPERO'S cell\\n\\nEnter PROSPERO and MIRANDA\\n\\n  MIRANDA. If by your art, my dearest father, you have\\n    Put the wild waters in this roar, allay them.\\n    The sky, it seems, would pour down stinking pitch,\\n    But that the sea, mounting to th' welkin's cheek,\\n    Dashes the fire out. O, I have suffered\\n    With those that I saw suffer! A brave vessel,\\n    Who had no doubt some noble creature in her,\\n    Dash'd all to pieces! O, the cry did knock\\n    Against my very heart! Poor souls, they perish'd.\\n    Had I been any god of power, I would\\n    Have sunk the sea within the earth or ere\\n    It should the good ship so have swallow'd and\\n    The fraughting souls within her.\\n  PROSPERO. Be conected;\\n    No more amazement; tell your piteous heart\\n    There's no harm done.\\n  MIRANDA. O, woe the day!\\n  PROSPERO. No harm.\\n    I have done nothing but in care of thee,\\n    Of thee, my dear one, thee, my daughter, who\\n    Art ignorant of what thou art, nought knowing\\n    Of whence I am, nor that I am more better\\n    Than Prospero, master of a full poor cell,\\n    And thy no greater father.\\n  MIRANDA. More to know\\n    Did never meddle with my thoughts.\\n  PROSPERO. 'Tis time\\n    I should inform thee farther. Lend thy hand,\\n    And pluck my magic garment from me. So,\\n                                          [Lays down his mantle]\\n    Lie there my art. Wipe thou thine eyes; have comfort.\\n    The direful spectacle of the wreck, which touch'd\\n    The very virtue of compassion in thee,\\n    I have with such provision in mine art\\n    So safely ordered that there is no soul-\\n    No, not so much perdition as an hair\\n    Betid to any creature in the vessel\\n    Which thou heard'st cry, which thou saw'st sink.\\n    Sit down, for thou must now know farther.\\n  MIRANDA. You have often\\n    Begun to tell me what I am; but stopp'd,\\n    And left me to a bootless inquisition,\\n    Concluding 'Stay; not yet.'\\n  PROSPERO. The hour's now come;\\n    The very minute bids thee ope thine ear.\\n    Obey, and be attentive. Canst thou remember\\n    A time before we came unto this cell?\\n    I do not think thou canst; for then thou wast not\\n    Out three years old.\\n  MIRANDA. Certainly, sir, I can.\\n  PROSPERO. By what? By any other house, or person?\\n    Of any thing the image, tell me, that\\n    Hath kept with thy remembrance?\\n  MIRANDA. 'Tis far off,\\n    And rather like a dream than an assurance\\n    That my remembrance warrants. Had I not\\n    Four, or five, women once, that tended me?\\n  PROSPERO. Thou hadst, and more, Miranda. But how is it\\n    That this lives in thy mind? What seest thou else\\n    In the dark backward and abysm of time?\\n    If thou rememb'rest aught, ere thou cam'st here,\\n    How thou cam'st here thou mayst.\\n  MIRANDA. But that I do not.\\n  PROSPERO. Twelve year since, Miranda, twelve year since,\\n    Thy father was the Duke of Milan, and\\n    A prince of power.\\n  MIRANDA. Sir, are not you my father?\\n  PROSPERO. Thy mother was a piece of virtue, and\\n    She said thou wast my daughter; and thy father\\n    Was Duke of Milan, and his only heir\\n    And princess no worse issued.\\n  MIRANDA. O, the heavens!\\n    What foul play had we that we came from thence?\\n    Or blessed was't we did?\\n  PROSPERO. Both, both, my girl.\\n    By foul play, as thou say'st, were we heav'd thence;\\n    But blessedly holp hither.\\n  MIRANDA. O, my heart bleeds\\n    To think o' th' teen that I have turn'd you to,\\n    Which is from my remembrance. Please you, farther.\\n  PROSPERO. My brother and thy uncle, call'd Antonio-\\n    I pray thee, mark me that a brother should\\n    Be so perfidious. He, whom next thyself\\n    Of all the world I lov'd, and to him put\\n    The manage of my state; as at that time\\n    Through all the signories it was the first,\\n    And Prospero the prime duke, being so reputed\\n    In dignity, and for the liberal arts\\n    Without a parallel, those being all my study-\\n    The government I cast upon my brother\\n    And to my state grew stranger, being transported\\n    And rapt in secret studies. Thy false uncle-\\n    Dost thou attend me?\\n  MIRANDA. Sir, most heedfully.\\n  PROSPERO. Being once perfected how to grant suits,\\n    How to deny them, who t' advance, and who\\n    To trash for over-topping, new created\\n    The creatures that were mine, I say, or chang'd 'em,\\n    Or else new form'd 'em; having both the key\\n    Of officer and office, set all hearts i' th' state\\n    To what tune pleas'd his ear; that now he was\\n    The ivy which had hid my princely trunk\\n    And suck'd my verdure out on't. Thou attend'st not.\\n  MIRANDA. O, good sir, I do!\\n  PROSPERO. I pray thee, mark me.\\n    I thus neglecting worldly ends, all dedicated\\n    To closeness and the bettering of my mind\\n    With that which, but by being so retir'd,\\n    O'er-priz'd all popular rate, in my false brother\\n    Awak'd an evil nature; and my trust,\\n    Like a good parent, did beget of him\\n    A falsehood, in its contrary as great\\n    As my trust was; which had indeed no limit,\\n    A confidence sans bound. He being thus lorded,\\n    Not only with what my revenue yielded,\\n    But what my power might else exact, like one\\n    Who having into truth, by telling of it,\\n    Made such a sinner of his memory,\\n    To credit his own lie-he did believe\\n    He was indeed the Duke; out o' th' substitution,\\n    And executing th' outward face of royalty\\n    With all prerogative. Hence his ambition growing-\\n    Dost thou hear?\\n  MIRANDA. Your tale, sir, would cure deafness.\\n  PROSPERO. To have no screen between this part he play'd\\n    And him he play'd it for, he needs will be\\n    Absolute Milan. Me, poor man-my library\\n    Was dukedom large enough-of temporal royalties\\n    He thinks me now incapable; confederates,\\n    So dry he was for sway, wi' th' King of Naples,\\n    To give him annual tribute, do him homage,\\n    Subject his coronet to his crown, and bend\\n    The dukedom, yet unbow'd-alas, poor Milan!-\\n    To most ignoble stooping.\\n  MIRANDA. O the heavens!\\n  PROSPERO. Mark his condition, and th' event, then tell me\\n    If this might be a brother.\\n  MIRANDA. I should sin\\n    To think but nobly of my grandmother:\\n    Good wombs have borne bad sons.\\n  PROSPERO. Now the condition:\\n    This King of Naples, being an enemy\\n    To me inveterate, hearkens my brother's suit;\\n    Which was, that he, in lieu o' th' premises,\\n    Of homage, and I know not how much tribute,\\n    Should presently extirpate me and mine\\n    Out of the dukedom, and confer fair Milan\\n    With all the honours on my brother. Whereon,\\n    A treacherous army levied, one midnight\\n    Fated to th' purpose, did Antonio open\\n    The gates of Milan; and, i' th' dead of darkness,\\n    The ministers for th' purpose hurried thence\\n    Me and thy crying self.\\n  MIRANDA. Alack, for pity!\\n    I, not rememb'ring how I cried out then,\\n    Will cry it o'er again; it is a hint\\n    That wrings mine eyes to't.\\n  PROSPERO. Hear a little further,\\n    And then I'll bring thee to the present busines\\n    Which now's upon 's; without the which this story\\n    Were most impertinent.\\n  MIRANDA. Wherefore did they not\\n    That hour destroy us?\\n  PROSPERO. Well demanded, wench!\\n    My tale provokes that question. Dear, they durst not,\\n    So dear the love my people bore me; nor set\\n    A mark so bloody on the business; but\\n    With colours fairer painted their foul ends.\\n    In few, they hurried us aboard a bark;\\n    Bore us some leagues to sea, where they prepared\\n    A rotten carcass of a butt, not rigg'd,\\n    Nor tackle, sail, nor mast; the very rats\\n    Instinctively have quit it. There they hoist us,\\n    To cry to th' sea, that roar'd to us; to sigh\\n    To th' winds, whose pity, sighing back again,\\n    Did us but loving wrong.\\n  MIRANDA. Alack, what trouble\\n    Was I then to you!\\n  PROSPERO. O, a cherubin\\n    Thou wast that did preserve me! Thou didst smile,\\n    Infused with a fortitude from heaven,\\n    When I have deck'd the sea with drops full salt,\\n    Under my burden groan'd; which rais'd in me\\n    An undergoing stomach, to bear up\\n    Against what should ensue.\\n  MIRANDA. How came we ashore?\\n  PROSPERO. By Providence divine.\\n    Some food we had and some fresh water that\\n    A noble Neapolitan, Gonzalo,\\n    Out of his charity, who being then appointed\\n    Master of this design, did give us, with\\n    Rich garments, linens, stuffs, and necessaries,\\n    Which since have steaded much; so, of his gentleness,\\n    Knowing I lov'd my books, he furnish'd me\\n    From mine own library with volumes that\\n    I prize above my dukedom.\\n  MIRANDA. Would I might\\n    But ever see that man!\\n  PROSPERO. Now I arise.                    [Puts on his mantle]\\n    Sit still, and hear the last of our sea-sorrow.\\n    Here in this island we arriv'd; and here\\n    Have I, thy schoolmaster, made thee more profit\\n    Than other princess' can, that have more time\\n    For vainer hours, and tutors not so careful.\\n  MIRANDA. Heavens thank you for't! And now, I pray you,\\n      sir,\\n    For still 'tis beating in my mind, your reason\\n    For raising this sea-storm?\\n  PROSPERO. Know thus far forth:\\n    By accident most strange, bountiful Fortune,\\n    Now my dear lady, hath mine enemies\\n    Brought to this shore; and by my prescience\\n    I find my zenith doth depend upon\\n    A most auspicious star, whose influence\\n    If now I court not, but omit, my fortunes\\n    Will ever after droop. Here cease more questions;\\n    Thou art inclin'd to sleep; 'tis a good dullness,\\n    And give it way. I know thou canst not choose.\\n                                                [MIRANDA sleeps]\\n    Come away, servant; come; I am ready now.\\n    Approach, my Ariel. Come.\\n\\n                        Enter ARIEL\\n\\n  ARIEL. All hail, great master! grave sir, hail! I come\\n    To answer thy best pleasure; be't to fly,\\n    To swim, to dive into the fire, to ride\\n    On the curl'd clouds. To thy strong bidding task\\n    Ariel and all his quality.\\n  PROSPERO. Hast thou, spirit,\\n    Perform'd to point the tempest that I bade thee?\\n  ARIEL. To every article.\\n    I boarded the King's ship; now on the beak,\\n    Now in the waist, the deck, in every cabin,\\n    I flam'd amazement. Sometime I'd divide,\\n    And burn in many places; on the topmast,\\n    The yards, and bowsprit, would I flame distinctly,\\n    Then meet and join Jove's lightning, the precursors\\n    O' th' dreadful thunder-claps, more momentary\\n    And sight-outrunning were not; the fire and cracks\\n    Of sulphurous roaring the most mighty Neptune\\n    Seem to besiege, and make his bold waves tremble,\\n    Yea, his dread trident shake.\\n  PROSPERO. My brave spirit!\\n    Who was so firm, so constant, that this coil\\n    Would not infect his reason?\\n  ARIEL. Not a soul\\n    But felt a fever of the mad, and play'd\\n    Some tricks of desperation. All but mariners\\n    Plung'd in the foaming brine, and quit the vessel,\\n    Then all afire with me; the King's son, Ferdinand,\\n    With hair up-staring-then like reeds, not hair-\\n    Was the first man that leapt; cried 'Hell is empty,\\n    And all the devils are here.'\\n  PROSPERO. Why, that's my spirit!\\n    But was not this nigh shore?\\n  ARIEL. Close by, my master.\\n  PROSPERO. But are they, Ariel, safe?\\n  ARIEL. Not a hair perish'd;\\n    On their sustaining garments not a blemish,\\n    But fresher than before; and, as thou bad'st me,\\n    In troops I have dispers'd them 'bout the isle.\\n    The King's son have I landed by himself,\\n    Whom I left cooling of the air with sighs\\n    In an odd angle of the isle, and sitting,\\n    His arms in this sad knot.\\n  PROSPERO. Of the King's ship,\\n    The mariners, say how thou hast dispos'd,\\n    And all the rest o' th' fleet?\\n  ARIEL. Safely in harbour\\n    Is the King's ship; in the deep nook, where once\\n    Thou call'dst me up at midnight to fetch dew\\n    From the still-vex'd Bermoothes, there she's hid;\\n    The mariners all under hatches stowed,\\n    Who, with a charm join'd to their suff'red labour,\\n    I have left asleep; and for the rest o' th' fleet,\\n    Which I dispers'd, they all have met again,\\n    And are upon the Mediterranean flote\\n    Bound sadly home for Naples,\\n    Supposing that they saw the King's ship wreck'd,\\n    And his great person perish.\\n  PROSPERO. Ariel, thy charge\\n    Exactly is perform'd; but there's more work.\\n    What is the time o' th' day?\\n  ARIEL. Past the mid season.\\n  PROSPERO. At least two glasses. The time 'twixt six and now\\n    Must by us both be spent most preciously.\\n  ARIEL. Is there more toil? Since thou dost give me pains,\\n    Let me remember thee what thou hast promis'd,\\n    Which is not yet perform'd me.\\n  PROSPERO. How now, moody?\\n    What is't thou canst demand?\\n  ARIEL. My liberty.\\n  PROSPERO. Before the time be out? No more!\\n  ARIEL. I prithee,\\n    Remember I have done thee worthy service,\\n    Told thee no lies, made thee no mistakings, serv'd\\n    Without or grudge or grumblings. Thou didst promise\\n    To bate me a full year.\\n  PROSPERO. Dost thou forget\\n    From what a torment I did free thee?\\n  ARIEL. No.\\n  PROSPERO. Thou dost; and think'st it much to tread the ooze\\n    Of the salt deep,\\n    To run upon the sharp wind of the north,\\n    To do me business in the veins o' th' earth\\n    When it is bak'd with frost.\\n  ARIEL. I do not, sir.\\n  PROSPERO. Thou liest, malignant thing. Hast thou forgot\\n    The foul witch Sycorax, who with age and envy\\n    Was grown into a hoop? Hast thou forgot her?\\n  ARIEL. No, sir.\\n  PROSPERO. Thou hast. Where was she born?\\n    Speak; tell me.\\n  ARIEL. Sir, in Argier.\\n  PROSPERO. O, was she so? I must\\n    Once in a month recount what thou hast been,\\n    Which thou forget'st. This damn'd witch Sycorax,\\n    For mischiefs manifold, and sorceries terrible\\n    To enter human hearing, from Argier\\n    Thou know'st was banish'd; for one thing she did\\n    They would not take her life. Is not this true?\\n  ARIEL. Ay, sir.\\n  PROSPERO. This blue-ey'd hag was hither brought with child,\\n    And here was left by th'sailors. Thou, my slave,\\n    As thou report'st thyself, wast then her servant;\\n    And, for thou wast a spirit too delicate\\n    To act her earthy and abhorr'd commands,\\n    Refusing her grand hests, she did confine thee,\\n    By help of her more potent ministers,\\n    And in her most unmitigable rage,\\n    Into a cloven pine; within which rift\\n    Imprison'd thou didst painfully remain\\n    A dozen years; within which space she died,\\n    And left thee there, where thou didst vent thy groans\\n    As fast as mill-wheels strike. Then was this island-\\n    Save for the son that she did litter here,\\n    A freckl'd whelp, hag-born-not honour'd with\\n    A human shape.\\n  ARIEL. Yes, Caliban her son.\\n  PROSPERO. Dull thing, I say so; he, that Caliban\\n    Whom now I keep in service. Thou best know'st\\n    What torment I did find thee in; thy groans\\n    Did make wolves howl, and penetrate the breasts\\n    Of ever-angry bears; it was a torment\\n    To lay upon the damn'd, which Sycorax\\n    Could not again undo. It was mine art,\\n    When I arriv'd and heard thee, that made gape\\n    The pine, and let thee out.\\n  ARIEL. I thank thee, master.\\n  PROSPERO. If thou more murmur'st, I will rend an oak\\n    And peg thee in his knotty entrails, till\\n    Thou hast howl'd away twelve winters.\\n  ARIEL. Pardon, master;\\n    I will be correspondent to command,\\n    And do my spriting gently.\\n  PROSPERO. Do so; and after two days\\n    I will discharge thee.\\n  ARIEL. That's my noble master!\\n    What shall I do? Say what. What shall I do?\\n  PROSPERO. Go make thyself like a nymph o' th' sea; be subject\\n    To no sight but thine and mine, invisible\\n    To every eyeball else. Go take this shape,\\n    And hither come in 't. Go, hence with diligence!\\n                                                      Exit ARIEL\\n    Awake, dear heart, awake; thou hast slept well;\\n    Awake.\\n  MIRANDA. The strangeness of your story put\\n    Heaviness in me.\\n  PROSPERO. Shake it off. Come on,\\n    We'll visit Caliban, my slave, who never\\n    Yields us kind answer.\\n  MIRANDA. 'Tis a villain, sir,\\n    I do not love to look on.\\n  PROSPERO. But as 'tis,\\n    We cannot miss him: he does make our fire,\\n    Fetch in our wood, and serves in offices\\n    That profit us. What ho! slave! Caliban!\\n    Thou earth, thou! Speak.\\n  CALIBAN.   [ Within]  There's wood enough within.\\n  PROSPERO. Come forth, I say; there's other business for thee.\\n    Come, thou tortoise! when?\\n\\n             Re-enter ARIEL like a water-nymph\\n\\n    Fine apparition! My quaint Ariel,\\n    Hark in thine ear.\\n  ARIEL. My lord, it shall be done.                         Exit\\n  PROSPERO. Thou poisonous slave, got by the devil himself\\n    Upon thy wicked dam, come forth!\\n\\n                       Enter CALIBAN\\n\\n  CALIBAN. As wicked dew as e'er my mother brush'd\\n    With raven's feather from unwholesome fen\\n    Drop on you both! A south-west blow on ye\\n    And blister you all o'er!\\n  PROSPERO. For this, be sure, to-night thou shalt have cramps,\\n    Side-stitches that shall pen thy breath up; urchins\\n    Shall, for that vast of night that they may work,\\n    All exercise on thee; thou shalt be pinch'd\\n    As thick as honeycomb, each pinch more stinging\\n    Than bees that made 'em.\\n  CALIBAN. I must eat my dinner.\\n    This island's mine, by Sycorax my mother,\\n    Which thou tak'st from me. When thou cam'st first,\\n    Thou strok'st me and made much of me, wouldst give me\\n    Water with berries in't, and teach me how\\n    To name the bigger light, and how the less,\\n    That burn by day and night; and then I lov'd thee,\\n    And show'd thee all the qualities o' th' isle,\\n    The fresh springs, brine-pits, barren place and fertile.\\n    Curs'd be I that did so! All the charms\\n    Of Sycorax, toads, beetles, bats, light on you!\\n    For I am all the subjects that you have,\\n    Which first was mine own king; and here you sty me\\n    In this hard rock, whiles you do keep from me\\n    The rest o' th' island.\\n  PROSPERO. Thou most lying slave,\\n    Whom stripes may move, not kindness! I have us'd thee,\\n    Filth as thou art, with human care, and lodg'd thee\\n    In mine own cell, till thou didst seek to violate\\n    The honour of my child.\\n  CALIBAN. O ho, O ho! Would't had been done.\\n    Thou didst prevent me; I had peopl'd else\\n    This isle with Calibans.\\n  MIRANDA. Abhorred slave,\\n    Which any print of goodness wilt not take,\\n    Being capable of all ill! I pitied thee,\\n    Took pains to make thee speak, taught thee each hour\\n    One thing or other. When thou didst not, savage,\\n    Know thine own meaning, but wouldst gabble like\\n    A thing most brutish, I endow'd thy purposes\\n    With words that made them known. But thy vile race,\\n    Though thou didst learn, had that in't which good natures\\n    Could not abide to be with; therefore wast thou\\n    Deservedly confin'd into this rock, who hadst\\n    Deserv'd more than a prison.\\n  CALIBAN. You taught me language, and my profit on't\\n    Is, I know how to curse. The red plague rid you\\n    For learning me your language!\\n  PROSPERO. Hag-seed, hence!\\n    Fetch us in fuel. And be quick, thou 'rt best,\\n    To answer other business. Shrug'st thou, malice?\\n    If thou neglect'st, or dost unwillingly\\n    What I command, I'll rack thee with old cramps,\\n    Fill all thy bones with aches, make thee roar,\\n    That beasts shall tremble at thy din.\\n  CALIBAN. No, pray thee.\\n    [Aside]  I must obey. His art is of such pow'r,\\n    It would control my dam's god, Setebos,\\n    And make a vassal of him.\\n  PROSPERO. So, slave; hence!                       Exit CALIBAN\\n\\n         Re-enter ARIEL invisible, playing ad singing;\\n                     FERDINAND following\\n\\n                          ARIEL'S SONG.\\n            Come unto these yellow sands,\\n              And then take hands;\\n            Curtsied when you have and kiss'd,\\n              The wild waves whist,\\n            Foot it featly here and there,\\n            And, sweet sprites, the burden bear.\\n              Hark, hark!\\n            [Burden dispersedly: Bow-wow.]\\n              The watch dogs bark.\\n            [Burden dispersedly: Bow-wow.]\\n              Hark, hark! I hear\\n            The strain of strutting chanticleer\\n              Cry, Cock-a-diddle-dow.\\n  FERDINAND. Where should this music be? I' th' air or th'\\n    earth?\\n    It sounds no more; and sure it waits upon\\n    Some god o' th' island. Sitting on a bank,\\n    Weeping again the King my father's wreck,\\n    This music crept by me upon the waters,\\n    Allaying both their fury and my passion\\n    With its sweet air; thence I have follow'd it,\\n    Or it hath drawn me rather. But 'tis gone.\\n    No, it begins again.\\n\\n                   ARIEL'S SONG\\n         Full fathom five thy father lies;\\n           Of his bones are coral made;\\n         Those are pearls that were his eyes;\\n           Nothing of him that doth fade\\n         But doth suffer a sea-change\\n         Into something rich and strange.\\n         Sea-nymphs hourly ring his knell:\\n           [Burden: Ding-dong.]\\n         Hark! now I hear them-Ding-dong bell.\\n\\n  FERDINAND. The ditty does remember my drown'd father.\\n    This is no mortal business, nor no sound\\n    That the earth owes. I hear it now above me.\\n  PROSPERO. The fringed curtains of thine eye advance,\\n    And say what thou seest yond.\\n  MIRANDA. What is't? a spirit?\\n    Lord, how it looks about! Believe me, sir,\\n    It carries a brave form. But 'tis a spirit.\\n  PROSPERO. No, wench; it eats and sleeps and hath such senses\\n    As we have, such. This gallant which thou seest\\n    Was in the wreck; and but he's something stain'd\\n    With grief, that's beauty's canker, thou mightst call him\\n    A goodly person. He hath lost his fellows,\\n    And strays about to find 'em.\\n  MIRANDA. I might call him\\n    A thing divine; for nothing natural\\n    I ever saw so noble.\\n  PROSPERO.  [Aside]  It goes on, I see,\\n    As my soul prompts it. Spirit, fine spirit! I'll free thee\\n    Within two days for this.\\n  FERDINAND. Most sure, the goddess\\n    On whom these airs attend! Vouchsafe my pray'r\\n    May know if you remain upon this island;\\n    And that you will some good instruction give\\n    How I may bear me here. My prime request,\\n    Which I do last pronounce, is, O you wonder!\\n    If you be maid or no?\\n  MIRANDA. No wonder, sir;\\n    But certainly a maid.\\n  FERDINAND. My language? Heavens!\\n    I am the best of them that speak this speech,\\n    Were I but where 'tis spoken.\\n  PROSPERO. How? the best?\\n    What wert thou, if the King of Naples heard thee?\\n  FERDINAND. A single thing, as I am now, that wonders\\n    To hear thee speak of Naples. He does hear me;\\n    And that he does I weep. Myself am Naples,\\n    Who with mine eyes, never since at ebb, beheld\\n    The King my father wreck'd.\\n  MIRANDA. Alack, for mercy!\\n  FERDINAND. Yes, faith, and all his lords, the Duke of Milan\\n    And his brave son being twain.\\n  PROSPERO.  [Aside]  The Duke of Milan\\n    And his more braver daughter could control thee,\\n    If now 'twere fit to do't. At the first sight\\n    They have chang'd eyes. Delicate Ariel,\\n    I'll set thee free for this.  [To FERDINAND]  A word, good\\n    sir;\\n    I fear you have done yourself some wrong; a word.\\n  MIRANDA. Why speaks my father so ungently? This\\n    Is the third man that e'er I saw; the first\\n    That e'er I sigh'd for. Pity move my father\\n    To be inclin'd my way!\\n  FERDINAND. O, if a virgin,\\n    And your affection not gone forth, I'll make you\\n    The Queen of Naples.\\n  PROSPERO. Soft, Sir! one word more.\\n    [Aside]  They are both in either's pow'rs; but this swift\\n    busines\\n    I must uneasy make, lest too light winning\\n    Make the prize light.  [To FERDINAND]  One word more; I\\n    charge thee\\n    That thou attend me; thou dost here usurp\\n    The name thou ow'st not; and hast put thyself\\n    Upon this island as a spy, to win it\\n    From me, the lord on't.\\n  FERDINAND. No, as I am a man.\\n  MIRANDA. There's nothing ill can dwell in such a temple.\\n    If the ill spirit have so fair a house,\\n    Good things will strive to dwell with't.\\n  PROSPERO. Follow me.\\n    Speak not you for him; he's a traitor. Come;\\n    I'll manacle thy neck and feet together.\\n    Sea-water shalt thou drink; thy food shall be\\n    The fresh-brook mussels, wither'd roots, and husks\\n    Wherein the acorn cradled. Follow.\\n  FERDINAND. No;\\n    I will resist such entertainment till\\n    Mine enemy has more power.\\n                          [He draws, and is charmed from moving]\\n  MIRANDA. O dear father,\\n    Make not too rash a trial of him, for\\n    He's gentle, and not fearful.\\n  PROSPERO. What, I say,\\n    My foot my tutor? Put thy sword up, traitor;\\n    Who mak'st a show but dar'st not strike, thy conscience\\n    Is so possess'd with guilt. Come from thy ward;\\n    For I can here disarm thee with this stick\\n    And make thy weapon drop.\\n  MIRANDA. Beseech you, father!\\n  PROSPERO. Hence! Hang not on my garments.\\n  MIRANDA. Sir, have pity;\\n    I'll be his surety.\\n  PROSPERO. Silence! One word more\\n    Shall make me chide thee, if not hate thee. What!\\n    An advocate for an impostor! hush!\\n    Thou think'st there is no more such shapes as he,\\n    Having seen but him and Caliban. Foolish wench!\\n    To th' most of men this is a Caliban,\\n    And they to him are angels.\\n  MIRANDA. My affections\\n    Are then most humble; I have no ambition\\n    To see a goodlier man.\\n  PROSPERO. Come on; obey.\\n    Thy nerves are in their infancy again,\\n    And have no vigour in them.\\n  FERDINAND. So they are;\\n    My spirits, as in a dream, are all bound up.\\n    My father's loss, the weakness which I feel,\\n    The wreck of all my friends, nor this man's threats\\n    To whom I am subdu'd, are but light to me,\\n    Might I but through my prison once a day\\n    Behold this maid. All corners else o' th' earth\\n    Let liberty make use of; space enough\\n    Have I in such a prison.\\n  PROSPERO.  [Aside]  It works.  [To FERDINAND]  Come on.-\\n    Thou hast done well, fine Ariel!  [To FERDINAND]  Follow\\n    me.\\n    [To ARIEL]  Hark what thou else shalt do me.\\n  MIRANDA. Be of comfort;\\n    My father's of a better nature, sir,\\n    Than he appears by speech; this is unwonted\\n    Which now came from him.\\n  PROSPERO.  [To ARIEL]  Thou shalt be as free\\n    As mountain winds; but then exactly do\\n    All points of my command.\\n  ARIEL. To th' syllable.\\n  PROSPERO.  [To FERDINAND]  Come, follow.  [To MIRANDA]\\n    Speak not for him.                                    Exeunt\\n\\n\\n\\n\\n<<THIS ELECTRONIC VERSION OF THE COMPLETE WORKS OF WILLIAM\\nSHAKESPEARE IS COPYRIGHT 1990-1993 BY WORLD LIBRARY, INC., AND IS\\nPROVIDED BY PROJECT GUTENBERG ETEXT OF CARNEGIE MELLON UNIVERSITY\\nWITH PERMISSION.  ELECTRONIC AND MACHINE READABLE COPIES MAY BE\\nDISTRIBUTED SO LONG AS SUCH COPIES (1) ARE FOR YOUR OR OTHERS\\nPERSONAL USE ONLY, AND (2) ARE NOT DISTRIBUTED OR USED\\nCOMMERCIALLY.  PROHIBITED COMMERCIAL DISTRIBUTION INCLUDES BY ANY\\nSERVICE THAT CHARGES FOR DOWNLOAD TIME OR FOR MEMBERSHIP.>>\\n\\n\\n\\n\", 'SCENE 1', 'ACT III.', \"\\n\\nBefore PROSPERO'S cell\\n\\nEnter FERDINAND, hearing a log\\n\\n  FERDINAND. There be some sports are painful, and their\\n    labour\\n    Delight in them sets off; some kinds of baseness\\n    Are nobly undergone, and most poor matters\\n    Point to rich ends. This my mean task\\n    Would be as heavy to me as odious, but\\n    The mistress which I serve quickens what's dead,\\n    And makes my labours pleasures. O, she is\\n    Ten times more gentle than her father's crabbed;\\n    And he's compos'd of harshness. I must remove\\n    Some thousands of these logs, and pile them up,\\n    Upon a sore injunction; my sweet mistress\\n    Weeps when she sees me work, and says such baseness\\n    Had never like executor. I forget;\\n    But these sweet thoughts do even refresh my labours,\\n    Most busy, least when I do it.\\n\\n        Enter MIRANDA; and PROSPERO at a distance, unseen\\n\\n  MIRANDA. Alas, now; pray you,\\n    Work not so hard; I would the lightning had\\n    Burnt up those logs that you are enjoin'd to pile.\\n    Pray, set it down and rest you; when this burns,\\n    'Twill weep for having wearied you. My father\\n    Is hard at study; pray, now, rest yourself;\\n    He's safe for these three hours.\\n  FERDINAND. O most dear mistress,\\n    The sun will set before I shall discharge\\n    What I must strive to do.\\n  MIRANDA. If you'll sit down,\\n    I'll bear your logs the while; pray give me that;\\n    I'll carry it to the pile.\\n  FERDINAND. No, precious creature;\\n    I had rather crack my sinews, break my back,\\n    Than you should such dishonour undergo,\\n    While I sit lazy by.\\n  MIRANDA. It would become me\\n    As well as it does you; and I should do it\\n    With much more ease; for my good will is to it,\\n    And yours it is against.\\n  PROSPERO.  [Aside]  Poor worm, thou art infected!\\n    This visitation shows it.\\n  MIRANDA. You look wearily.\\n  FERDINAND. No, noble mistress; 'tis fresh morning with me\\n    When you are by at night. I do beseech you,\\n    Chiefly that I might set it in my prayers,\\n    What is your name?\\n  MIRANDA. Miranda-O my father,\\n    I have broke your hest to say so!\\n  FERDINAND. Admir'd Miranda!\\n    What's dearest to the world! Full many a lady\\n    I have ey'd with best regard; and many a time\\n    Th' harmony of their tongues hath into bondage\\n    Brought my too diligent ear; for several virtues\\n    Have I lik'd several women, never any\\n    With so full soul, but some defect in her\\n    Did quarrel with the noblest grace she ow'd,\\n    And put it to the foil; but you, O you,\\n    So perfect and so peerless, are created\\n    Of every creature's best!\\n  MIRANDA. I do not know\\n    One of my sex; no woman's face remember,\\n    Save, from my glass, mine own; nor have I seen\\n    More that I may call men than you, good friend,\\n    And my dear father. How features are abroad,\\n    I am skilless of; but, by my modesty,\\n    The jewel in my dower, I would not wish\\n    Any companion in the world but you;\\n    Nor can imagination form a shape,\\n    Besides yourself, to like of. But I prattle\\n    Something too wildly, and my father's precepts\\n    I therein do forget.\\n  FERDINAND. I am, in my condition,\\n    A prince, Miranda; I do think, a king-\\n    I would not so!-and would no more endure\\n    This wooden slavery than to suffer\\n    The flesh-fly blow my mouth. Hear my soul speak:\\n    The very instant that I saw you, did\\n    My heart fly to your service; there resides\\n    To make me slave to it; and for your sake\\n    Am I this patient log-man.\\n  MIRANDA. Do you love me?\\n  FERDINAND. O heaven, O earth, bear witness to this sound,\\n    And crown what I profess with kind event,\\n    If I speak true! If hollowly, invert\\n    What best is boded me to mischief! I,\\n    Beyond all limit of what else i' th' world,\\n    Do love, prize, honour you.\\n  MIRANDA. I am a fool\\n    To weep at what I am glad of.\\n  PROSPERO.  [Aside]  Fair encounter\\n    Of two most rare affections! Heavens rain grace\\n    On that which breeds between 'em!\\n  FERDINAND. Wherefore weep you?\\n  MIRANDA. At mine unworthiness, that dare not offer\\n    What I desire to give, and much less take\\n    What I shall die to want. But this is trifling;\\n    And all the more it seeks to hide itself,\\n    The bigger bulk it shows. Hence, bashful cunning!\\n    And prompt me, plain and holy innocence!\\n    I am your wife, if you will marry me;\\n    If not, I'll die your maid. To be your fellow\\n    You may deny me; but I'll be your servant,\\n    Whether you will or no.\\n  FERDINAND. My mistress, dearest;\\n    And I thus humble ever.\\n  MIRANDA. My husband, then?\\n  FERDINAND. Ay, with a heart as willing\\n    As bondage e'er of freedom. Here's my hand.\\n  MIRANDA. And mine, with my heart in't. And now farewell\\n    Till half an hour hence.\\n  FERDINAND. A thousand thousand!\\n                          Exeunt FERDINAND and MIRANDA severally\\n  PROSPERO. So glad of this as they I cannot be,\\n    Who are surpris'd withal; but my rejoicing\\n    At nothing can be more. I'll to my book;\\n    For yet ere supper time must I perform\\n    Much business appertaining.                             Exit\\n\\n\\n\\n\\nSCENE 2\\n\\nAnother part of the island\\n\\nEnter CALIBAN, STEPHANO, and TRINCULO\\n\\n  STEPHANO. Tell not me-when the butt is out we will drink\\n    water, not a drop before; therefore bear up, and board\\n    'em. Servant-monster, drink to me.\\n  TRINCULO. Servant-monster! The folly of this island! They\\n    say there's but five upon this isle: we are three of\\n    them; if th' other two be brain'd like us, the state\\n    totters.\\n  STEPHANO. Drink, servant-monster, when I bid thee; thy\\n    eyes are almost set in thy head.\\n  TRINCULO. Where should they be set else? He were a brave\\n    monster indeed, if they were set in his tail.\\n  STEPHANO. My man-monster hath drown'd his tongue in\\n    sack. For my part, the sea cannot drown me; I swam, ere\\n    I could recover the shore, five and thirty leagues, off\\n    and on. By this light, thou shalt be my lieutenant,\\n    monster, or my standard.\\n  TRINCULO. Your lieutenant, if you list; he's no standard.\\n  STEPHANO. We'll not run, Monsieur Monster.\\n  TRINCULO. Nor go neither; but you'll lie like dogs, and\\n    yet say nothing neither.\\n  STEPHANO. Moon-calf, speak once in thy life, if thou beest\\n    a good moon-calf.\\n  CALIBAN. How does thy honour? Let me lick thy shoe.\\n    I'll not serve him; he is not valiant.\\n  TRINCULO. Thou liest, most ignorant monster: I am in case\\n    to justle a constable. Why, thou debosh'd fish, thou,\\n    was there ever man a coward that hath drunk so much sack\\n    as I to-day? Wilt thou tell a monstrous lie, being but\\n    half fish and half a monster?\\n  CALIBAN. Lo, how he mocks me! Wilt thou let him, my\\n    lord?\\n  TRINCULO. 'Lord' quoth he! That a monster should be such\\n    a natural!\\n  CALIBAN. Lo, lo again! Bite him to death, I prithee.\\n  STEPHANO. Trinculo, keep a good tongue in your head; if\\n    you prove a mutineer-the next tree! The poor monster's\\n    my subject, and he shall not suffer indignity.\\n  CALIBAN. I thank my noble lord. Wilt thou be pleas'd to\\n    hearken once again to the suit I made to thee?\\n  STEPHANO. Marry will I; kneel and repeat it; I will stand,\\n    and so shall Trinculo.\\n\\n                     Enter ARIEL, invisible\\n\\n  CALIBAN. As I told thee before, I am subject to a tyrant,\\n    sorcerer, that by his cunning hath cheated me of the\\n    island.\\n  ARIEL. Thou liest.\\n  CALIBAN. Thou liest, thou jesting monkey, thou;\\n    I would my valiant master would destroy thee.\\n    I do not lie.\\n  STEPHANO. Trinculo, if you trouble him any more in's tale,\\n    by this hand, I will supplant some of your teeth.\\n  TRINCULO. Why, I said nothing.\\n  STEPHANO. Mum, then, and no more. Proceed.\\n  CALIBAN. I say, by sorcery he got this isle;\\n    From me he got it. If thy greatness will\\n    Revenge it on him-for I know thou dar'st,\\n    But this thing dare not-\\n  STEPHANO. That's most certain.\\n  CALIBAN. Thou shalt be lord of it, and I'll serve thee.\\n  STEPHANO. How now shall this be compass'd? Canst thou\\n    bring me to the party?\\n  CALIBAN. Yea, yea, my lord; I'll yield him thee asleep,\\n    Where thou mayst knock a nail into his head.\\n  ARIEL. Thou liest; thou canst not.\\n  CALIBAN. What a pied ninny's this! Thou scurvy patch!\\n    I do beseech thy greatness, give him blows,\\n    And take his bottle from him. When that's gone\\n    He shall drink nought but brine; for I'll not show him\\n    Where the quick freshes are.\\n  STEPHANO. Trinculo, run into no further danger; interrupt\\n    the monster one word further and, by this hand, I'll turn\\n    my mercy out o' doors, and make a stock-fish of thee.\\n  TRINCULO. Why, what did I? I did nothing. I'll go farther\\n    off.\\n  STEPHANO. Didst thou not say he lied?\\n  ARIEL. Thou liest.\\n  STEPHANO. Do I so? Take thou that.  [Beats him]  As you like\\n    this, give me the lie another time.\\n  TRINCULO. I did not give the lie. Out o' your wits and\\n    hearing too? A pox o' your bottle! This can sack and\\n    drinking do. A murrain on your monster, and the devil\\n    take your fingers!\\n  CALIBAN. Ha, ha, ha!\\n  STEPHANO. Now, forward with your tale.-Prithee stand\\n    further off.\\n  CALIBAN. Beat him enough; after a little time, I'll beat\\n    him too.\\n  STEPHANO. Stand farther. Come, proceed.\\n  CALIBAN. Why, as I told thee, 'tis a custom with him\\n    I' th' afternoon to sleep; there thou mayst brain him,\\n    Having first seiz'd his books; or with a log\\n    Batter his skull, or paunch him with a stake,\\n    Or cut his wezand with thy knife. Remember\\n    First to possess his books; for without them\\n    He's but a sot, as I am, nor hath not\\n    One spirit to command; they all do hate him\\n    As rootedly as I. Burn but his books.\\n    He has brave utensils-for so he calls them-\\n    Which, when he has a house, he'll deck withal.\\n    And that most deeply to consider is\\n    The beauty of his daughter; he himself\\n    Calls her a nonpareil. I never saw a woman\\n    But only Sycorax my dam and she;\\n    But she as far surpasseth Sycorax\\n    As great'st does least.\\n  STEPHANO. Is it so brave a lass?\\n  CALIBAN. Ay, lord; she will become thy bed, I warrant,\\n    And bring thee forth brave brood.\\n  STEPHANO. Monster, I will kill this man; his daughter and I\\n    will be King and Queen-save our Graces!-and Trinculo\\n    and thyself shall be viceroys. Dost thou like the plot,\\n    Trinculo?\\n  TRINCULO. Excellent.\\n  STEPHANO. Give me thy hand; I am sorry I beat thee; but\\n    while thou liv'st, keep a good tongue in thy head.\\n  CALIBAN. Within this half hour will he be asleep.\\n    Wilt thou destroy him then?\\n  STEPHANO. Ay, on mine honour.\\n  ARIEL. This will I tell my master.\\n  CALIBAN. Thou mak'st me merry; I am full of pleasure.\\n    Let us be jocund; will you troll the catch\\n    You taught me but while-ere?\\n  STEPHANO. At thy request, monster, I will do reason, any\\n    reason. Come on, Trinculo, let us sing.              [Sings]\\n\\n    Flout 'em and scout 'em,\\n    And scout 'em and flout 'em;\\n    Thought is free.\\n\\n  CALIBAN. That's not the tune.\\n                      [ARIEL plays the tune on a tabor and pipe]\\n  STEPHANO. What is this same?\\n  TRINCULO. This is the tune of our catch, play'd by the\\n    picture of Nobody.\\n  STEPHANO. If thou beest a man, show thyself in thy\\n    likeness; if thou beest a devil, take't as thou list.\\n  TRINCULO. O, forgive me my sins!\\n  STEPHANO. He that dies pays all debts. I defy thee. Mercy\\n    upon us!\\n  CALIBAN. Art thou afeard?\\n  STEPHANO. No, monster, not I.\\n  CALIBAN. Be not afeard. The isle is full of noises,\\n    Sounds, and sweet airs, that give delight, and hurt not.\\n    Sometimes a thousand twangling instruments\\n    Will hum about mine ears; and sometimes voices,\\n    That, if I then had wak'd after long sleep,\\n    Will make me sleep again; and then, in dreaming,\\n    The clouds methought would open and show riches\\n    Ready to drop upon me, that, when I wak'd,\\n    I cried to dream again.\\n  STEPHANO. This will prove a brave kingdom to me, where I\\n    shall have my music for nothing.\\n  CALIBAN. When Prospero is destroy'd.\\n  STEPHANO. That shall be by and by; I remember the story.\\n  TRINCULO. The sound is going away; let's follow it, and\\n    after do our work.\\n  STEPHANO. Lead, monster; we'll follow. I would I could see\\n    this taborer; he lays it on.\\n  TRINCULO. Wilt come? I'll follow, Stephano.             Exeunt\\n\\n\\n\\n\\nSCENE 3\\n\\nAnother part of the island\\n\\nEnter ALONSO, SEBASTIAN, ANTONIO, GONZALO, ADRIAN, FRANCISCO, and\\nOTHERS\\n\\n  GONZALO. By'r lakin, I can go no further, sir;\\n    My old bones ache. Here's a maze trod, indeed,\\n    Through forth-rights and meanders! By your patience,\\n    I needs must rest me.\\n  ALONSO. Old lord, I cannot blame thee,\\n    Who am myself attach'd with weariness\\n    To th' dulling of my spirits; sit down and rest.\\n    Even here I will put off my hope, and keep it\\n    No longer for my flatterer; he is drown'd\\n    Whom thus we stray to find, and the sea mocks\\n    Our frustrate search on land. Well, let him go.\\n  ANTONIO.  [Aside to SEBASTIAN]  I am right glad that he's\\n    so out of hope.\\n    Do not, for one repulse, forgo the purpose\\n    That you resolv'd t' effect.\\n  SEBASTIAN.  [Aside to ANTONIO]  The next advantage\\n    Will we take throughly.\\n  ANTONIO.  [Aside to SEBASTIAN]  Let it be to-night;\\n    For, now they are oppress'd with travel, they\\n    Will not, nor cannot, use such vigilance\\n    As when they are fresh.\\n  SEBASTIAN.  [Aside to ANTONIO]  I say, to-night; no more.\\n\\n           Solemn and strange music; and PROSPERO on the\\n           top, invisible. Enter several strange SHAPES,\\n           bringing in a banquet; and dance about it with\\n           gentle actions of salutations; and inviting the\\n           KING, etc., to eat, they depart\\n\\n  ALONSO. What harmony is this? My good friends, hark!\\n  GONZALO. Marvellous sweet music!\\n  ALONSO. Give us kind keepers, heavens! What were these?\\n  SEBASTIAN. A living drollery. Now I will believe\\n    That there are unicorns; that in Arabia\\n    There is one tree, the phoenix' throne, one phoenix\\n    At this hour reigning-there.\\n  ANTONIO. I'll believe both;\\n    And what does else want credit, come to me,\\n    And I'll be sworn 'tis true; travellers ne'er did lie,\\n    Though fools at home condemn 'em.\\n  GONZALO. If in Naples\\n    I should report this now, would they believe me?\\n    If I should say, I saw such islanders,\\n    For certes these are people of the island,\\n    Who though they are of monstrous shape yet, note,\\n    Their manners are more gentle-kind than of\\n    Our human generation you shall find\\n    Many, nay, almost any.\\n  PROSPERO.  [Aside]  Honest lord,\\n    Thou hast said well; for some of you there present\\n    Are worse than devils.\\n  ALONSO. I cannot too much muse\\n    Such shapes, such gesture, and such sound, expressing,\\n    Although they want the use of tongue, a kind\\n    Of excellent dumb discourse.\\n  PROSPERO.  [Aside]  Praise in departing.\\n  FRANCISCO. They vanish'd strangely.\\n  SEBASTIAN. No matter, since\\n    They have left their viands behind; for we have stomachs.\\n    Will't please you taste of what is here?\\n  ALONSO. Not I.\\n  GONZALO. Faith, sir, you need not fear. When we were boys,\\n    Who would believe that there were mountaineers,\\n    Dewlapp'd like bulls, whose throats had hanging at 'em\\n    Wallets of flesh? or that there were such men\\n    Whose heads stood in their breasts? which now we find\\n    Each putter-out of five for one will bring us\\n    Good warrant of.\\n  ALONSO. I will stand to, and feed,\\n    Although my last; no matter, since I feel\\n    The best is past. Brother, my lord the Duke,\\n    Stand to, and do as we.\\n\\n       Thunder and lightning. Enter ARIEL, like a harpy;\\n       claps his wings upon the table; and, with a quaint\\n                device, the banquet vanishes\\n\\n  ARIEL. You are three men of sin, whom Destiny,\\n    That hath to instrument this lower world\\n    And what is in't, the never-surfeited sea\\n    Hath caus'd to belch up you; and on this island\\n    Where man doth not inhabit-you 'mongst men\\n    Being most unfit to live. I have made you mad;\\n    And even with such-like valour men hang and drown\\n    Their proper selves.\\n                     [ALONSO, SEBASTIAN etc., draw their swords]\\n    You fools! I and my fellows\\n    Are ministers of Fate; the elements\\n    Of whom your swords are temper'd may as well\\n    Wound the loud winds, or with bemock'd-at stabs\\n    Kill the still-closing waters, as diminish\\n    One dowle that's in my plume; my fellow-ministers\\n    Are like invulnerable. If you could hurt,\\n    Your swords are now too massy for your strengths\\n    And will not be uplifted. But remember-\\n    For that's my business to you-that you three\\n    From Milan did supplant good Prospero;\\n    Expos'd unto the sea, which hath requit it,\\n    Him, and his innocent child; for which foul deed\\n    The pow'rs, delaying, not forgetting, have\\n    Incens'd the seas and shores, yea, all the creatures,\\n    Against your peace. Thee of thy son, Alonso,\\n    They have bereft; and do pronounce by me\\n    Ling'ring perdition, worse than any death\\n    Can be at once, shall step by step attend\\n    You and your ways; whose wraths to guard you from-\\n    Which here, in this most desolate isle, else falls\\n    Upon your heads-is nothing but heart's sorrow,\\n    And a clear life ensuing.\\n\\n        He vanishes in thunder; then, to soft music, enter\\n        the SHAPES again, and dance, with mocks and mows,\\n                and carrying out the table\\n\\n  PROSPERO. Bravely the figure of this harpy hast thou\\n    Perform'd, my Ariel; a grace it had, devouring.\\n    Of my instruction hast thou nothing bated\\n    In what thou hadst to say; so, with good life\\n    And observation strange, my meaner ministers\\n    Their several kinds have done. My high charms work,\\n    And these mine enemies are all knit up\\n    In their distractions. They now are in my pow'r;\\n    And in these fits I leave them, while I visit\\n    Young Ferdinand, whom they suppose is drown'd,\\n    And his and mine lov'd darling.                   Exit above\\n  GONZALO. I' th' name of something holy, sir, why stand you\\n    In this strange stare?\\n  ALONSO. O, it is monstrous, monstrous!\\n    Methought the billows spoke, and told me of it;\\n    The winds did sing it to me; and the thunder,\\n    That deep and dreadful organ-pipe, pronounc'd\\n    The name of Prosper; it did bass my trespass.\\n    Therefore my son i' th' ooze is bedded; and\\n    I'll seek him deeper than e'er plummet sounded,\\n    And with him there lie mudded.                          Exit\\n  SEBASTIAN. But one fiend at a time,\\n    I'll fight their legions o'er.\\n  ANTONIO. I'll be thy second.      Exeunt SEBASTIAN and ANTONIO\\n  GONZALO. All three of them are desperate; their great guilt,\\n    Like poison given to work a great time after,\\n    Now gins to bite the spirits. I do beseech you,\\n    That are of suppler joints, follow them swiftly,\\n    And hinder them from what this ecstasy\\n    May now provoke them to.\\n  ADRIAN. Follow, I pray you.                             Exeunt\\n\\n\\n\\n\\n<<THIS ELECTRONIC VERSION OF THE COMPLETE WORKS OF WILLIAM\\nSHAKESPEARE IS COPYRIGHT 1990-1993 BY WORLD LIBRARY, INC., AND IS\\nPROVIDED BY PROJECT GUTENBERG ETEXT OF CARNEGIE MELLON UNIVERSITY\\nWITH PERMISSION.  ELECTRONIC AND MACHINE READABLE COPIES MAY BE\\nDISTRIBUTED SO LONG AS SUCH COPIES (1) ARE FOR YOUR OR OTHERS\\nPERSONAL USE ONLY, AND (2) ARE NOT DISTRIBUTED OR USED\\nCOMMERCIALLY.  PROHIBITED COMMERCIAL DISTRIBUTION INCLUDES BY ANY\\nSERVICE THAT CHARGES FOR DOWNLOAD TIME OR FOR MEMBERSHIP.>>\\n\\n\\n\\n\", 'SCENE 1', 'ACT V.', \"\\n\\nBefore PROSPERO'S cell\\n\\nEnter PROSPERO in his magic robes, and ARIEL\\n\\n  PROSPERO. Now does my project gather to a head;\\n    My charms crack not, my spirits obey; and time\\n    Goes upright with his carriage. How's the day?\\n  ARIEL. On the sixth hour; at which time, my lord,\\n    You said our work should cease.\\n  PROSPERO. I did say so,\\n    When first I rais'd the tempest. Say, my spirit,\\n    How fares the King and 's followers?\\n  ARIEL. Confin'd together\\n    In the same fashion as you gave in charge;\\n    Just as you left them; all prisoners, sir,\\n    In the line-grove which weather-fends your cell;\\n    They cannot budge till your release. The King,\\n    His brother, and yours, abide all three distracted,\\n    And the remainder mourning over them,\\n    Brim full of sorrow and dismay; but chiefly\\n    Him you term'd, sir, 'the good old lord, Gonzalo';\\n    His tears run down his beard, like winter's drops\\n    From eaves of reeds. Your charm so strongly works 'em\\n    That if you now beheld them your affections\\n    Would become tender.\\n  PROSPERO. Dost thou think so, spirit?\\n  ARIEL. Mine would, sir, were I human.\\n  PROSPERO. And mine shall.\\n    Hast thou, which art but air, a touch, a feeling\\n    Of their afflictions, and shall not myself,\\n    One of their kind, that relish all as sharply,\\n    Passion as they, be kindlier mov'd than thou art?\\n    Though with their high wrongs I am struck to th' quick,\\n    Yet with my nobler reason 'gainst my fury\\n    Do I take part; the rarer action is\\n    In virtue than in vengeance; they being penitent,\\n    The sole drift of my purpose doth extend\\n    Not a frown further. Go release them, Ariel;\\n    My charms I'll break, their senses I'll restore,\\n    And they shall be themselves.\\n  ARIEL. I'll fetch them, sir.                              Exit\\n  PROSPERO. Ye elves of hills, brooks, standing lakes, and\\n    groves;\\n    And ye that on the sands with printless foot\\n    Do chase the ebbing Neptune, and do fly him\\n    When he comes back; you demi-puppets that\\n    By moonshine do the green sour ringlets make,\\n    Whereof the ewe not bites; and you whose pastime\\n    Is to make midnight mushrooms, that rejoice\\n    To hear the solemn curfew; by whose aid-\\n    Weak masters though ye be-I have be-dimm'd\\n    The noontide sun, call'd forth the mutinous winds,\\n    And 'twixt the green sea and the azur'd vault\\n    Set roaring war. To the dread rattling thunder\\n    Have I given fire, and rifted Jove's stout oak\\n    With his own bolt; the strong-bas'd promontory\\n    Have I made shake, and by the spurs pluck'd up\\n    The pine and cedar. Graves at my command\\n    Have wak'd their sleepers, op'd, and let 'em forth,\\n    By my so potent art. But this rough magic\\n    I here abjure; and, when I have requir'd\\n    Some heavenly music-which even now I do-\\n    To work mine end upon their senses that\\n    This airy charm is for, I'll break my staff,\\n    Bury it certain fathoms in the earth,\\n    And deeper than did ever plummet sound\\n    I'll drown my book.                            [Solem music]\\n\\n            Here enters ARIEL before; then ALONSO, with\\n          frantic gesture, attended by GONZALO; SEBASTIAN\\n           and ANTONIO in like manner, attended by ADRIAN\\n           and FRANCISCO. They all enter the circle which\\n          PROSPERO had made, and there stand charm'd; which\\n                    PROSPERO observing, speaks\\n\\n    A solemn air, and the best comforter\\n    To an unsettled fancy, cure thy brains,\\n    Now useless, boil'd within thy skull! There stand,\\n    For you are spell-stopp'd.\\n    Holy Gonzalo, honourable man,\\n    Mine eyes, ev'n sociable to the show of thine,\\n    Fall fellowly drops. The charm dissolves apace,\\n    And as the morning steals upon the night,\\n    Melting the darkness, so their rising senses\\n    Begin to chase the ignorant fumes that mantle\\n    Their clearer reason. O good Gonzalo,\\n    My true preserver, and a loyal sir\\n    To him thou follow'st! I will pay thy graces\\n    Home both in word and deed. Most cruelly\\n    Didst thou, Alonso, use me and my daughter;\\n    Thy brother was a furtherer in the act.\\n    Thou art pinch'd for't now, Sebastian. Flesh and blood,\\n    You, brother mine, that entertain'd ambition,\\n    Expell'd remorse and nature, who, with Sebastian-\\n    Whose inward pinches therefore are most strong-\\n    Would here have kill'd your king, I do forgive thee,\\n    Unnatural though thou art. Their understanding\\n    Begins to swell, and the approaching tide\\n    Will shortly fill the reasonable shore\\n    That now lies foul and muddy. Not one of them\\n    That yet looks on me, or would know me. Ariel,\\n    Fetch me the hat and rapier in my cell;           Exit ARIEL\\n    I will discase me, and myself present\\n    As I was sometime Milan. Quickly, spirit\\n    Thou shalt ere long be free.\\n\\n        ARIEL, on returning, sings and helps to attire him\\n\\n    Where the bee sucks, there suck I;\\n    In a cowslip's bell I lie;\\n    There I couch when owls do cry.\\n    On the bat's back I do fly\\n    After summer merrily.\\n    Merrily, merrily shall I live now\\n    Under the blossom that hangs on the bough.\\n\\n  PROSPERO. Why, that's my dainty Ariel! I shall miss thee;\\n    But yet thou shalt have freedom. So, so, so.\\n    To the King's ship, invisible as thou art;\\n    There shalt thou find the mariners asleep\\n    Under the hatches; the master and the boatswain\\n    Being awake, enforce them to this place;\\n    And presently, I prithee.\\n  ARIEL. I drink the air before me, and return\\n    Or ere your pulse twice beat.                           Exit\\n  GONZALO. All torment, trouble, wonder and amazement,\\n    Inhabits here. Some heavenly power guide us\\n    Out of this fearful country!\\n  PROSPERO. Behold, Sir King,\\n    The wronged Duke of Milan, Prospero.\\n    For more assurance that a living prince\\n    Does now speak to thee, I embrace thy body;\\n    And to thee and thy company I bid\\n    A hearty welcome.\\n  ALONSO. Whe'er thou be'st he or no,\\n    Or some enchanted trifle to abuse me,\\n    As late I have been, I not know. Thy pulse\\n    Beats, as of flesh and blood; and, since I saw thee,\\n    Th' affliction of my mind amends, with which,\\n    I fear, a madness held me. This must crave-\\n    An if this be at all-a most strange story.\\n    Thy dukedom I resign, and do entreat\\n    Thou pardon me my wrongs. But how should Prospero\\n    Be living and be here?\\n  PROSPERO. First, noble friend,\\n    Let me embrace thine age, whose honour cannot\\n    Be measur'd or confin'd.\\n  GONZALO. Whether this be\\n    Or be not, I'll not swear.\\n  PROSPERO. You do yet taste\\n    Some subtleties o' th' isle, that will not let you\\n    Believe things certain. Welcome, my friends all!\\n    [Aside to SEBASTIAN and ANTONIO]  But you, my brace of\\n      lords, were I so minded,\\n    I here could pluck his Highness' frown upon you,\\n    And justify you traitors; at this time\\n    I will tell no tales.\\n  SEBASTIAN.  [Aside]  The devil speaks in him.\\n  PROSPERO. No.\\n    For you, most wicked sir, whom to call brother\\n    Would even infect my mouth, I do forgive\\n    Thy rankest fault-all of them; and require\\n    My dukedom of thee, which perforce I know\\n    Thou must restore.\\n  ALONSO. If thou beest Prospero,\\n    Give us particulars of thy preservation;\\n    How thou hast met us here, whom three hours since\\n    Were wreck'd upon this shore; where I have lost-\\n    How sharp the point of this remembrance is!-\\n    My dear son Ferdinand.\\n  PROSPERO. I am woe for't, sir.\\n  ALONSO. Irreparable is the loss; and patience\\n    Says it is past her cure.\\n  PROSPERO. I rather think\\n    You have not sought her help, of whose soft grace\\n    For the like loss I have her sovereign aid,\\n    And rest myself content.\\n  ALONSO. You the like loss!\\n  PROSPERO. As great to me as late; and, supportable\\n    To make the dear loss, have I means much weaker\\n    Than you may call to comfort you, for I\\n    Have lost my daughter.\\n  ALONSO. A daughter!\\n    O heavens, that they were living both in Naples,\\n    The King and Queen there! That they were, I wish\\n    Myself were mudded in that oozy bed\\n    Where my son lies. When did you lose your daughter?\\n  PROSPERO. In this last tempest. I perceive these lords\\n    At this encounter do so much admire\\n    That they devour their reason, and scarce think\\n    Their eyes do offices of truth, their words\\n    Are natural breath; but, howsoe'er you have\\n    Been justled from your senses, know for certain\\n    That I am Prospero, and that very duke\\n    Which was thrust forth of Milan; who most strangely\\n    Upon this shore, where you were wrecked, was landed\\n    To be the lord on't. No more yet of this;\\n    For 'tis a chronicle of day by day,\\n    Not a relation for a breakfast, nor\\n    Befitting this first meeting. Welcome, sir;\\n    This cell's my court; here have I few attendants,\\n    And subjects none abroad; pray you, look in.\\n    My dukedom since you have given me again,\\n    I will requite you with as good a thing;\\n    At least bring forth a wonder, to content ye\\n    As much as me my dukedom.\\n\\n          Here PROSPERO discovers FERDINAND and MIRANDA,\\n                      playing at chess\\n\\n  MIRANDA. Sweet lord, you play me false.\\n  FERDINAND. No, my dearest love,\\n    I would not for the world.\\n  MIRANDA. Yes, for a score of kingdoms you should wrangle\\n    And I would call it fair play.\\n  ALONSO. If this prove\\n    A vision of the island, one dear son\\n    Shall I twice lose.\\n  SEBASTIAN. A most high miracle!\\n  FERDINAND. Though the seas threaten, they are merciful;\\n    I have curs'd them without cause.                   [Kneels]\\n  ALONSO. Now all the blessings\\n    Of a glad father compass thee about!\\n    Arise, and say how thou cam'st here.\\n  MIRANDA. O, wonder!\\n    How many goodly creatures are there here!\\n    How beauteous mankind is! O brave new world\\n    That has such people in't!\\n  PROSPERO. 'Tis new to thee.\\n  ALONSO. What is this maid with whom thou wast at play?\\n    Your eld'st acquaintance cannot be three hours;\\n    Is she the goddess that hath sever'd us,\\n    And brought us thus together?\\n  FERDINAND. Sir, she is mortal;\\n    But by immortal Providence she's mine.\\n    I chose her when I could not ask my father\\n    For his advice, nor thought I had one. She\\n    Is daughter to this famous Duke of Milan,\\n    Of whom so often I have heard renown\\n    But never saw before; of whom I have\\n    Receiv'd a second life; and second father\\n    This lady makes him to me.\\n  ALONSO. I am hers.\\n    But, O, how oddly will it sound that I\\n    Must ask my child forgiveness!\\n  PROSPERO. There, sir, stop;\\n    Let us not burden our remembrances with\\n    A heaviness that's gone.\\n  GONZALO. I have inly wept,\\n    Or should have spoke ere this. Look down, you gods,\\n    And on this couple drop a blessed crown;\\n    For it is you that have chalk'd forth the way\\n    Which brought us hither.\\n  ALONSO. I say, Amen, Gonzalo!\\n  GONZALO. Was Milan thrust from Milan, that his issue\\n    Should become Kings of Naples? O, rejoice\\n    Beyond a common joy, and set it down\\n    With gold on lasting pillars: in one voyage\\n    Did Claribel her husband find at Tunis;\\n    And Ferdinand, her brother, found a wife\\n    Where he himself was lost; Prospero his dukedom\\n    In a poor isle; and all of us ourselves\\n    When no man was his own.\\n  ALONSO.  [To FERDINAND and MIRANDA]  Give me your\\n    hands.\\n    Let grief and sorrow still embrace his heart\\n    That doth not wish you joy.\\n  GONZALO. Be it so. Amen!\\n\\n           Re-enter ARIEL, with the MASTER and BOATSWAIN\\n                     amazedly following\\n\\n    O look, sir; look, sir! Here is more of us!\\n    I prophesied, if a gallows were on land,\\n    This fellow could not drown. Now, blasphemy,\\n    That swear'st grace o'erboard, not an oath on shore?\\n    Hast thou no mouth by land? What is the news?\\n  BOATSWAIN. The best news is that we have safely found\\n    Our King and company; the next, our ship-\\n    Which but three glasses since we gave out split-\\n    Is tight and yare, and bravely rigg'd, as when\\n    We first put out to sea.\\n  ARIEL.  [Aside to PROSPERO]  Sir, all this service\\n    Have I done since I went.\\n  PROSPERO.  [Aside to ARIEL]  My tricksy spirit!\\n  ALONSO. These are not natural events; they strengthen\\n    From strange to stranger. Say, how came you hither?\\n  BOATSWAIN. If I did think, sir, I were well awake,\\n    I'd strive to tell you. We were dead of sleep,\\n    And-how, we know not-all clapp'd under hatches;\\n    Where, but even now, with strange and several noises\\n    Of roaring, shrieking, howling, jingling chains,\\n    And moe diversity of sounds, all horrible,\\n    We were awak'd; straightway at liberty;\\n    Where we, in all her trim, freshly beheld\\n    Our royal, good, and gallant ship; our master\\n    Cap'ring to eye her. On a trice, so please you,\\n    Even in a dream, were we divided from them,\\n    And were brought moping hither.\\n  ARIEL.  [Aside to PROSPERO]  Was't well done?\\n  PROSPERO.  [Aside to ARIEL]  Bravely, my diligence. Thou\\n    shalt be free.\\n  ALONSO. This is as strange a maze as e'er men trod;\\n    And there is in this business more than nature\\n    Was ever conduct of. Some oracle\\n    Must rectify our knowledge.\\n  PROSPERO. Sir, my liege,\\n    Do not infest your mind with beating on\\n    The strangeness of this business; at pick'd leisure,\\n    Which shall be shortly, single I'll resolve you,\\n    Which to you shall seem probable, of every\\n    These happen'd accidents; till when, be cheerful\\n    And think of each thing well.  [Aside to ARIEL]  Come\\n    hither, spirit;\\n    Set Caliban and his companions free;\\n    Untie the spell.  [Exit ARIEL]  How fares my gracious sir?\\n    There are yet missing of your company\\n    Some few odd lads that you remember not.\\n\\n         Re-enter ARIEL, driving in CALIBAN, STEPHANO, and\\n\\n  TRINCULO, in their stolen apparel\\n  STEPHANO. Every man shift for all the rest, and let no man\\n    take care for himself; for all is but fortune. Coragio,\\n    bully-monster, coragio!\\n  TRINCULO. If these be true spies which I wear in my head,\\n    here's a goodly sight.\\n  CALIBAN. O Setebos, these be brave spirits indeed!\\n    How fine my master is! I am afraid\\n    He will chastise me.\\n  SEBASTIAN. Ha, ha!\\n    What things are these, my lord Antonio?\\n    Will money buy'em?\\n  ANTONIO. Very like; one of them\\n    Is a plain fish, and no doubt marketable.\\n  PROSPERO. Mark but the badges of these men, my lords,\\n    Then say if they be true. This mis-shapen knave-\\n    His mother was a witch, and one so strong\\n    That could control the moon, make flows and ebbs,\\n    And deal in her command without her power.\\n    These three have robb'd me; and this demi-devil-\\n    For he's a bastard one-had plotted with them\\n    To take my life. Two of these fellows you\\n    Must know and own; this thing of darkness I\\n    Acknowledge mine.\\n  CALIBAN. I shall be pinch'd to death.\\n  ALONSO. Is not this Stephano, my drunken butler?\\n  SEBASTIAN. He is drunk now; where had he wine?\\n  ALONSO. And Trinculo is reeling ripe; where should they\\n    Find this grand liquor that hath gilded 'em?\\n    How cam'st thou in this pickle?\\n  TRINCULO. I have been in such a pickle since I saw you\\n    last that, I fear me, will never out of my bones. I\\n    shall not fear fly-blowing.\\n  SEBASTIAN. Why, how now, Stephano!\\n  STEPHANO. O, touch me not; I am not Stephano, but a\\n    cramp.\\n  PROSPERO. You'd be king o' the isle, sirrah?\\n  STEPHANO. I should have been a sore one, then.\\n  ALONSO.  [Pointing to CALIBAN]  This is as strange a thing\\n    as e'er I look'd on.\\n  PROSPERO. He is as disproportioned in his manners\\n    As in his shape. Go, sirrah, to my cell;\\n    Take with you your companions; as you look\\n    To have my pardon, trim it handsomely.\\n  CALIBAN. Ay, that I will; and I'll be wise hereafter,\\n    And seek for grace. What a thrice-double ass\\n    Was I to take this drunkard for a god,\\n    And worship this dull fool!\\n  PROSPERO. Go to; away!\\n  ALONSO. Hence, and bestow your luggage where you found it.\\n  SEBASTIAN. Or stole it, rather.\\n                          Exeunt CALIBAN, STEPHANO, and TRINCULO\\n  PROSPERO. Sir, I invite your Highness and your train\\n    To my poor cell, where you shall take your rest\\n    For this one night; which, part of it, I'll waste\\n    With such discourse as, I not doubt, shall make it\\n    Go quick away-the story of my life,\\n    And the particular accidents gone by\\n    Since I came to this isle. And in the morn\\n    I'll bring you to your ship, and so to Naples,\\n    Where I have hope to see the nuptial\\n    Of these our dear-belov'd solemnized,\\n    And thence retire me to my Milan, where\\n    Every third thought shall be my grave.\\n  ALONSO. I long\\n    To hear the story of your life, which must\\n    Take the ear strangely.\\n  PROSPERO. I'll deliver all;\\n    And promise you calm seas, auspicious gales,\\n    And sail so expeditious that shall catch\\n    Your royal fleet far off.  [Aside to ARIEL]  My Ariel,\\n      chick,\\n    That is thy charge. Then to the elements\\n    Be free, and fare thou well!-Please you, draw near.\\n                                                          Exeunt\\n\\n\\n\\nEPILOGUE\\n                             EPILOGUE\\n                        Spoken by PROSPERO\\n\\n          Now my charms are all o'erthrown,\\n          And what strength I have's mine own,\\n          Which is most faint. Now 'tis true,\\n          I must be here confin'd by you,\\n          Or sent to Naples. Let me not,\\n          Since I have my dukedom got,\\n          And pardon'd the deceiver, dwell\\n          In this bare island by your spell;\\n          But release me from my bands\\n          With the help of your good hands.\\n          Gentle breath of yours my sails\\n          Must fill, or else my project fails,\\n          Which was to please. Now I want\\n          Spirits to enforce, art to enchant;\\n          And my ending is despair\\n          Unless I be reliev'd by prayer,\\n          Which pierces so that it assaults\\n          Mercy itself, and frees all faults.\\n          As you from crimes would pardon'd be,\\n          Let your indulgence set me free.\\n\\nTHE END\\n\\n\\n\\n\\n\\n<<THIS ELECTRONIC VERSION OF THE COMPLETE WORKS OF WILLIAM\\nSHAKESPEARE IS COPYRIGHT 1990-1993 BY WORLD LIBRARY, INC., AND IS\\nPROVIDED BY PROJECT GUTENBERG ETEXT OF CARNEGIE MELLON UNIVERSITY\\nWITH PERMISSION.  ELECTRONIC AND MACHINE READABLE COPIES MAY BE\\nDISTRIBUTED SO LONG AS SUCH COPIES (1) ARE FOR YOUR OR OTHERS\\nPERSONAL USE ONLY, AND (2) ARE NOT DISTRIBUTED OR USED\\nCOMMERCIALLY.  PROHIBITED COMMERCIAL DISTRIBUTION INCLUDES BY ANY\\nSERVICE THAT CHARGES FOR DOWNLOAD TIME OR FOR MEMBERSHIP.>>\\n\\n\\n\\n\\n\\nEnd of this Etext of The Complete Works of William Shakespeare\\nThe Tempest\\n\"]\n"
          ]
        }
      ],
      "source": [
        "#---Your code starts here---\n",
        "delim = r\"(ACT [IVXLCDM]+\\.)\\s*(SCENE \\d+)\"\n",
        "#---Your code stops here---\n",
        "\n",
        "tempest_text = open(file_path, \"r\").read()\n",
        "act_scene_texts = re.split(delim, tempest_text)\n",
        "\n",
        "# Extracting and printing acts and scenes\n",
        "acts_and_scenes = []\n",
        "for i in range(1, len(act_scene_texts), 3):\n",
        "    act = act_scene_texts[i]\n",
        "    scene = act_scene_texts[i+1]\n",
        "    content = act_scene_texts[i+2][:200]  # First 200 characters of the scene for brevity\n",
        "    acts_and_scenes.append(f\"{act} {scene}\\n{content}...\")\n",
        "\n",
        "print(\"Acts and scenes:\", act_scene_texts[1::2])"
      ]
    },
    {
      "cell_type": "markdown",
      "metadata": {
        "id": "3KesORntQX1F"
      },
      "source": [
        "__3c.__ (2 points) Examine the text from `ACT. I. SCENE 1`. Is `\\n` a sufficient deliminator for splitting the text by speaker? Why or why not?"
      ]
    },
    {
      "cell_type": "code",
      "execution_count": 18,
      "metadata": {
        "colab": {
          "base_uri": "https://localhost:8080/"
        },
        "id": "eF5Zqy2eQHLC",
        "outputId": "19e9f945-8ca1-4c9f-c438-9eb168357320"
      },
      "outputs": [
        {
          "output_type": "stream",
          "name": "stdout",
          "text": [
            "No, because the current output does not include the scene information correctly.\n"
          ]
        }
      ],
      "source": [
        "print(\"No, because the current output does not include the scene information correctly.\")"
      ]
    },
    {
      "cell_type": "markdown",
      "metadata": {
        "id": "WyYxlbU5QhxU"
      },
      "source": [
        "__3d.__ (7 points) Complete the `process_scenes` function to separate lines in `scene_text` by `\\n`, separate speakers from the beginnings of their speeches (using regex), and collect the multiline speeches in a single string. Each speaker-line pair should be stored in the `defaultdict` structure set up in the code below. Store each speaker-line pair as a list. Process `act_scene_texts` with `process_scenes`, and print the first five lines of `ACT I`, `SCENE 1`."
      ]
    },
    {
      "cell_type": "code",
      "execution_count": 27,
      "metadata": {
        "id": "w8b9mLWUQaMw"
      },
      "outputs": [],
      "source": [
        "import re\n",
        "from collections import defaultdict\n",
        "\n",
        "def process_scenes(act_scene_texts):\n",
        "    data = defaultdict(lambda: defaultdict(list))\n",
        "    current_act, current_scene = \"\", \"\"\n",
        "\n",
        "    # Set dictionary keys\n",
        "    for i in range(1, len(act_scene_texts) - 1, 2):\n",
        "        act_scene = act_scene_texts[i]\n",
        "        scene_text = act_scene_texts[i + 1]\n",
        "\n",
        "        if \"ACT\" in act_scene:\n",
        "            current_act = re.search(r'ACT [IVXLCDM]+', act_scene).group().strip()\n",
        "            current_scene = re.search(r'SCENE \\d+', act_scene).group().strip() if re.search(r'SCENE \\d+', act_scene) else \"\"\n",
        "        else:\n",
        "            current_scene = act_scene.strip()\n",
        "\n",
        "        speaker, speech = \"\", \"\"\n",
        "\n",
        "        for line in scene_text.split(\"\\n\"):\n",
        "            match = re.match(r\"^\\s{2,}(\\w+)\\. (.*)\", line)\n",
        "            if match:\n",
        "                if speaker and speech:\n",
        "                    data[current_act][current_scene].append((speaker, speech.strip()))\n",
        "                speaker = match.group(1)\n",
        "                speech = match.group(2)\n",
        "            else:\n",
        "                speech += \" \" + line.strip()\n",
        "\n",
        "        if speaker and speech:\n",
        "            data[current_act][current_scene].append((speaker, speech.strip()))\n",
        "\n",
        "    return data\n"
      ]
    },
    {
      "cell_type": "code",
      "execution_count": 28,
      "metadata": {
        "colab": {
          "base_uri": "https://localhost:8080/"
        },
        "id": "61o270RzE5s6",
        "outputId": "dd4fea19-8784-45c0-c9bd-d93034e097d2",
        "scrolled": true
      },
      "outputs": [
        {
          "output_type": "execute_result",
          "data": {
            "text/plain": [
              "[('GONZALO',\n",
              "  \"Beseech you, sir, be merry; you have cause, So have we all, of joy; for our escape Is much beyond our loss. Our hint of woe Is common; every day, some sailor's wife, The masters of some merchant, and the merchant, Have just our theme of woe; but for the miracle, I mean our preservation, few in millions Can speak like us. Then wisely, good sir, weigh Our sorrow with our comfort.\"),\n",
              " ('ALONSO', 'Prithee, peace.'),\n",
              " ('SEBASTIAN', 'He receives comfort like cold porridge.'),\n",
              " ('ANTONIO', \"The visitor will not give him o'er so.\"),\n",
              " ('SEBASTIAN',\n",
              "  \"Look, he's winding up the watch of his wit; by and by it will strike.\")]"
            ]
          },
          "metadata": {},
          "execution_count": 28
        }
      ],
      "source": [
        "data = process_scenes(act_scene_texts)\n",
        "data['ACT I']['SCENE 1'][:5]"
      ]
    },
    {
      "cell_type": "markdown",
      "metadata": {
        "id": "kvWC_CQZQuN6"
      },
      "source": [
        "__3e.__ (5 points) Count the number of lines spoken by each speaker in the play (across every `'ACT'` and `'SCENE'`). Print the top five speakers by number of lines spoken."
      ]
    },
    {
      "cell_type": "code",
      "execution_count": 31,
      "metadata": {
        "colab": {
          "base_uri": "https://localhost:8080/"
        },
        "id": "Wq-MCmQFQaSF",
        "outputId": "c3b4d785-7ad0-49ae-da64-f16ca98dba18"
      },
      "outputs": [
        {
          "output_type": "stream",
          "name": "stdout",
          "text": [
            "\n",
            "Top five speakers by number of lines spoken:\n",
            "SEBASTIAN: 53 lines\n",
            "ANTONIO: 50 lines\n",
            "GONZALO: 34 lines\n",
            "STEPHANO: 29 lines\n",
            "TRINCULO: 23 lines\n",
            "[('SEBASTIAN', 53), ('ANTONIO', 50), ('GONZALO', 34), ('STEPHANO', 29), ('TRINCULO', 23)]\n"
          ]
        }
      ],
      "source": [
        "line_counts = defaultdict(int)\n",
        "for act in data:\n",
        "    for scene in data[act]:\n",
        "        for speaker, speech in data[act][scene]:\n",
        "            line_counts[speaker] += speech.count('\\n') + 1  # Count lines\n",
        "\n",
        "# Convert line_counts to a Counter\n",
        "speech_counts = Counter(line_counts)\n",
        "\n",
        "# Print the top five speakers by number of lines spoken\n",
        "top_speakers = sorted(line_counts.items(), key=lambda x: x[1], reverse=True)[:5]\n",
        "print(\"\\nTop five speakers by number of lines spoken:\")\n",
        "for speaker, count in top_speakers:\n",
        "    print(f\"{speaker}: {count} lines\")\n",
        "\n",
        "# Use speech_counts.most_common(5)\n",
        "print(speech_counts.most_common(5))"
      ]
    },
    {
      "cell_type": "markdown",
      "metadata": {
        "id": "IwtanWtf9MzJ"
      },
      "source": [
        "__3f.__ (2 points) Comment on any limitations of the process developed in this section. Do you see any artifacts indicating imprecision?"
      ]
    },
    {
      "cell_type": "code",
      "execution_count": 32,
      "metadata": {
        "colab": {
          "base_uri": "https://localhost:8080/"
        },
        "id": "-eloG2w49d9Z",
        "outputId": "e322a6d6-98cb-4906-ab6f-778cc09a039f"
      },
      "outputs": [
        {
          "output_type": "stream",
          "name": "stdout",
          "text": [
            "The developed process is limited in terms of accurately capturing multiline speeches and the completeness of the scene parsing. This limitation is evidenced by potential inaccuracies in splitting scenes and speeches, as well as possible miscounting of lines or missing speakers in some cases.\n"
          ]
        }
      ],
      "source": [
        "print(\"The developed process is limited in terms of accurately capturing multiline speeches and the completeness of the scene parsing. This limitation is evidenced by potential inaccuracies in splitting scenes and speeches, as well as possible miscounting of lines or missing speakers in some cases.\")"
      ]
    },
    {
      "cell_type": "markdown",
      "metadata": {
        "id": "ELkoLjIFOGlX"
      },
      "source": [
        "# Part 4 (25 points)\n",
        "\n",
        "In this section, you will work with a subset of the [Lending Club Loan Dataset](https://www.kaggle.com/wordsforthewise/lending-club) located in the data folder (./data/loan_extra-small.csv)."
      ]
    },
    {
      "cell_type": "markdown",
      "metadata": {
        "id": "TMPP17ujiE0U"
      },
      "source": [
        "__4a.__ (3 points) Update the file path. How many fields are included in `loan_data`? How many rows are included in `load_data`?"
      ]
    },
    {
      "cell_type": "code",
      "execution_count": 1,
      "metadata": {
        "colab": {
          "base_uri": "https://localhost:8080/"
        },
        "id": "qMZvOXYhQ9qr",
        "outputId": "6811920d-66f1-41a0-f22a-d2b98afbd40d"
      },
      "outputs": [
        {
          "output_type": "stream",
          "name": "stdout",
          "text": [
            "Number of fields:  145\n",
            "Number of rows: 49999\n"
          ]
        }
      ],
      "source": [
        "import csv\n",
        "\n",
        "#---Your code starts here---\n",
        "file_path = '/content/loan_extra-small.csv'\n",
        "\n",
        "# Initialize lists to store the fields and rows\n",
        "fields = []\n",
        "loan_data = []\n",
        "\n",
        "# Open and read the CSV file\n",
        "with open(file_path, mode='r', newline='', encoding='utf-8') as file:\n",
        "    csvreader = csv.reader(file)\n",
        "\n",
        "    # Extract the field names (header)\n",
        "    fields = next(csvreader)\n",
        "\n",
        "    # Extract each data row\n",
        "    for row in csvreader:\n",
        "        loan_data.append(row)\n",
        "\n",
        "\n",
        "#---Your code stops here---\n",
        "\n",
        "print(\"Number of fields: \", len(fields))\n",
        "print(\"Number of rows:\", len(loan_data))"
      ]
    },
    {
      "cell_type": "markdown",
      "metadata": {
        "id": "Bk8lfD5sRUJT"
      },
      "source": [
        "__4b.__ (2 points) Create a dictionary called `statuses` whose keys are the unique items in the `loan_status` field and whose values are set to `1` for a `loan_status` of `\"Current\"` or `\"Fully Paid\"` and `0` otherwise. Print the dictionary."
      ]
    },
    {
      "cell_type": "code",
      "execution_count": 3,
      "metadata": {
        "colab": {
          "base_uri": "https://localhost:8080/"
        },
        "id": "wg4MFZKrQ9tC",
        "outputId": "7fc9e9d8-b538-453a-b166-4a31f910741a"
      },
      "outputs": [
        {
          "output_type": "execute_result",
          "data": {
            "text/plain": [
              "{'Current': 10,\n",
              " 'Fully Paid': 42429,\n",
              " 'Charged Off': 7555,\n",
              " 'Late (16-30 days)': 2,\n",
              " 'Late (31-120 days)': 3}"
            ]
          },
          "metadata": {},
          "execution_count": 3
        }
      ],
      "source": [
        "statuses = {}\n",
        "\n",
        "# Populate the statuses dictionary\n",
        "#---Your code starts here---\n",
        "status_index = fields.index('loan_status')\n",
        "for row in loan_data:\n",
        "    status = row[status_index]\n",
        "    if status in statuses:\n",
        "        statuses[status] += 1\n",
        "    else:\n",
        "        statuses[status] = 1\n",
        "\n",
        "#---Your code stops here---\n",
        "# Display the statuses dictionary\n",
        "statuses"
      ]
    },
    {
      "cell_type": "markdown",
      "metadata": {
        "id": "uGwUc8NNRdmQ"
      },
      "source": [
        "__4c.__ (6 points) Count the words used in the loan descriptions (in the `desc` field) for each boolean status assigned in `statuses`. To do so, tokenize the (lowercased) description (using `word_tokenize` from `nltk.tokenize`) and then create two `Counter()` data structures that count the words in the descriptions for loans with statuses of `0` and `1`, respectively. Print the number of times the word 'loan' occurs in each set of descriptions."
      ]
    },
    {
      "cell_type": "code",
      "execution_count": 8,
      "metadata": {
        "colab": {
          "base_uri": "https://localhost:8080/"
        },
        "id": "2LqSrzfsQ9vQ",
        "outputId": "410d8ceb-5c31-450c-91dd-c1342e73fcdb"
      },
      "outputs": [
        {
          "output_type": "stream",
          "name": "stdout",
          "text": [
            "Number of times 'loan' occurs in descriptions of loans with a status of 0: 3238\n",
            "Number of times 'loan' occurs in descriptions of loans with a status of 1: 19423\n"
          ]
        }
      ],
      "source": [
        "from nltk.tokenize import word_tokenize\n",
        "from collections import Counter, defaultdict\n",
        "\n",
        "counts = defaultdict(Counter)\n",
        "\n",
        "#---Your code starts here---\n",
        "status_index = fields.index('loan_status')\n",
        "desc_index = fields.index('desc')\n",
        "\n",
        "# Define which statuses should be considered as 1 (e.g., 'Fully Paid') and which as 0\n",
        "status_1_values = {'Fully Paid', 'Does not meet the credit policy. Status:Fully Paid'}\n",
        "status_0_values = {'Charged Off', 'Default', 'Does not meet the credit policy. Status:Charged Off'}\n",
        "\n",
        "for row in loan_data:\n",
        "    status = row[status_index]\n",
        "    if status in status_1_values:\n",
        "        status = 1\n",
        "    elif status in status_0_values:\n",
        "        status = 0\n",
        "    else:\n",
        "        continue  # Skip rows with statuses that are not relevant\n",
        "\n",
        "    description = row[desc_index].lower()\n",
        "    tokens = word_tokenize(description)\n",
        "    counts[status].update(tokens)\n",
        "\n",
        "#---Your code stops here---\n",
        "\n",
        "print(\"Number of times 'loan' occurs in descriptions of loans with a status of 0:\", counts[0][\"loan\"])\n",
        "print(\"Number of times 'loan' occurs in descriptions of loans with a status of 1:\", counts[1][\"loan\"])"
      ]
    },
    {
      "cell_type": "markdown",
      "metadata": {
        "id": "D6V2yTh6sJWo"
      },
      "source": [
        "__4d.__ (5 points) From the counters above, print the top 25 words for loans of each boolean status. How many words are in the top 25 for both status types?"
      ]
    },
    {
      "cell_type": "code",
      "execution_count": 9,
      "metadata": {
        "colab": {
          "base_uri": "https://localhost:8080/"
        },
        "id": "3wrRwwbqqpY4",
        "outputId": "50584fdc-665f-4e6d-eb80-05ec2e43ac9d"
      },
      "outputs": [
        {
          "output_type": "stream",
          "name": "stdout",
          "text": [
            "Top 25 words for loans with a status of 0:\n",
            "[('>', 18828), ('<', 10148), ('br', 10148), ('on', 10113), ('to', 9653), ('borrower', 8731), ('added', 8698), ('i', 7300), ('and', 6039), ('my', 5813), ('credit', 5341), ('.', 4846), ('pay', 4029), ('a', 3957), ('off', 3397), ('debt', 3284), ('the', 3267), ('loan', 3238), ('cards', 2753), ('of', 2670), (',', 2633), ('have', 2432), ('for', 2428), ('this', 2311), ('card', 2042)]\n",
            "\n",
            "Top 25 words for loans with a status of 1:\n",
            "[('>', 102163), ('on', 56026), ('br', 54585), ('<', 54584), ('to', 54566), ('borrower', 47869), ('added', 47662), ('i', 41976), ('and', 32479), ('credit', 31187), ('my', 30728), ('.', 30637), ('a', 25565), ('the', 22037), ('pay', 21347), ('debt', 19745), ('loan', 19423), ('off', 19046), (',', 16056), ('of', 15125), ('cards', 15079), ('this', 14870), ('for', 13956), ('have', 13642), ('card', 13317)]\n",
            "\n",
            "Number of words in the top 25 for both status types: 25\n"
          ]
        }
      ],
      "source": [
        "#---Your code starts here---\n",
        "top_25_status_0 = counts[0].most_common(25)\n",
        "top_25_status_1 = counts[1].most_common(25)\n",
        "\n",
        "print(\"Top 25 words for loans with a status of 0:\")\n",
        "print(top_25_status_0)\n",
        "\n",
        "print(\"\\nTop 25 words for loans with a status of 1:\")\n",
        "print(top_25_status_1)\n",
        "\n",
        "# Find the words that are in the top 25 for both status types\n",
        "words_status_0 = {word for word, _ in top_25_status_0}\n",
        "words_status_1 = {word for word, _ in top_25_status_1}\n",
        "common_words = words_status_0 & words_status_1\n",
        "\n",
        "print(\"\\nNumber of words in the top 25 for both status types:\", len(common_words))\n",
        "#---Your code stops here---\n"
      ]
    },
    {
      "cell_type": "markdown",
      "metadata": {
        "id": "LQ5YUNLsRndd"
      },
      "source": [
        "__4e.__ (5 points) Determine which words are unique to each status type by creating two lists: one of words that occur in descriptions of loans with statuses of `0` but not in those of loans with statuses of `1`, and one for which the opposite is true. Print the number of words in each list."
      ]
    },
    {
      "cell_type": "code",
      "execution_count": 11,
      "metadata": {
        "colab": {
          "base_uri": "https://localhost:8080/"
        },
        "id": "CgcPc0WAQ9zZ",
        "outputId": "2db710cb-7988-454c-d010-8709077b2895"
      },
      "outputs": [
        {
          "output_type": "stream",
          "name": "stdout",
          "text": [
            "Number of words unique to status 0: 1764\n",
            "Number of words unique to status 1: 12773\n"
          ]
        }
      ],
      "source": [
        "#---Your code starts here---\n",
        "# Get all words for each status\n",
        "all_words_status_0 = set(counts[0].keys())\n",
        "all_words_status_1 = set(counts[1].keys())\n",
        "\n",
        "# Determine unique words for each status\n",
        "unique_to_status_0 = all_words_status_0 - all_words_status_1\n",
        "unique_to_status_1 = all_words_status_1 - all_words_status_0\n",
        "\n",
        "# Print the number of unique words for each status\n",
        "print(\"Number of words unique to status 0:\", len(unique_to_status_0))\n",
        "print(\"Number of words unique to status 1:\", len(unique_to_status_1))\n"
      ]
    },
    {
      "cell_type": "markdown",
      "metadata": {
        "id": "k7uK0H-MxeWv"
      },
      "source": [
        "__4f.__ (4 points) Print the top 25 unique words for loans of each boolean status. Do these sets of words indicate anything interesting about the differences between loan statuses?"
      ]
    },
    {
      "cell_type": "code",
      "execution_count": 13,
      "metadata": {
        "colab": {
          "base_uri": "https://localhost:8080/"
        },
        "id": "_DLRpELBxSLU",
        "outputId": "9f1f28c9-e527-4c53-e1b1-7fe2d3368ccd"
      },
      "outputs": [
        {
          "output_type": "stream",
          "name": "stdout",
          "text": [
            "Top 25 unique words for loans with a status of 0:\n",
            "[('ailing', 4), ('tent', 3), ('circumtance', 3), ('aarp', 3), ('moped', 3), ('payoffcreditcards', 3), ('plugged', 2), ('shirts', 2), ('exxonmobil', 2), ('doughnut', 2), ('refrigerator.', 2), ('sumer', 2), ('andother', 2), ('grades', 2), ('slavic', 2), ('enjoy.', 2), ('awaiting', 2), ('behalf.', 2), ('conslidation.', 2), ('hospitial', 2), ('payment.i', 2), ('finanacial', 2), ('unlimited', 2), ('industrial', 2), ('memorabilia', 2)]\n",
            "\n",
            "Top 25 unique words for loans with a status of 1:\n",
            "[('rsquo', 59), ('~', 44), ('rifle', 40), ('favorable', 33), ('1200', 28), ('broken', 27), ('gave', 26), ('11/16/13', 26), ('dog', 26), ('repairing', 25), ('roofing', 24), ('1,000', 23), ('750', 23), ('11/09/13', 23), ('relatively', 22), ('patrol', 22), ('atv', 21), ('liner', 21), ('defense', 21), ('daniel', 21), ('honda', 20), ('investors.', 20), ('toilet', 20), ('machine', 20), ('university', 20)]\n",
            "\n",
            "Analysis of the differences:\n",
            "The top 25 unique words for loans with a status of 0 may indicate specific reasons for default or other negative outcomes, such as terms related to financial hardship or specific payment issues.\n",
            "The top 25 unique words for loans with a status of 1 may reflect more positive outcomes, such as successful repayment or other favorable financial circumstances.\n",
            "\n",
            "These descriptions show some interesting trends. The unique words for loans with a status of 0 often reflect financial struggles or negative terms that may be associated with defaulting or other repayment issues. On the other hand, the unique words for loans with a status of 1 tend to be more positive or neutral, reflecting successful repayment or financial stability.\n"
          ]
        }
      ],
      "source": [
        "#---Your code starts here---\n",
        "# Determine unique words for each status\n",
        "unique_to_status_0 = all_words_status_0 - all_words_status_1\n",
        "unique_to_status_1 = all_words_status_1 - all_words_status_0\n",
        "\n",
        "# Get the counts of the unique words\n",
        "unique_counts_status_0 = {word: counts[0][word] for word in unique_to_status_0}\n",
        "unique_counts_status_1 = {word: counts[1][word] for word in unique_to_status_1}\n",
        "\n",
        "# Get the top 25 unique words for each status\n",
        "top_25_unique_status_0 = Counter(unique_counts_status_0).most_common(25)\n",
        "top_25_unique_status_1 = Counter(unique_counts_status_1).most_common(25)\n",
        "\n",
        "print(\"Top 25 unique words for loans with a status of 0:\")\n",
        "print(top_25_unique_status_0)\n",
        "\n",
        "print(\"\\nTop 25 unique words for loans with a status of 1:\")\n",
        "print(top_25_unique_status_1)\n",
        "\n",
        "# Analysis of the differences\n",
        "print(\"\\nAnalysis of the differences:\")\n",
        "print(\"The top 25 unique words for loans with a status of 0 may indicate specific reasons for default or other negative outcomes, such as terms related to financial hardship or specific payment issues.\")\n",
        "print(\"The top 25 unique words for loans with a status of 1 may reflect more positive outcomes, such as successful repayment or other favorable financial circumstances.\")\n",
        "\n",
        "#---Your code stops here---\n",
        "\n",
        "\n",
        "print(\"\\nThese descriptions show some interesting trends. The unique words for loans with a status of 0 often reflect financial struggles or negative terms that may be associated with defaulting or other repayment issues. On the other hand, the unique words for loans with a status of 1 tend to be more positive or neutral, reflecting successful repayment or financial stability.\")"
      ]
    }
  ],
  "metadata": {
    "colab": {
      "collapsed_sections": [
        "PKaSiFu_Gt0J",
        "I-1cdxy5ODPv",
        "6WuoOlUKOFrL"
      ],
      "provenance": []
    },
    "kernelspec": {
      "display_name": "Python 3",
      "language": "python",
      "name": "python3"
    },
    "language_info": {
      "codemirror_mode": {
        "name": "ipython",
        "version": 3
      },
      "file_extension": ".py",
      "mimetype": "text/x-python",
      "name": "python",
      "nbconvert_exporter": "python",
      "pygments_lexer": "ipython3",
      "version": "3.8.6"
    }
  },
  "nbformat": 4,
  "nbformat_minor": 0
}